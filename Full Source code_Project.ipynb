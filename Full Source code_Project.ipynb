{
  "nbformat": 4,
  "nbformat_minor": 0,
  "metadata": {
    "colab": {
      "name": "CS Project.ipynb",
      "provenance": [],
      "collapsed_sections": []
    },
    "kernelspec": {
      "name": "python3",
      "display_name": "Python 3"
    },
    "language_info": {
      "name": "python"
    }
  },
  "cells": [
    {
      "cell_type": "markdown",
      "source": [
        "# **Importing all required Packages**"
      ],
      "metadata": {
        "id": "H6_0U2Wft1Z8"
      }
    },
    {
      "cell_type": "code",
      "source": [
        "!pip install pyod"
      ],
      "metadata": {
        "colab": {
          "base_uri": "https://localhost:8080/"
        },
        "id": "IipTvsGK975E",
        "outputId": "d1a49536-9fd5-4684-a982-276eefaf6b42"
      },
      "execution_count": 2,
      "outputs": [
        {
          "output_type": "stream",
          "name": "stdout",
          "text": [
            "Requirement already satisfied: pyod in /usr/local/lib/python3.7/dist-packages (0.9.5)\n",
            "Requirement already satisfied: numpy>=1.13 in /usr/local/lib/python3.7/dist-packages (from pyod) (1.19.5)\n",
            "Requirement already satisfied: statsmodels in /usr/local/lib/python3.7/dist-packages (from pyod) (0.10.2)\n",
            "Requirement already satisfied: matplotlib in /usr/local/lib/python3.7/dist-packages (from pyod) (3.2.2)\n",
            "Requirement already satisfied: scikit-learn>=0.20.0 in /usr/local/lib/python3.7/dist-packages (from pyod) (1.0.1)\n",
            "Requirement already satisfied: numba>=0.35 in /usr/local/lib/python3.7/dist-packages (from pyod) (0.51.2)\n",
            "Requirement already satisfied: scipy>=1.3.1 in /usr/local/lib/python3.7/dist-packages (from pyod) (1.4.1)\n",
            "Requirement already satisfied: joblib in /usr/local/lib/python3.7/dist-packages (from pyod) (1.1.0)\n",
            "Requirement already satisfied: six in /usr/local/lib/python3.7/dist-packages (from pyod) (1.15.0)\n",
            "Requirement already satisfied: llvmlite<0.35,>=0.34.0.dev0 in /usr/local/lib/python3.7/dist-packages (from numba>=0.35->pyod) (0.34.0)\n",
            "Requirement already satisfied: setuptools in /usr/local/lib/python3.7/dist-packages (from numba>=0.35->pyod) (57.4.0)\n",
            "Requirement already satisfied: threadpoolctl>=2.0.0 in /usr/local/lib/python3.7/dist-packages (from scikit-learn>=0.20.0->pyod) (3.0.0)\n",
            "Requirement already satisfied: cycler>=0.10 in /usr/local/lib/python3.7/dist-packages (from matplotlib->pyod) (0.11.0)\n",
            "Requirement already satisfied: kiwisolver>=1.0.1 in /usr/local/lib/python3.7/dist-packages (from matplotlib->pyod) (1.3.2)\n",
            "Requirement already satisfied: pyparsing!=2.0.4,!=2.1.2,!=2.1.6,>=2.0.1 in /usr/local/lib/python3.7/dist-packages (from matplotlib->pyod) (3.0.6)\n",
            "Requirement already satisfied: python-dateutil>=2.1 in /usr/local/lib/python3.7/dist-packages (from matplotlib->pyod) (2.8.2)\n",
            "Requirement already satisfied: patsy>=0.4.0 in /usr/local/lib/python3.7/dist-packages (from statsmodels->pyod) (0.5.2)\n",
            "Requirement already satisfied: pandas>=0.19 in /usr/local/lib/python3.7/dist-packages (from statsmodels->pyod) (1.1.5)\n",
            "Requirement already satisfied: pytz>=2017.2 in /usr/local/lib/python3.7/dist-packages (from pandas>=0.19->statsmodels->pyod) (2018.9)\n"
          ]
        }
      ]
    },
    {
      "cell_type": "code",
      "source": [
        "pip install dtaidistance"
      ],
      "metadata": {
        "colab": {
          "base_uri": "https://localhost:8080/"
        },
        "id": "0zrzTLHNFCXB",
        "outputId": "bbd4571a-8716-4043-ca43-023593160d44"
      },
      "execution_count": 3,
      "outputs": [
        {
          "output_type": "stream",
          "name": "stdout",
          "text": [
            "Collecting dtaidistance\n",
            "  Downloading dtaidistance-2.3.2.tar.gz (1.1 MB)\n",
            "\u001b[?25l\r\u001b[K     |▎                               | 10 kB 24.9 MB/s eta 0:00:01\r\u001b[K     |▋                               | 20 kB 30.4 MB/s eta 0:00:01\r\u001b[K     |▉                               | 30 kB 33.1 MB/s eta 0:00:01\r\u001b[K     |█▏                              | 40 kB 34.5 MB/s eta 0:00:01\r\u001b[K     |█▌                              | 51 kB 35.7 MB/s eta 0:00:01\r\u001b[K     |█▊                              | 61 kB 34.6 MB/s eta 0:00:01\r\u001b[K     |██                              | 71 kB 30.7 MB/s eta 0:00:01\r\u001b[K     |██▍                             | 81 kB 30.9 MB/s eta 0:00:01\r\u001b[K     |██▋                             | 92 kB 31.0 MB/s eta 0:00:01\r\u001b[K     |███                             | 102 kB 31.6 MB/s eta 0:00:01\r\u001b[K     |███▎                            | 112 kB 31.6 MB/s eta 0:00:01\r\u001b[K     |███▌                            | 122 kB 31.6 MB/s eta 0:00:01\r\u001b[K     |███▉                            | 133 kB 31.6 MB/s eta 0:00:01\r\u001b[K     |████▏                           | 143 kB 31.6 MB/s eta 0:00:01\r\u001b[K     |████▍                           | 153 kB 31.6 MB/s eta 0:00:01\r\u001b[K     |████▊                           | 163 kB 31.6 MB/s eta 0:00:01\r\u001b[K     |█████                           | 174 kB 31.6 MB/s eta 0:00:01\r\u001b[K     |█████▎                          | 184 kB 31.6 MB/s eta 0:00:01\r\u001b[K     |█████▋                          | 194 kB 31.6 MB/s eta 0:00:01\r\u001b[K     |██████                          | 204 kB 31.6 MB/s eta 0:00:01\r\u001b[K     |██████▏                         | 215 kB 31.6 MB/s eta 0:00:01\r\u001b[K     |██████▌                         | 225 kB 31.6 MB/s eta 0:00:01\r\u001b[K     |██████▊                         | 235 kB 31.6 MB/s eta 0:00:01\r\u001b[K     |███████                         | 245 kB 31.6 MB/s eta 0:00:01\r\u001b[K     |███████▍                        | 256 kB 31.6 MB/s eta 0:00:01\r\u001b[K     |███████▋                        | 266 kB 31.6 MB/s eta 0:00:01\r\u001b[K     |████████                        | 276 kB 31.6 MB/s eta 0:00:01\r\u001b[K     |████████▎                       | 286 kB 31.6 MB/s eta 0:00:01\r\u001b[K     |████████▌                       | 296 kB 31.6 MB/s eta 0:00:01\r\u001b[K     |████████▉                       | 307 kB 31.6 MB/s eta 0:00:01\r\u001b[K     |█████████▏                      | 317 kB 31.6 MB/s eta 0:00:01\r\u001b[K     |█████████▍                      | 327 kB 31.6 MB/s eta 0:00:01\r\u001b[K     |█████████▊                      | 337 kB 31.6 MB/s eta 0:00:01\r\u001b[K     |██████████                      | 348 kB 31.6 MB/s eta 0:00:01\r\u001b[K     |██████████▎                     | 358 kB 31.6 MB/s eta 0:00:01\r\u001b[K     |██████████▋                     | 368 kB 31.6 MB/s eta 0:00:01\r\u001b[K     |███████████                     | 378 kB 31.6 MB/s eta 0:00:01\r\u001b[K     |███████████▏                    | 389 kB 31.6 MB/s eta 0:00:01\r\u001b[K     |███████████▌                    | 399 kB 31.6 MB/s eta 0:00:01\r\u001b[K     |███████████▉                    | 409 kB 31.6 MB/s eta 0:00:01\r\u001b[K     |████████████                    | 419 kB 31.6 MB/s eta 0:00:01\r\u001b[K     |████████████▍                   | 430 kB 31.6 MB/s eta 0:00:01\r\u001b[K     |████████████▋                   | 440 kB 31.6 MB/s eta 0:00:01\r\u001b[K     |█████████████                   | 450 kB 31.6 MB/s eta 0:00:01\r\u001b[K     |█████████████▎                  | 460 kB 31.6 MB/s eta 0:00:01\r\u001b[K     |█████████████▌                  | 471 kB 31.6 MB/s eta 0:00:01\r\u001b[K     |█████████████▉                  | 481 kB 31.6 MB/s eta 0:00:01\r\u001b[K     |██████████████▏                 | 491 kB 31.6 MB/s eta 0:00:01\r\u001b[K     |██████████████▍                 | 501 kB 31.6 MB/s eta 0:00:01\r\u001b[K     |██████████████▊                 | 512 kB 31.6 MB/s eta 0:00:01\r\u001b[K     |███████████████                 | 522 kB 31.6 MB/s eta 0:00:01\r\u001b[K     |███████████████▎                | 532 kB 31.6 MB/s eta 0:00:01\r\u001b[K     |███████████████▋                | 542 kB 31.6 MB/s eta 0:00:01\r\u001b[K     |████████████████                | 552 kB 31.6 MB/s eta 0:00:01\r\u001b[K     |████████████████▏               | 563 kB 31.6 MB/s eta 0:00:01\r\u001b[K     |████████████████▌               | 573 kB 31.6 MB/s eta 0:00:01\r\u001b[K     |████████████████▉               | 583 kB 31.6 MB/s eta 0:00:01\r\u001b[K     |█████████████████               | 593 kB 31.6 MB/s eta 0:00:01\r\u001b[K     |█████████████████▍              | 604 kB 31.6 MB/s eta 0:00:01\r\u001b[K     |█████████████████▊              | 614 kB 31.6 MB/s eta 0:00:01\r\u001b[K     |██████████████████              | 624 kB 31.6 MB/s eta 0:00:01\r\u001b[K     |██████████████████▎             | 634 kB 31.6 MB/s eta 0:00:01\r\u001b[K     |██████████████████▌             | 645 kB 31.6 MB/s eta 0:00:01\r\u001b[K     |██████████████████▉             | 655 kB 31.6 MB/s eta 0:00:01\r\u001b[K     |███████████████████▏            | 665 kB 31.6 MB/s eta 0:00:01\r\u001b[K     |███████████████████▍            | 675 kB 31.6 MB/s eta 0:00:01\r\u001b[K     |███████████████████▊            | 686 kB 31.6 MB/s eta 0:00:01\r\u001b[K     |████████████████████            | 696 kB 31.6 MB/s eta 0:00:01\r\u001b[K     |████████████████████▎           | 706 kB 31.6 MB/s eta 0:00:01\r\u001b[K     |████████████████████▋           | 716 kB 31.6 MB/s eta 0:00:01\r\u001b[K     |█████████████████████           | 727 kB 31.6 MB/s eta 0:00:01\r\u001b[K     |█████████████████████▏          | 737 kB 31.6 MB/s eta 0:00:01\r\u001b[K     |█████████████████████▌          | 747 kB 31.6 MB/s eta 0:00:01\r\u001b[K     |█████████████████████▉          | 757 kB 31.6 MB/s eta 0:00:01\r\u001b[K     |██████████████████████          | 768 kB 31.6 MB/s eta 0:00:01\r\u001b[K     |██████████████████████▍         | 778 kB 31.6 MB/s eta 0:00:01\r\u001b[K     |██████████████████████▊         | 788 kB 31.6 MB/s eta 0:00:01\r\u001b[K     |███████████████████████         | 798 kB 31.6 MB/s eta 0:00:01\r\u001b[K     |███████████████████████▎        | 808 kB 31.6 MB/s eta 0:00:01\r\u001b[K     |███████████████████████▋        | 819 kB 31.6 MB/s eta 0:00:01\r\u001b[K     |███████████████████████▉        | 829 kB 31.6 MB/s eta 0:00:01\r\u001b[K     |████████████████████████▏       | 839 kB 31.6 MB/s eta 0:00:01\r\u001b[K     |████████████████████████▍       | 849 kB 31.6 MB/s eta 0:00:01\r\u001b[K     |████████████████████████▊       | 860 kB 31.6 MB/s eta 0:00:01\r\u001b[K     |█████████████████████████       | 870 kB 31.6 MB/s eta 0:00:01\r\u001b[K     |█████████████████████████▎      | 880 kB 31.6 MB/s eta 0:00:01\r\u001b[K     |█████████████████████████▋      | 890 kB 31.6 MB/s eta 0:00:01\r\u001b[K     |██████████████████████████      | 901 kB 31.6 MB/s eta 0:00:01\r\u001b[K     |██████████████████████████▏     | 911 kB 31.6 MB/s eta 0:00:01\r\u001b[K     |██████████████████████████▌     | 921 kB 31.6 MB/s eta 0:00:01\r\u001b[K     |██████████████████████████▉     | 931 kB 31.6 MB/s eta 0:00:01\r\u001b[K     |███████████████████████████     | 942 kB 31.6 MB/s eta 0:00:01\r\u001b[K     |███████████████████████████▍    | 952 kB 31.6 MB/s eta 0:00:01\r\u001b[K     |███████████████████████████▊    | 962 kB 31.6 MB/s eta 0:00:01\r\u001b[K     |████████████████████████████    | 972 kB 31.6 MB/s eta 0:00:01\r\u001b[K     |████████████████████████████▎   | 983 kB 31.6 MB/s eta 0:00:01\r\u001b[K     |████████████████████████████▋   | 993 kB 31.6 MB/s eta 0:00:01\r\u001b[K     |████████████████████████████▉   | 1.0 MB 31.6 MB/s eta 0:00:01\r\u001b[K     |█████████████████████████████▏  | 1.0 MB 31.6 MB/s eta 0:00:01\r\u001b[K     |█████████████████████████████▌  | 1.0 MB 31.6 MB/s eta 0:00:01\r\u001b[K     |█████████████████████████████▊  | 1.0 MB 31.6 MB/s eta 0:00:01\r\u001b[K     |██████████████████████████████  | 1.0 MB 31.6 MB/s eta 0:00:01\r\u001b[K     |██████████████████████████████▍ | 1.1 MB 31.6 MB/s eta 0:00:01\r\u001b[K     |██████████████████████████████▋ | 1.1 MB 31.6 MB/s eta 0:00:01\r\u001b[K     |███████████████████████████████ | 1.1 MB 31.6 MB/s eta 0:00:01\r\u001b[K     |███████████████████████████████▏| 1.1 MB 31.6 MB/s eta 0:00:01\r\u001b[K     |███████████████████████████████▌| 1.1 MB 31.6 MB/s eta 0:00:01\r\u001b[K     |███████████████████████████████▉| 1.1 MB 31.6 MB/s eta 0:00:01\r\u001b[K     |████████████████████████████████| 1.1 MB 31.6 MB/s \n",
            "\u001b[?25h  Installing build dependencies ... \u001b[?25l\u001b[?25hdone\n",
            "  Getting requirements to build wheel ... \u001b[?25l\u001b[?25hdone\n",
            "    Preparing wheel metadata ... \u001b[?25l\u001b[?25hdone\n",
            "Requirement already satisfied: numpy in /usr/local/lib/python3.7/dist-packages (from dtaidistance) (1.19.5)\n",
            "Requirement already satisfied: cython>=0.29.6 in /usr/local/lib/python3.7/dist-packages (from dtaidistance) (0.29.24)\n",
            "Building wheels for collected packages: dtaidistance\n",
            "  Building wheel for dtaidistance (PEP 517) ... \u001b[?25l\u001b[?25hdone\n",
            "  Created wheel for dtaidistance: filename=dtaidistance-2.3.2-cp37-cp37m-linux_x86_64.whl size=1586354 sha256=3db367c6bcf3d3ee8d0e564104ddc96fa1e1cc7adb50203123b5a3e2e7fca987\n",
            "  Stored in directory: /root/.cache/pip/wheels/5e/4a/9a/30f9efb3926e3c2f28231680685b36d0041466a33e4b8f8367\n",
            "Successfully built dtaidistance\n",
            "Installing collected packages: dtaidistance\n",
            "Successfully installed dtaidistance-2.3.2\n"
          ]
        }
      ]
    },
    {
      "cell_type": "code",
      "source": [
        "! pip install anomatools"
      ],
      "metadata": {
        "colab": {
          "base_uri": "https://localhost:8080/"
        },
        "id": "H7Ya4ON_DW9G",
        "outputId": "d195cbc8-c999-492d-a44e-3535f4db8269"
      },
      "execution_count": 4,
      "outputs": [
        {
          "output_type": "stream",
          "name": "stdout",
          "text": [
            "Collecting anomatools\n",
            "  Downloading anomatools-2.3.0-py3-none-any.whl (25 kB)\n",
            "Requirement already satisfied: setuptools>=41.6.0 in /usr/local/lib/python3.7/dist-packages (from anomatools) (57.4.0)\n",
            "Requirement already satisfied: scikit-learn>=0.21.3 in /usr/local/lib/python3.7/dist-packages (from anomatools) (1.0.1)\n",
            "Requirement already satisfied: scipy>=0.19.1 in /usr/local/lib/python3.7/dist-packages (from anomatools) (1.4.1)\n",
            "Requirement already satisfied: numpy>=1.13.3 in /usr/local/lib/python3.7/dist-packages (from anomatools) (1.19.5)\n",
            "Requirement already satisfied: threadpoolctl>=2.0.0 in /usr/local/lib/python3.7/dist-packages (from scikit-learn>=0.21.3->anomatools) (3.0.0)\n",
            "Requirement already satisfied: joblib>=0.11 in /usr/local/lib/python3.7/dist-packages (from scikit-learn>=0.21.3->anomatools) (1.1.0)\n",
            "Installing collected packages: anomatools\n",
            "Successfully installed anomatools-2.3.0\n"
          ]
        }
      ]
    },
    {
      "cell_type": "code",
      "metadata": {
        "id": "FPWHiVv7IKZO"
      },
      "source": [
        "import matplotlib.pyplot as plt\n",
        "import pandas as pd\n",
        "import numpy as np\n",
        "from sklearn.metrics import accuracy_score\n",
        "from sklearn.metrics import roc_curve\n",
        "\n",
        "from sklearn.neighbors import NearestNeighbors\n",
        "from sklearn.cluster import DBSCAN\n",
        "from sklearn.neighbors import LocalOutlierFactor\n",
        "from sklearn.svm import OneClassSVM\n",
        "from sklearn.ensemble import IsolationForest\n",
        "from anomatools.models import iNNE\n",
        "from pyod.models.cblof import CBLOF"
      ],
      "execution_count": 5,
      "outputs": []
    },
    {
      "cell_type": "code",
      "metadata": {
        "id": "6p5PY4dUYSpL",
        "colab": {
          "base_uri": "https://localhost:8080/"
        },
        "outputId": "6c3a1fc5-653b-42ea-cd9e-18ef969b60b3"
      },
      "source": [
        "from google.colab import drive\n",
        "drive.mount('/content/drive')"
      ],
      "execution_count": 7,
      "outputs": [
        {
          "output_type": "stream",
          "name": "stdout",
          "text": [
            "Mounted at /content/drive\n"
          ]
        }
      ]
    },
    {
      "cell_type": "code",
      "metadata": {
        "colab": {
          "base_uri": "https://localhost:8080/",
          "height": 226
        },
        "id": "2iXHMii8Ia1y",
        "outputId": "fb1bd235-36e8-4f61-8f03-04b601524af2"
      },
      "source": [
        "df = pd.read_csv('DSL-StrongPasswordData.csv')\n",
        "df.head()"
      ],
      "execution_count": 8,
      "outputs": [
        {
          "output_type": "execute_result",
          "data": {
            "text/html": [
              "<div>\n",
              "<style scoped>\n",
              "    .dataframe tbody tr th:only-of-type {\n",
              "        vertical-align: middle;\n",
              "    }\n",
              "\n",
              "    .dataframe tbody tr th {\n",
              "        vertical-align: top;\n",
              "    }\n",
              "\n",
              "    .dataframe thead th {\n",
              "        text-align: right;\n",
              "    }\n",
              "</style>\n",
              "<table border=\"1\" class=\"dataframe\">\n",
              "  <thead>\n",
              "    <tr style=\"text-align: right;\">\n",
              "      <th></th>\n",
              "      <th>subject</th>\n",
              "      <th>sessionIndex</th>\n",
              "      <th>rep</th>\n",
              "      <th>H.period</th>\n",
              "      <th>DD.period.t</th>\n",
              "      <th>UD.period.t</th>\n",
              "      <th>H.t</th>\n",
              "      <th>DD.t.i</th>\n",
              "      <th>UD.t.i</th>\n",
              "      <th>H.i</th>\n",
              "      <th>DD.i.e</th>\n",
              "      <th>UD.i.e</th>\n",
              "      <th>H.e</th>\n",
              "      <th>DD.e.five</th>\n",
              "      <th>UD.e.five</th>\n",
              "      <th>H.five</th>\n",
              "      <th>DD.five.Shift.r</th>\n",
              "      <th>UD.five.Shift.r</th>\n",
              "      <th>H.Shift.r</th>\n",
              "      <th>DD.Shift.r.o</th>\n",
              "      <th>UD.Shift.r.o</th>\n",
              "      <th>H.o</th>\n",
              "      <th>DD.o.a</th>\n",
              "      <th>UD.o.a</th>\n",
              "      <th>H.a</th>\n",
              "      <th>DD.a.n</th>\n",
              "      <th>UD.a.n</th>\n",
              "      <th>H.n</th>\n",
              "      <th>DD.n.l</th>\n",
              "      <th>UD.n.l</th>\n",
              "      <th>H.l</th>\n",
              "      <th>DD.l.Return</th>\n",
              "      <th>UD.l.Return</th>\n",
              "      <th>H.Return</th>\n",
              "    </tr>\n",
              "  </thead>\n",
              "  <tbody>\n",
              "    <tr>\n",
              "      <th>0</th>\n",
              "      <td>s002</td>\n",
              "      <td>1</td>\n",
              "      <td>1</td>\n",
              "      <td>0.1491</td>\n",
              "      <td>0.3979</td>\n",
              "      <td>0.2488</td>\n",
              "      <td>0.1069</td>\n",
              "      <td>0.1674</td>\n",
              "      <td>0.0605</td>\n",
              "      <td>0.1169</td>\n",
              "      <td>0.2212</td>\n",
              "      <td>0.1043</td>\n",
              "      <td>0.1417</td>\n",
              "      <td>1.1885</td>\n",
              "      <td>1.0468</td>\n",
              "      <td>0.1146</td>\n",
              "      <td>1.6055</td>\n",
              "      <td>1.4909</td>\n",
              "      <td>0.1067</td>\n",
              "      <td>0.7590</td>\n",
              "      <td>0.6523</td>\n",
              "      <td>0.1016</td>\n",
              "      <td>0.2136</td>\n",
              "      <td>0.1120</td>\n",
              "      <td>0.1349</td>\n",
              "      <td>0.1484</td>\n",
              "      <td>0.0135</td>\n",
              "      <td>0.0932</td>\n",
              "      <td>0.3515</td>\n",
              "      <td>0.2583</td>\n",
              "      <td>0.1338</td>\n",
              "      <td>0.3509</td>\n",
              "      <td>0.2171</td>\n",
              "      <td>0.0742</td>\n",
              "    </tr>\n",
              "    <tr>\n",
              "      <th>1</th>\n",
              "      <td>s002</td>\n",
              "      <td>1</td>\n",
              "      <td>2</td>\n",
              "      <td>0.1111</td>\n",
              "      <td>0.3451</td>\n",
              "      <td>0.2340</td>\n",
              "      <td>0.0694</td>\n",
              "      <td>0.1283</td>\n",
              "      <td>0.0589</td>\n",
              "      <td>0.0908</td>\n",
              "      <td>0.1357</td>\n",
              "      <td>0.0449</td>\n",
              "      <td>0.0829</td>\n",
              "      <td>1.1970</td>\n",
              "      <td>1.1141</td>\n",
              "      <td>0.0689</td>\n",
              "      <td>0.7822</td>\n",
              "      <td>0.7133</td>\n",
              "      <td>0.1570</td>\n",
              "      <td>0.7877</td>\n",
              "      <td>0.6307</td>\n",
              "      <td>0.1066</td>\n",
              "      <td>0.1684</td>\n",
              "      <td>0.0618</td>\n",
              "      <td>0.1412</td>\n",
              "      <td>0.2558</td>\n",
              "      <td>0.1146</td>\n",
              "      <td>0.1146</td>\n",
              "      <td>0.2642</td>\n",
              "      <td>0.1496</td>\n",
              "      <td>0.0839</td>\n",
              "      <td>0.2756</td>\n",
              "      <td>0.1917</td>\n",
              "      <td>0.0747</td>\n",
              "    </tr>\n",
              "    <tr>\n",
              "      <th>2</th>\n",
              "      <td>s002</td>\n",
              "      <td>1</td>\n",
              "      <td>3</td>\n",
              "      <td>0.1328</td>\n",
              "      <td>0.2072</td>\n",
              "      <td>0.0744</td>\n",
              "      <td>0.0731</td>\n",
              "      <td>0.1291</td>\n",
              "      <td>0.0560</td>\n",
              "      <td>0.0821</td>\n",
              "      <td>0.1542</td>\n",
              "      <td>0.0721</td>\n",
              "      <td>0.0808</td>\n",
              "      <td>1.0408</td>\n",
              "      <td>0.9600</td>\n",
              "      <td>0.0892</td>\n",
              "      <td>0.6203</td>\n",
              "      <td>0.5311</td>\n",
              "      <td>0.1454</td>\n",
              "      <td>0.7195</td>\n",
              "      <td>0.5741</td>\n",
              "      <td>0.1365</td>\n",
              "      <td>0.2931</td>\n",
              "      <td>0.1566</td>\n",
              "      <td>0.1621</td>\n",
              "      <td>0.2332</td>\n",
              "      <td>0.0711</td>\n",
              "      <td>0.1172</td>\n",
              "      <td>0.2705</td>\n",
              "      <td>0.1533</td>\n",
              "      <td>0.1085</td>\n",
              "      <td>0.2847</td>\n",
              "      <td>0.1762</td>\n",
              "      <td>0.0945</td>\n",
              "    </tr>\n",
              "    <tr>\n",
              "      <th>3</th>\n",
              "      <td>s002</td>\n",
              "      <td>1</td>\n",
              "      <td>4</td>\n",
              "      <td>0.1291</td>\n",
              "      <td>0.2515</td>\n",
              "      <td>0.1224</td>\n",
              "      <td>0.1059</td>\n",
              "      <td>0.2495</td>\n",
              "      <td>0.1436</td>\n",
              "      <td>0.1040</td>\n",
              "      <td>0.2038</td>\n",
              "      <td>0.0998</td>\n",
              "      <td>0.0900</td>\n",
              "      <td>1.0556</td>\n",
              "      <td>0.9656</td>\n",
              "      <td>0.0913</td>\n",
              "      <td>1.2564</td>\n",
              "      <td>1.1651</td>\n",
              "      <td>0.1454</td>\n",
              "      <td>0.7550</td>\n",
              "      <td>0.6096</td>\n",
              "      <td>0.0956</td>\n",
              "      <td>0.1530</td>\n",
              "      <td>0.0574</td>\n",
              "      <td>0.1457</td>\n",
              "      <td>0.1629</td>\n",
              "      <td>0.0172</td>\n",
              "      <td>0.0866</td>\n",
              "      <td>0.2341</td>\n",
              "      <td>0.1475</td>\n",
              "      <td>0.0845</td>\n",
              "      <td>0.3232</td>\n",
              "      <td>0.2387</td>\n",
              "      <td>0.0813</td>\n",
              "    </tr>\n",
              "    <tr>\n",
              "      <th>4</th>\n",
              "      <td>s002</td>\n",
              "      <td>1</td>\n",
              "      <td>5</td>\n",
              "      <td>0.1249</td>\n",
              "      <td>0.2317</td>\n",
              "      <td>0.1068</td>\n",
              "      <td>0.0895</td>\n",
              "      <td>0.1676</td>\n",
              "      <td>0.0781</td>\n",
              "      <td>0.0903</td>\n",
              "      <td>0.1589</td>\n",
              "      <td>0.0686</td>\n",
              "      <td>0.0805</td>\n",
              "      <td>0.8629</td>\n",
              "      <td>0.7824</td>\n",
              "      <td>0.0742</td>\n",
              "      <td>0.8955</td>\n",
              "      <td>0.8213</td>\n",
              "      <td>0.1243</td>\n",
              "      <td>0.7632</td>\n",
              "      <td>0.6389</td>\n",
              "      <td>0.0430</td>\n",
              "      <td>0.1975</td>\n",
              "      <td>0.1545</td>\n",
              "      <td>0.1312</td>\n",
              "      <td>0.1582</td>\n",
              "      <td>0.0270</td>\n",
              "      <td>0.0884</td>\n",
              "      <td>0.2517</td>\n",
              "      <td>0.1633</td>\n",
              "      <td>0.0903</td>\n",
              "      <td>0.2517</td>\n",
              "      <td>0.1614</td>\n",
              "      <td>0.0818</td>\n",
              "    </tr>\n",
              "  </tbody>\n",
              "</table>\n",
              "</div>"
            ],
            "text/plain": [
              "  subject  sessionIndex  rep  ...  DD.l.Return  UD.l.Return  H.Return\n",
              "0    s002             1    1  ...       0.3509       0.2171    0.0742\n",
              "1    s002             1    2  ...       0.2756       0.1917    0.0747\n",
              "2    s002             1    3  ...       0.2847       0.1762    0.0945\n",
              "3    s002             1    4  ...       0.3232       0.2387    0.0813\n",
              "4    s002             1    5  ...       0.2517       0.1614    0.0818\n",
              "\n",
              "[5 rows x 34 columns]"
            ]
          },
          "metadata": {},
          "execution_count": 8
        }
      ]
    },
    {
      "cell_type": "code",
      "metadata": {
        "id": "Z0mJUsU_wEgr"
      },
      "source": [
        "subjects = df[\"subject\"].unique()"
      ],
      "execution_count": 9,
      "outputs": []
    },
    {
      "cell_type": "markdown",
      "source": [
        "# **Calculating Most Frequent Values**"
      ],
      "metadata": {
        "id": "tilDg_1vrBmN"
      }
    },
    {
      "cell_type": "code",
      "source": [
        "def most_frequent( List):\n",
        "    # print( set(  List  ))\n",
        "    # print( List.count   ) )\n",
        "    return max( set(List), key = List.count)"
      ],
      "metadata": {
        "id": "2WiNhfKerABN"
      },
      "execution_count": 10,
      "outputs": []
    },
    {
      "cell_type": "code",
      "source": [
        "def Compute_Predicted_Labels( y_true , y_pred ):\n",
        "  predicted_labels = [  ] \n",
        "\n",
        "  for x in range(len(y_true)) :\n",
        "    if (y_true[ x ] == y_pred[ x ]) :\n",
        "      predicted_labels.append( 1 )      #####      Normals \n",
        "    else:\n",
        "      predicted_labels.append( 0 )      #####    outliers\n",
        "        \n",
        "  return predicted_labels"
      ],
      "metadata": {
        "id": "jmrRkArtu_OA"
      },
      "execution_count": 11,
      "outputs": []
    },
    {
      "cell_type": "markdown",
      "metadata": {
        "id": "f84-NwJooJo8"
      },
      "source": [
        "# Nearest-neighbor based on Mahalanobis distance"
      ]
    },
    {
      "cell_type": "code",
      "metadata": {
        "colab": {
          "base_uri": "https://localhost:8080/"
        },
        "id": "_6sxKQ0uVw9R",
        "outputId": "7713c72b-b4e2-4022-fb3e-9550a732d21c"
      },
      "source": [
        "nb_h_accuracies = []\n",
        "nb_h_eers = []\n",
        "nb_h_scores = []\n",
        "\n",
        "Predicted_labels_All_Mahalanobis = [  ] \n",
        "\n",
        "\n",
        "for subject in subjects:           \n",
        "  # Consider current subject as genuine and rest as imposters\n",
        "  # !!!!!!!!!!!!!!!!!!!!!!! to be seen the df  whether it will be 51 or not\n",
        "  genuine_df = df.loc[df.subject == subject, \"H.period\":\"H.Return\"]\n",
        "  imposter_df = df.loc[df.subject != subject, :]\n",
        "  \n",
        "  genuine_df = genuine_df.reset_index()\n",
        "  imposter_df = imposter_df.reset_index() \n",
        "\n",
        " \n",
        "  train = genuine_df[200:]\n",
        "  train.drop('index', axis=1, inplace=True)\n",
        "\n",
        "\n",
        "  # True set (200 records)\n",
        "  test_genuine = genuine_df[:200]\n",
        "  test_genuine = test_genuine.reset_index()\n",
        "\n",
        "  test_genuine.drop('level_0', axis=1, inplace=True)\n",
        "  test_genuine.drop('index', axis=1, inplace=True)\n",
        "    \n",
        "    \n",
        "  # False set (200 records, 4 per imposter, 50 imposters in all)\n",
        "  test_imposter = imposter_df.groupby(\"subject\").head(4).loc[:, \"H.period\":\"H.Return\"]\n",
        "  test_imposter = test_imposter.reset_index()\n",
        "  test_imposter.drop('index', axis=1, inplace=True)\n",
        "\n",
        "  data = test_genuine.append(test_imposter, ignore_index=True)\n",
        "\n",
        "  # y_true\n",
        "  y_true = [0]*len(test_genuine) + [-1]*len(test_imposter)\n",
        "  #metric='mahalanobis', metric_params={'VI': np.linalg.inv(np.cov(train.values))\n",
        "\n",
        "\n",
        "  nb_h = NearestNeighbors(algorithm='ball_tree', leaf_size= 34, n_neighbors=20, radius=0)\n",
        "  nb_h.fit(train.values) \n",
        "  # data => test data\n",
        "  distances, indeces = nb_h.kneighbors(data.values, n_neighbors=1)\n",
        "  nb_h_scores.append(distances)\n",
        "\n",
        "  th=np.mean(distances)\n",
        "  nb_h_outlier_index = np.where(distances.mean(axis = 1) > th ) # index of outliers \n",
        "  nb_h_outlier_values = data.iloc[nb_h_outlier_index]\n",
        "\n",
        "  y_pred = []\n",
        "  for i in range(len(data)):\n",
        "    if (i in nb_h_outlier_index[0]):\n",
        "      y_pred.append(-1)\n",
        "    else:\n",
        "      y_pred.append(0)\n",
        "  \n",
        "  Predicted_labels_All_Mahalanobis.append(  Compute_Predicted_Labels(  y_true , y_pred  ) )\n",
        "  \n",
        "  nb_h_accuracies.append(accuracy_score(y_true, y_pred))\n",
        "\n",
        "  fpr, tpr, threshold = roc_curve(y_true, y_pred, pos_label=0)\n",
        "  fnr = 1 - tpr\n",
        "  eer = fpr[np.nanargmin(np.absolute((fnr - fpr)))]\n",
        "  nb_h_eers.append(eer)"
      ],
      "execution_count": 30,
      "outputs": [
        {
          "output_type": "stream",
          "name": "stderr",
          "text": [
            "/usr/local/lib/python3.7/dist-packages/pandas/core/frame.py:4174: SettingWithCopyWarning: \n",
            "A value is trying to be set on a copy of a slice from a DataFrame\n",
            "\n",
            "See the caveats in the documentation: https://pandas.pydata.org/pandas-docs/stable/user_guide/indexing.html#returning-a-view-versus-a-copy\n",
            "  errors=errors,\n",
            "/usr/local/lib/python3.7/dist-packages/pandas/core/frame.py:4174: SettingWithCopyWarning: \n",
            "A value is trying to be set on a copy of a slice from a DataFrame\n",
            "\n",
            "See the caveats in the documentation: https://pandas.pydata.org/pandas-docs/stable/user_guide/indexing.html#returning-a-view-versus-a-copy\n",
            "  errors=errors,\n",
            "/usr/local/lib/python3.7/dist-packages/pandas/core/frame.py:4174: SettingWithCopyWarning: \n",
            "A value is trying to be set on a copy of a slice from a DataFrame\n",
            "\n",
            "See the caveats in the documentation: https://pandas.pydata.org/pandas-docs/stable/user_guide/indexing.html#returning-a-view-versus-a-copy\n",
            "  errors=errors,\n",
            "/usr/local/lib/python3.7/dist-packages/pandas/core/frame.py:4174: SettingWithCopyWarning: \n",
            "A value is trying to be set on a copy of a slice from a DataFrame\n",
            "\n",
            "See the caveats in the documentation: https://pandas.pydata.org/pandas-docs/stable/user_guide/indexing.html#returning-a-view-versus-a-copy\n",
            "  errors=errors,\n",
            "/usr/local/lib/python3.7/dist-packages/pandas/core/frame.py:4174: SettingWithCopyWarning: \n",
            "A value is trying to be set on a copy of a slice from a DataFrame\n",
            "\n",
            "See the caveats in the documentation: https://pandas.pydata.org/pandas-docs/stable/user_guide/indexing.html#returning-a-view-versus-a-copy\n",
            "  errors=errors,\n",
            "/usr/local/lib/python3.7/dist-packages/pandas/core/frame.py:4174: SettingWithCopyWarning: \n",
            "A value is trying to be set on a copy of a slice from a DataFrame\n",
            "\n",
            "See the caveats in the documentation: https://pandas.pydata.org/pandas-docs/stable/user_guide/indexing.html#returning-a-view-versus-a-copy\n",
            "  errors=errors,\n",
            "/usr/local/lib/python3.7/dist-packages/pandas/core/frame.py:4174: SettingWithCopyWarning: \n",
            "A value is trying to be set on a copy of a slice from a DataFrame\n",
            "\n",
            "See the caveats in the documentation: https://pandas.pydata.org/pandas-docs/stable/user_guide/indexing.html#returning-a-view-versus-a-copy\n",
            "  errors=errors,\n",
            "/usr/local/lib/python3.7/dist-packages/pandas/core/frame.py:4174: SettingWithCopyWarning: \n",
            "A value is trying to be set on a copy of a slice from a DataFrame\n",
            "\n",
            "See the caveats in the documentation: https://pandas.pydata.org/pandas-docs/stable/user_guide/indexing.html#returning-a-view-versus-a-copy\n",
            "  errors=errors,\n",
            "/usr/local/lib/python3.7/dist-packages/pandas/core/frame.py:4174: SettingWithCopyWarning: \n",
            "A value is trying to be set on a copy of a slice from a DataFrame\n",
            "\n",
            "See the caveats in the documentation: https://pandas.pydata.org/pandas-docs/stable/user_guide/indexing.html#returning-a-view-versus-a-copy\n",
            "  errors=errors,\n",
            "/usr/local/lib/python3.7/dist-packages/pandas/core/frame.py:4174: SettingWithCopyWarning: \n",
            "A value is trying to be set on a copy of a slice from a DataFrame\n",
            "\n",
            "See the caveats in the documentation: https://pandas.pydata.org/pandas-docs/stable/user_guide/indexing.html#returning-a-view-versus-a-copy\n",
            "  errors=errors,\n",
            "/usr/local/lib/python3.7/dist-packages/pandas/core/frame.py:4174: SettingWithCopyWarning: \n",
            "A value is trying to be set on a copy of a slice from a DataFrame\n",
            "\n",
            "See the caveats in the documentation: https://pandas.pydata.org/pandas-docs/stable/user_guide/indexing.html#returning-a-view-versus-a-copy\n",
            "  errors=errors,\n",
            "/usr/local/lib/python3.7/dist-packages/pandas/core/frame.py:4174: SettingWithCopyWarning: \n",
            "A value is trying to be set on a copy of a slice from a DataFrame\n",
            "\n",
            "See the caveats in the documentation: https://pandas.pydata.org/pandas-docs/stable/user_guide/indexing.html#returning-a-view-versus-a-copy\n",
            "  errors=errors,\n",
            "/usr/local/lib/python3.7/dist-packages/pandas/core/frame.py:4174: SettingWithCopyWarning: \n",
            "A value is trying to be set on a copy of a slice from a DataFrame\n",
            "\n",
            "See the caveats in the documentation: https://pandas.pydata.org/pandas-docs/stable/user_guide/indexing.html#returning-a-view-versus-a-copy\n",
            "  errors=errors,\n",
            "/usr/local/lib/python3.7/dist-packages/pandas/core/frame.py:4174: SettingWithCopyWarning: \n",
            "A value is trying to be set on a copy of a slice from a DataFrame\n",
            "\n",
            "See the caveats in the documentation: https://pandas.pydata.org/pandas-docs/stable/user_guide/indexing.html#returning-a-view-versus-a-copy\n",
            "  errors=errors,\n",
            "/usr/local/lib/python3.7/dist-packages/pandas/core/frame.py:4174: SettingWithCopyWarning: \n",
            "A value is trying to be set on a copy of a slice from a DataFrame\n",
            "\n",
            "See the caveats in the documentation: https://pandas.pydata.org/pandas-docs/stable/user_guide/indexing.html#returning-a-view-versus-a-copy\n",
            "  errors=errors,\n",
            "/usr/local/lib/python3.7/dist-packages/pandas/core/frame.py:4174: SettingWithCopyWarning: \n",
            "A value is trying to be set on a copy of a slice from a DataFrame\n",
            "\n",
            "See the caveats in the documentation: https://pandas.pydata.org/pandas-docs/stable/user_guide/indexing.html#returning-a-view-versus-a-copy\n",
            "  errors=errors,\n",
            "/usr/local/lib/python3.7/dist-packages/pandas/core/frame.py:4174: SettingWithCopyWarning: \n",
            "A value is trying to be set on a copy of a slice from a DataFrame\n",
            "\n",
            "See the caveats in the documentation: https://pandas.pydata.org/pandas-docs/stable/user_guide/indexing.html#returning-a-view-versus-a-copy\n",
            "  errors=errors,\n",
            "/usr/local/lib/python3.7/dist-packages/pandas/core/frame.py:4174: SettingWithCopyWarning: \n",
            "A value is trying to be set on a copy of a slice from a DataFrame\n",
            "\n",
            "See the caveats in the documentation: https://pandas.pydata.org/pandas-docs/stable/user_guide/indexing.html#returning-a-view-versus-a-copy\n",
            "  errors=errors,\n",
            "/usr/local/lib/python3.7/dist-packages/pandas/core/frame.py:4174: SettingWithCopyWarning: \n",
            "A value is trying to be set on a copy of a slice from a DataFrame\n",
            "\n",
            "See the caveats in the documentation: https://pandas.pydata.org/pandas-docs/stable/user_guide/indexing.html#returning-a-view-versus-a-copy\n",
            "  errors=errors,\n",
            "/usr/local/lib/python3.7/dist-packages/pandas/core/frame.py:4174: SettingWithCopyWarning: \n",
            "A value is trying to be set on a copy of a slice from a DataFrame\n",
            "\n",
            "See the caveats in the documentation: https://pandas.pydata.org/pandas-docs/stable/user_guide/indexing.html#returning-a-view-versus-a-copy\n",
            "  errors=errors,\n",
            "/usr/local/lib/python3.7/dist-packages/pandas/core/frame.py:4174: SettingWithCopyWarning: \n",
            "A value is trying to be set on a copy of a slice from a DataFrame\n",
            "\n",
            "See the caveats in the documentation: https://pandas.pydata.org/pandas-docs/stable/user_guide/indexing.html#returning-a-view-versus-a-copy\n",
            "  errors=errors,\n",
            "/usr/local/lib/python3.7/dist-packages/pandas/core/frame.py:4174: SettingWithCopyWarning: \n",
            "A value is trying to be set on a copy of a slice from a DataFrame\n",
            "\n",
            "See the caveats in the documentation: https://pandas.pydata.org/pandas-docs/stable/user_guide/indexing.html#returning-a-view-versus-a-copy\n",
            "  errors=errors,\n",
            "/usr/local/lib/python3.7/dist-packages/pandas/core/frame.py:4174: SettingWithCopyWarning: \n",
            "A value is trying to be set on a copy of a slice from a DataFrame\n",
            "\n",
            "See the caveats in the documentation: https://pandas.pydata.org/pandas-docs/stable/user_guide/indexing.html#returning-a-view-versus-a-copy\n",
            "  errors=errors,\n",
            "/usr/local/lib/python3.7/dist-packages/pandas/core/frame.py:4174: SettingWithCopyWarning: \n",
            "A value is trying to be set on a copy of a slice from a DataFrame\n",
            "\n",
            "See the caveats in the documentation: https://pandas.pydata.org/pandas-docs/stable/user_guide/indexing.html#returning-a-view-versus-a-copy\n",
            "  errors=errors,\n",
            "/usr/local/lib/python3.7/dist-packages/pandas/core/frame.py:4174: SettingWithCopyWarning: \n",
            "A value is trying to be set on a copy of a slice from a DataFrame\n",
            "\n",
            "See the caveats in the documentation: https://pandas.pydata.org/pandas-docs/stable/user_guide/indexing.html#returning-a-view-versus-a-copy\n",
            "  errors=errors,\n",
            "/usr/local/lib/python3.7/dist-packages/pandas/core/frame.py:4174: SettingWithCopyWarning: \n",
            "A value is trying to be set on a copy of a slice from a DataFrame\n",
            "\n",
            "See the caveats in the documentation: https://pandas.pydata.org/pandas-docs/stable/user_guide/indexing.html#returning-a-view-versus-a-copy\n",
            "  errors=errors,\n",
            "/usr/local/lib/python3.7/dist-packages/pandas/core/frame.py:4174: SettingWithCopyWarning: \n",
            "A value is trying to be set on a copy of a slice from a DataFrame\n",
            "\n",
            "See the caveats in the documentation: https://pandas.pydata.org/pandas-docs/stable/user_guide/indexing.html#returning-a-view-versus-a-copy\n",
            "  errors=errors,\n",
            "/usr/local/lib/python3.7/dist-packages/pandas/core/frame.py:4174: SettingWithCopyWarning: \n",
            "A value is trying to be set on a copy of a slice from a DataFrame\n",
            "\n",
            "See the caveats in the documentation: https://pandas.pydata.org/pandas-docs/stable/user_guide/indexing.html#returning-a-view-versus-a-copy\n",
            "  errors=errors,\n",
            "/usr/local/lib/python3.7/dist-packages/pandas/core/frame.py:4174: SettingWithCopyWarning: \n",
            "A value is trying to be set on a copy of a slice from a DataFrame\n",
            "\n",
            "See the caveats in the documentation: https://pandas.pydata.org/pandas-docs/stable/user_guide/indexing.html#returning-a-view-versus-a-copy\n",
            "  errors=errors,\n",
            "/usr/local/lib/python3.7/dist-packages/pandas/core/frame.py:4174: SettingWithCopyWarning: \n",
            "A value is trying to be set on a copy of a slice from a DataFrame\n",
            "\n",
            "See the caveats in the documentation: https://pandas.pydata.org/pandas-docs/stable/user_guide/indexing.html#returning-a-view-versus-a-copy\n",
            "  errors=errors,\n",
            "/usr/local/lib/python3.7/dist-packages/pandas/core/frame.py:4174: SettingWithCopyWarning: \n",
            "A value is trying to be set on a copy of a slice from a DataFrame\n",
            "\n",
            "See the caveats in the documentation: https://pandas.pydata.org/pandas-docs/stable/user_guide/indexing.html#returning-a-view-versus-a-copy\n",
            "  errors=errors,\n",
            "/usr/local/lib/python3.7/dist-packages/pandas/core/frame.py:4174: SettingWithCopyWarning: \n",
            "A value is trying to be set on a copy of a slice from a DataFrame\n",
            "\n",
            "See the caveats in the documentation: https://pandas.pydata.org/pandas-docs/stable/user_guide/indexing.html#returning-a-view-versus-a-copy\n",
            "  errors=errors,\n",
            "/usr/local/lib/python3.7/dist-packages/pandas/core/frame.py:4174: SettingWithCopyWarning: \n",
            "A value is trying to be set on a copy of a slice from a DataFrame\n",
            "\n",
            "See the caveats in the documentation: https://pandas.pydata.org/pandas-docs/stable/user_guide/indexing.html#returning-a-view-versus-a-copy\n",
            "  errors=errors,\n",
            "/usr/local/lib/python3.7/dist-packages/pandas/core/frame.py:4174: SettingWithCopyWarning: \n",
            "A value is trying to be set on a copy of a slice from a DataFrame\n",
            "\n",
            "See the caveats in the documentation: https://pandas.pydata.org/pandas-docs/stable/user_guide/indexing.html#returning-a-view-versus-a-copy\n",
            "  errors=errors,\n",
            "/usr/local/lib/python3.7/dist-packages/pandas/core/frame.py:4174: SettingWithCopyWarning: \n",
            "A value is trying to be set on a copy of a slice from a DataFrame\n",
            "\n",
            "See the caveats in the documentation: https://pandas.pydata.org/pandas-docs/stable/user_guide/indexing.html#returning-a-view-versus-a-copy\n",
            "  errors=errors,\n",
            "/usr/local/lib/python3.7/dist-packages/pandas/core/frame.py:4174: SettingWithCopyWarning: \n",
            "A value is trying to be set on a copy of a slice from a DataFrame\n",
            "\n",
            "See the caveats in the documentation: https://pandas.pydata.org/pandas-docs/stable/user_guide/indexing.html#returning-a-view-versus-a-copy\n",
            "  errors=errors,\n",
            "/usr/local/lib/python3.7/dist-packages/pandas/core/frame.py:4174: SettingWithCopyWarning: \n",
            "A value is trying to be set on a copy of a slice from a DataFrame\n",
            "\n",
            "See the caveats in the documentation: https://pandas.pydata.org/pandas-docs/stable/user_guide/indexing.html#returning-a-view-versus-a-copy\n",
            "  errors=errors,\n",
            "/usr/local/lib/python3.7/dist-packages/pandas/core/frame.py:4174: SettingWithCopyWarning: \n",
            "A value is trying to be set on a copy of a slice from a DataFrame\n",
            "\n",
            "See the caveats in the documentation: https://pandas.pydata.org/pandas-docs/stable/user_guide/indexing.html#returning-a-view-versus-a-copy\n",
            "  errors=errors,\n",
            "/usr/local/lib/python3.7/dist-packages/pandas/core/frame.py:4174: SettingWithCopyWarning: \n",
            "A value is trying to be set on a copy of a slice from a DataFrame\n",
            "\n",
            "See the caveats in the documentation: https://pandas.pydata.org/pandas-docs/stable/user_guide/indexing.html#returning-a-view-versus-a-copy\n",
            "  errors=errors,\n",
            "/usr/local/lib/python3.7/dist-packages/pandas/core/frame.py:4174: SettingWithCopyWarning: \n",
            "A value is trying to be set on a copy of a slice from a DataFrame\n",
            "\n",
            "See the caveats in the documentation: https://pandas.pydata.org/pandas-docs/stable/user_guide/indexing.html#returning-a-view-versus-a-copy\n",
            "  errors=errors,\n",
            "/usr/local/lib/python3.7/dist-packages/pandas/core/frame.py:4174: SettingWithCopyWarning: \n",
            "A value is trying to be set on a copy of a slice from a DataFrame\n",
            "\n",
            "See the caveats in the documentation: https://pandas.pydata.org/pandas-docs/stable/user_guide/indexing.html#returning-a-view-versus-a-copy\n",
            "  errors=errors,\n",
            "/usr/local/lib/python3.7/dist-packages/pandas/core/frame.py:4174: SettingWithCopyWarning: \n",
            "A value is trying to be set on a copy of a slice from a DataFrame\n",
            "\n",
            "See the caveats in the documentation: https://pandas.pydata.org/pandas-docs/stable/user_guide/indexing.html#returning-a-view-versus-a-copy\n",
            "  errors=errors,\n",
            "/usr/local/lib/python3.7/dist-packages/pandas/core/frame.py:4174: SettingWithCopyWarning: \n",
            "A value is trying to be set on a copy of a slice from a DataFrame\n",
            "\n",
            "See the caveats in the documentation: https://pandas.pydata.org/pandas-docs/stable/user_guide/indexing.html#returning-a-view-versus-a-copy\n",
            "  errors=errors,\n",
            "/usr/local/lib/python3.7/dist-packages/pandas/core/frame.py:4174: SettingWithCopyWarning: \n",
            "A value is trying to be set on a copy of a slice from a DataFrame\n",
            "\n",
            "See the caveats in the documentation: https://pandas.pydata.org/pandas-docs/stable/user_guide/indexing.html#returning-a-view-versus-a-copy\n",
            "  errors=errors,\n",
            "/usr/local/lib/python3.7/dist-packages/pandas/core/frame.py:4174: SettingWithCopyWarning: \n",
            "A value is trying to be set on a copy of a slice from a DataFrame\n",
            "\n",
            "See the caveats in the documentation: https://pandas.pydata.org/pandas-docs/stable/user_guide/indexing.html#returning-a-view-versus-a-copy\n",
            "  errors=errors,\n",
            "/usr/local/lib/python3.7/dist-packages/pandas/core/frame.py:4174: SettingWithCopyWarning: \n",
            "A value is trying to be set on a copy of a slice from a DataFrame\n",
            "\n",
            "See the caveats in the documentation: https://pandas.pydata.org/pandas-docs/stable/user_guide/indexing.html#returning-a-view-versus-a-copy\n",
            "  errors=errors,\n",
            "/usr/local/lib/python3.7/dist-packages/pandas/core/frame.py:4174: SettingWithCopyWarning: \n",
            "A value is trying to be set on a copy of a slice from a DataFrame\n",
            "\n",
            "See the caveats in the documentation: https://pandas.pydata.org/pandas-docs/stable/user_guide/indexing.html#returning-a-view-versus-a-copy\n",
            "  errors=errors,\n",
            "/usr/local/lib/python3.7/dist-packages/pandas/core/frame.py:4174: SettingWithCopyWarning: \n",
            "A value is trying to be set on a copy of a slice from a DataFrame\n",
            "\n",
            "See the caveats in the documentation: https://pandas.pydata.org/pandas-docs/stable/user_guide/indexing.html#returning-a-view-versus-a-copy\n",
            "  errors=errors,\n",
            "/usr/local/lib/python3.7/dist-packages/pandas/core/frame.py:4174: SettingWithCopyWarning: \n",
            "A value is trying to be set on a copy of a slice from a DataFrame\n",
            "\n",
            "See the caveats in the documentation: https://pandas.pydata.org/pandas-docs/stable/user_guide/indexing.html#returning-a-view-versus-a-copy\n",
            "  errors=errors,\n",
            "/usr/local/lib/python3.7/dist-packages/pandas/core/frame.py:4174: SettingWithCopyWarning: \n",
            "A value is trying to be set on a copy of a slice from a DataFrame\n",
            "\n",
            "See the caveats in the documentation: https://pandas.pydata.org/pandas-docs/stable/user_guide/indexing.html#returning-a-view-versus-a-copy\n",
            "  errors=errors,\n",
            "/usr/local/lib/python3.7/dist-packages/pandas/core/frame.py:4174: SettingWithCopyWarning: \n",
            "A value is trying to be set on a copy of a slice from a DataFrame\n",
            "\n",
            "See the caveats in the documentation: https://pandas.pydata.org/pandas-docs/stable/user_guide/indexing.html#returning-a-view-versus-a-copy\n",
            "  errors=errors,\n"
          ]
        }
      ]
    },
    {
      "cell_type": "code",
      "source": [
        "print(  len( Predicted_labels_All_Mahalanobis )   )\n",
        "print(  len ( Predicted_labels_All_Mahalanobis[0] )   )"
      ],
      "metadata": {
        "colab": {
          "base_uri": "https://localhost:8080/"
        },
        "id": "zHjiovhEzIOq",
        "outputId": "b86b80de-229c-43ce-bf9a-a65abb2e10dd"
      },
      "execution_count": 31,
      "outputs": [
        {
          "output_type": "stream",
          "name": "stdout",
          "text": [
            "51\n",
            "400\n"
          ]
        }
      ]
    },
    {
      "cell_type": "code",
      "metadata": {
        "colab": {
          "base_uri": "https://localhost:8080/",
          "height": 554
        },
        "id": "CdIIb804WIVv",
        "outputId": "3c2b0b94-de06-4e67-d627-c263547dc912"
      },
      "source": [
        "# plot mean of distances for each observation\n",
        "plt.plot(distances.mean(axis =1))"
      ],
      "execution_count": 32,
      "outputs": [
        {
          "output_type": "execute_result",
          "data": {
            "text/plain": [
              "[<matplotlib.lines.Line2D at 0x7f305a459c90>]"
            ]
          },
          "metadata": {},
          "execution_count": 32
        },
        {
          "output_type": "display_data",
          "data": {
            "image/png": "[encoded data removed]",
            "text/plain": [
              "<Figure size 936x648 with 1 Axes>"
            ]
          },
          "metadata": {
            "needs_background": "light"
          }
        }
      ]
    },
    {
      "cell_type": "code",
      "metadata": {
        "id": "cmJcaVXYDyv3",
        "colab": {
          "base_uri": "https://localhost:8080/"
        },
        "outputId": "b6ceea92-b868-4357-ea0b-d9911333a5d9"
      },
      "source": [
        "nb_h_accuracies"
      ],
      "execution_count": 33,
      "outputs": [
        {
          "output_type": "execute_result",
          "data": {
            "text/plain": [
              "[0.7275,\n",
              " 0.81,\n",
              " 0.765,\n",
              " 0.7375,\n",
              " 0.8325,\n",
              " 0.795,\n",
              " 0.83,\n",
              " 0.8175,\n",
              " 0.7825,\n",
              " 0.8325,\n",
              " 0.785,\n",
              " 0.5875,\n",
              " 0.8125,\n",
              " 0.78,\n",
              " 0.75,\n",
              " 0.73,\n",
              " 0.775,\n",
              " 0.5175,\n",
              " 0.725,\n",
              " 0.7475,\n",
              " 0.805,\n",
              " 0.735,\n",
              " 0.8,\n",
              " 0.83,\n",
              " 0.71,\n",
              " 0.715,\n",
              " 0.75,\n",
              " 0.61,\n",
              " 0.7475,\n",
              " 0.7625,\n",
              " 0.61,\n",
              " 0.77,\n",
              " 0.6825,\n",
              " 0.77,\n",
              " 0.635,\n",
              " 0.7675,\n",
              " 0.78,\n",
              " 0.625,\n",
              " 0.695,\n",
              " 0.68,\n",
              " 0.6225,\n",
              " 0.7925,\n",
              " 0.395,\n",
              " 0.7775,\n",
              " 0.8075,\n",
              " 0.7775,\n",
              " 0.82,\n",
              " 0.7825,\n",
              " 0.8625,\n",
              " 0.79,\n",
              " 0.795]"
            ]
          },
          "metadata": {},
          "execution_count": 33
        }
      ]
    },
    {
      "cell_type": "code",
      "metadata": {
        "colab": {
          "base_uri": "https://localhost:8080/"
        },
        "id": "hzG6MzmJHUNr",
        "outputId": "ac0c41e8-5745-4913-c8e9-09abc398987e"
      },
      "source": [
        "Mean_Accu_Neighbor_Mahalobis = np.mean(nb_h_accuracies)\n",
        "print( Mean_Accu_Neighbor_Mahalobis )"
      ],
      "execution_count": 34,
      "outputs": [
        {
          "output_type": "stream",
          "name": "stdout",
          "text": [
            "0.7420098039215685\n"
          ]
        }
      ]
    },
    {
      "cell_type": "code",
      "metadata": {
        "colab": {
          "base_uri": "https://localhost:8080/"
        },
        "id": "_zUwcQ9VP41r",
        "outputId": "91c57bac-f4a2-4616-f78d-699fab036ffd"
      },
      "source": [
        "Mean_EER_Neighbor_Mahalobis = np.mean(nb_h_eers)\n",
        "print(   Mean_EER_Neighbor_Mahalobis )"
      ],
      "execution_count": 35,
      "outputs": [
        {
          "output_type": "stream",
          "name": "stdout",
          "text": [
            "0.4367647058823529\n"
          ]
        }
      ]
    },
    {
      "cell_type": "code",
      "source": [
        "len(distances)"
      ],
      "metadata": {
        "colab": {
          "base_uri": "https://localhost:8080/"
        },
        "id": "-8SXGS4IWnZw",
        "outputId": "03131fff-e83a-4ec9-fc61-5c5109d9c486"
      },
      "execution_count": 36,
      "outputs": [
        {
          "output_type": "execute_result",
          "data": {
            "text/plain": [
              "400"
            ]
          },
          "metadata": {},
          "execution_count": 36
        }
      ]
    },
    {
      "cell_type": "markdown",
      "metadata": {
        "id": "6Y6IzgaUHxtZ"
      },
      "source": [
        "# Nearest-neighbor based on Manhattan distance"
      ]
    },
    {
      "cell_type": "code",
      "metadata": {
        "id": "OQ06ryZFHxtc",
        "colab": {
          "base_uri": "https://localhost:8080/"
        },
        "outputId": "b1a17623-ded7-4544-9ad6-c7c36b10ef27"
      },
      "source": [
        "nb_m_accuracies = []\n",
        "nb_m_eers = []\n",
        "nb_m_scores = []\n",
        "\n",
        "Predicted_labels_All_Manhattan = []\n",
        "\n",
        "for subject in subjects:           \n",
        "  # Consider current subject as genuine and rest as imposters\n",
        "  genuine_df = df.loc[df.subject == subject, \"H.period\":\"H.Return\"]\n",
        "  imposter_df = df.loc[df.subject != subject, :]\n",
        "  \n",
        "  genuine_df = genuine_df.reset_index()\n",
        "  imposter_df = imposter_df.reset_index() \n",
        "\n",
        "  train = genuine_df[200:]\n",
        "  train.drop('index', axis=1, inplace=True)\n",
        "\n",
        "  # True set (100 records)\n",
        "  test_genuine = genuine_df[:200]\n",
        "  test_genuine = test_genuine.reset_index()\n",
        "  test_genuine.drop('level_0', axis=1, inplace=True)\n",
        "  test_genuine.drop('index', axis=1, inplace=True)\n",
        "    \n",
        "    \n",
        "  # False set (250 records, 5 per imposter, 50 imposters in all)\n",
        "  test_imposter = imposter_df.groupby(\"subject\").head(4).loc[:, \"H.period\":\"H.Return\"]\n",
        "  test_imposter = test_imposter.reset_index()\n",
        "  test_imposter.drop('index', axis=1, inplace=True)\n",
        "\n",
        "  data = test_genuine.append(test_imposter, ignore_index=True)\n",
        "\n",
        "  # y_true\n",
        "  y_true = [0]*len(test_genuine) + [-1]*len(test_imposter)\n",
        "\n",
        "  nb_m = NearestNeighbors(n_neighbors = 5, metric='manhattan')\n",
        "  nb_m.fit(train.values)\n",
        "  distances, indeces = nb_m.kneighbors(data.values, n_neighbors=1)\n",
        "  nb_m_scores.append(distances)\n",
        "\n",
        "  th=np.mean(distances)\n",
        "  nb_m_outlier_index = np.where(distances.mean(axis = 1) > th)\n",
        "  nb_m_outlier_values = data.iloc[nb_m_outlier_index]\n",
        "\n",
        "  y_pred = []\n",
        "  for i in range(len(data)):\n",
        "    if (i in nb_m_outlier_index[0]):\n",
        "      y_pred.append(-1)\n",
        "    else:\n",
        "      y_pred.append(0)\n",
        "  \n",
        "  nb_m_accuracies.append(accuracy_score(y_true, y_pred))\n",
        "\n",
        "  Predicted_labels_All_Manhattan.append(  Compute_Predicted_Labels(  y_true , y_pred  ) )\n",
        "  \n",
        "  \n",
        "  fpr, tpr, threshold = roc_curve(y_true, y_pred, pos_label=0)\n",
        "  fnr = 1 - tpr\n",
        "  eer = fpr[np.nanargmin(np.absolute((fnr - fpr)))]\n",
        "  nb_m_eers.append(eer)"
      ],
      "execution_count": 37,
      "outputs": [
        {
          "output_type": "stream",
          "name": "stderr",
          "text": [
            "/usr/local/lib/python3.7/dist-packages/pandas/core/frame.py:4174: SettingWithCopyWarning: \n",
            "A value is trying to be set on a copy of a slice from a DataFrame\n",
            "\n",
            "See the caveats in the documentation: https://pandas.pydata.org/pandas-docs/stable/user_guide/indexing.html#returning-a-view-versus-a-copy\n",
            "  errors=errors,\n",
            "/usr/local/lib/python3.7/dist-packages/pandas/core/frame.py:4174: SettingWithCopyWarning: \n",
            "A value is trying to be set on a copy of a slice from a DataFrame\n",
            "\n",
            "See the caveats in the documentation: https://pandas.pydata.org/pandas-docs/stable/user_guide/indexing.html#returning-a-view-versus-a-copy\n",
            "  errors=errors,\n",
            "/usr/local/lib/python3.7/dist-packages/pandas/core/frame.py:4174: SettingWithCopyWarning: \n",
            "A value is trying to be set on a copy of a slice from a DataFrame\n",
            "\n",
            "See the caveats in the documentation: https://pandas.pydata.org/pandas-docs/stable/user_guide/indexing.html#returning-a-view-versus-a-copy\n",
            "  errors=errors,\n",
            "/usr/local/lib/python3.7/dist-packages/pandas/core/frame.py:4174: SettingWithCopyWarning: \n",
            "A value is trying to be set on a copy of a slice from a DataFrame\n",
            "\n",
            "See the caveats in the documentation: https://pandas.pydata.org/pandas-docs/stable/user_guide/indexing.html#returning-a-view-versus-a-copy\n",
            "  errors=errors,\n",
            "/usr/local/lib/python3.7/dist-packages/pandas/core/frame.py:4174: SettingWithCopyWarning: \n",
            "A value is trying to be set on a copy of a slice from a DataFrame\n",
            "\n",
            "See the caveats in the documentation: https://pandas.pydata.org/pandas-docs/stable/user_guide/indexing.html#returning-a-view-versus-a-copy\n",
            "  errors=errors,\n",
            "/usr/local/lib/python3.7/dist-packages/pandas/core/frame.py:4174: SettingWithCopyWarning: \n",
            "A value is trying to be set on a copy of a slice from a DataFrame\n",
            "\n",
            "See the caveats in the documentation: https://pandas.pydata.org/pandas-docs/stable/user_guide/indexing.html#returning-a-view-versus-a-copy\n",
            "  errors=errors,\n",
            "/usr/local/lib/python3.7/dist-packages/pandas/core/frame.py:4174: SettingWithCopyWarning: \n",
            "A value is trying to be set on a copy of a slice from a DataFrame\n",
            "\n",
            "See the caveats in the documentation: https://pandas.pydata.org/pandas-docs/stable/user_guide/indexing.html#returning-a-view-versus-a-copy\n",
            "  errors=errors,\n",
            "/usr/local/lib/python3.7/dist-packages/pandas/core/frame.py:4174: SettingWithCopyWarning: \n",
            "A value is trying to be set on a copy of a slice from a DataFrame\n",
            "\n",
            "See the caveats in the documentation: https://pandas.pydata.org/pandas-docs/stable/user_guide/indexing.html#returning-a-view-versus-a-copy\n",
            "  errors=errors,\n",
            "/usr/local/lib/python3.7/dist-packages/pandas/core/frame.py:4174: SettingWithCopyWarning: \n",
            "A value is trying to be set on a copy of a slice from a DataFrame\n",
            "\n",
            "See the caveats in the documentation: https://pandas.pydata.org/pandas-docs/stable/user_guide/indexing.html#returning-a-view-versus-a-copy\n",
            "  errors=errors,\n",
            "/usr/local/lib/python3.7/dist-packages/pandas/core/frame.py:4174: SettingWithCopyWarning: \n",
            "A value is trying to be set on a copy of a slice from a DataFrame\n",
            "\n",
            "See the caveats in the documentation: https://pandas.pydata.org/pandas-docs/stable/user_guide/indexing.html#returning-a-view-versus-a-copy\n",
            "  errors=errors,\n",
            "/usr/local/lib/python3.7/dist-packages/pandas/core/frame.py:4174: SettingWithCopyWarning: \n",
            "A value is trying to be set on a copy of a slice from a DataFrame\n",
            "\n",
            "See the caveats in the documentation: https://pandas.pydata.org/pandas-docs/stable/user_guide/indexing.html#returning-a-view-versus-a-copy\n",
            "  errors=errors,\n",
            "/usr/local/lib/python3.7/dist-packages/pandas/core/frame.py:4174: SettingWithCopyWarning: \n",
            "A value is trying to be set on a copy of a slice from a DataFrame\n",
            "\n",
            "See the caveats in the documentation: https://pandas.pydata.org/pandas-docs/stable/user_guide/indexing.html#returning-a-view-versus-a-copy\n",
            "  errors=errors,\n",
            "/usr/local/lib/python3.7/dist-packages/pandas/core/frame.py:4174: SettingWithCopyWarning: \n",
            "A value is trying to be set on a copy of a slice from a DataFrame\n",
            "\n",
            "See the caveats in the documentation: https://pandas.pydata.org/pandas-docs/stable/user_guide/indexing.html#returning-a-view-versus-a-copy\n",
            "  errors=errors,\n",
            "/usr/local/lib/python3.7/dist-packages/pandas/core/frame.py:4174: SettingWithCopyWarning: \n",
            "A value is trying to be set on a copy of a slice from a DataFrame\n",
            "\n",
            "See the caveats in the documentation: https://pandas.pydata.org/pandas-docs/stable/user_guide/indexing.html#returning-a-view-versus-a-copy\n",
            "  errors=errors,\n",
            "/usr/local/lib/python3.7/dist-packages/pandas/core/frame.py:4174: SettingWithCopyWarning: \n",
            "A value is trying to be set on a copy of a slice from a DataFrame\n",
            "\n",
            "See the caveats in the documentation: https://pandas.pydata.org/pandas-docs/stable/user_guide/indexing.html#returning-a-view-versus-a-copy\n",
            "  errors=errors,\n",
            "/usr/local/lib/python3.7/dist-packages/pandas/core/frame.py:4174: SettingWithCopyWarning: \n",
            "A value is trying to be set on a copy of a slice from a DataFrame\n",
            "\n",
            "See the caveats in the documentation: https://pandas.pydata.org/pandas-docs/stable/user_guide/indexing.html#returning-a-view-versus-a-copy\n",
            "  errors=errors,\n",
            "/usr/local/lib/python3.7/dist-packages/pandas/core/frame.py:4174: SettingWithCopyWarning: \n",
            "A value is trying to be set on a copy of a slice from a DataFrame\n",
            "\n",
            "See the caveats in the documentation: https://pandas.pydata.org/pandas-docs/stable/user_guide/indexing.html#returning-a-view-versus-a-copy\n",
            "  errors=errors,\n",
            "/usr/local/lib/python3.7/dist-packages/pandas/core/frame.py:4174: SettingWithCopyWarning: \n",
            "A value is trying to be set on a copy of a slice from a DataFrame\n",
            "\n",
            "See the caveats in the documentation: https://pandas.pydata.org/pandas-docs/stable/user_guide/indexing.html#returning-a-view-versus-a-copy\n",
            "  errors=errors,\n",
            "/usr/local/lib/python3.7/dist-packages/pandas/core/frame.py:4174: SettingWithCopyWarning: \n",
            "A value is trying to be set on a copy of a slice from a DataFrame\n",
            "\n",
            "See the caveats in the documentation: https://pandas.pydata.org/pandas-docs/stable/user_guide/indexing.html#returning-a-view-versus-a-copy\n",
            "  errors=errors,\n",
            "/usr/local/lib/python3.7/dist-packages/pandas/core/frame.py:4174: SettingWithCopyWarning: \n",
            "A value is trying to be set on a copy of a slice from a DataFrame\n",
            "\n",
            "See the caveats in the documentation: https://pandas.pydata.org/pandas-docs/stable/user_guide/indexing.html#returning-a-view-versus-a-copy\n",
            "  errors=errors,\n",
            "/usr/local/lib/python3.7/dist-packages/pandas/core/frame.py:4174: SettingWithCopyWarning: \n",
            "A value is trying to be set on a copy of a slice from a DataFrame\n",
            "\n",
            "See the caveats in the documentation: https://pandas.pydata.org/pandas-docs/stable/user_guide/indexing.html#returning-a-view-versus-a-copy\n",
            "  errors=errors,\n",
            "/usr/local/lib/python3.7/dist-packages/pandas/core/frame.py:4174: SettingWithCopyWarning: \n",
            "A value is trying to be set on a copy of a slice from a DataFrame\n",
            "\n",
            "See the caveats in the documentation: https://pandas.pydata.org/pandas-docs/stable/user_guide/indexing.html#returning-a-view-versus-a-copy\n",
            "  errors=errors,\n",
            "/usr/local/lib/python3.7/dist-packages/pandas/core/frame.py:4174: SettingWithCopyWarning: \n",
            "A value is trying to be set on a copy of a slice from a DataFrame\n",
            "\n",
            "See the caveats in the documentation: https://pandas.pydata.org/pandas-docs/stable/user_guide/indexing.html#returning-a-view-versus-a-copy\n",
            "  errors=errors,\n",
            "/usr/local/lib/python3.7/dist-packages/pandas/core/frame.py:4174: SettingWithCopyWarning: \n",
            "A value is trying to be set on a copy of a slice from a DataFrame\n",
            "\n",
            "See the caveats in the documentation: https://pandas.pydata.org/pandas-docs/stable/user_guide/indexing.html#returning-a-view-versus-a-copy\n",
            "  errors=errors,\n",
            "/usr/local/lib/python3.7/dist-packages/pandas/core/frame.py:4174: SettingWithCopyWarning: \n",
            "A value is trying to be set on a copy of a slice from a DataFrame\n",
            "\n",
            "See the caveats in the documentation: https://pandas.pydata.org/pandas-docs/stable/user_guide/indexing.html#returning-a-view-versus-a-copy\n",
            "  errors=errors,\n",
            "/usr/local/lib/python3.7/dist-packages/pandas/core/frame.py:4174: SettingWithCopyWarning: \n",
            "A value is trying to be set on a copy of a slice from a DataFrame\n",
            "\n",
            "See the caveats in the documentation: https://pandas.pydata.org/pandas-docs/stable/user_guide/indexing.html#returning-a-view-versus-a-copy\n",
            "  errors=errors,\n",
            "/usr/local/lib/python3.7/dist-packages/pandas/core/frame.py:4174: SettingWithCopyWarning: \n",
            "A value is trying to be set on a copy of a slice from a DataFrame\n",
            "\n",
            "See the caveats in the documentation: https://pandas.pydata.org/pandas-docs/stable/user_guide/indexing.html#returning-a-view-versus-a-copy\n",
            "  errors=errors,\n",
            "/usr/local/lib/python3.7/dist-packages/pandas/core/frame.py:4174: SettingWithCopyWarning: \n",
            "A value is trying to be set on a copy of a slice from a DataFrame\n",
            "\n",
            "See the caveats in the documentation: https://pandas.pydata.org/pandas-docs/stable/user_guide/indexing.html#returning-a-view-versus-a-copy\n",
            "  errors=errors,\n",
            "/usr/local/lib/python3.7/dist-packages/pandas/core/frame.py:4174: SettingWithCopyWarning: \n",
            "A value is trying to be set on a copy of a slice from a DataFrame\n",
            "\n",
            "See the caveats in the documentation: https://pandas.pydata.org/pandas-docs/stable/user_guide/indexing.html#returning-a-view-versus-a-copy\n",
            "  errors=errors,\n",
            "/usr/local/lib/python3.7/dist-packages/pandas/core/frame.py:4174: SettingWithCopyWarning: \n",
            "A value is trying to be set on a copy of a slice from a DataFrame\n",
            "\n",
            "See the caveats in the documentation: https://pandas.pydata.org/pandas-docs/stable/user_guide/indexing.html#returning-a-view-versus-a-copy\n",
            "  errors=errors,\n",
            "/usr/local/lib/python3.7/dist-packages/pandas/core/frame.py:4174: SettingWithCopyWarning: \n",
            "A value is trying to be set on a copy of a slice from a DataFrame\n",
            "\n",
            "See the caveats in the documentation: https://pandas.pydata.org/pandas-docs/stable/user_guide/indexing.html#returning-a-view-versus-a-copy\n",
            "  errors=errors,\n",
            "/usr/local/lib/python3.7/dist-packages/pandas/core/frame.py:4174: SettingWithCopyWarning: \n",
            "A value is trying to be set on a copy of a slice from a DataFrame\n",
            "\n",
            "See the caveats in the documentation: https://pandas.pydata.org/pandas-docs/stable/user_guide/indexing.html#returning-a-view-versus-a-copy\n",
            "  errors=errors,\n",
            "/usr/local/lib/python3.7/dist-packages/pandas/core/frame.py:4174: SettingWithCopyWarning: \n",
            "A value is trying to be set on a copy of a slice from a DataFrame\n",
            "\n",
            "See the caveats in the documentation: https://pandas.pydata.org/pandas-docs/stable/user_guide/indexing.html#returning-a-view-versus-a-copy\n",
            "  errors=errors,\n",
            "/usr/local/lib/python3.7/dist-packages/pandas/core/frame.py:4174: SettingWithCopyWarning: \n",
            "A value is trying to be set on a copy of a slice from a DataFrame\n",
            "\n",
            "See the caveats in the documentation: https://pandas.pydata.org/pandas-docs/stable/user_guide/indexing.html#returning-a-view-versus-a-copy\n",
            "  errors=errors,\n",
            "/usr/local/lib/python3.7/dist-packages/pandas/core/frame.py:4174: SettingWithCopyWarning: \n",
            "A value is trying to be set on a copy of a slice from a DataFrame\n",
            "\n",
            "See the caveats in the documentation: https://pandas.pydata.org/pandas-docs/stable/user_guide/indexing.html#returning-a-view-versus-a-copy\n",
            "  errors=errors,\n",
            "/usr/local/lib/python3.7/dist-packages/pandas/core/frame.py:4174: SettingWithCopyWarning: \n",
            "A value is trying to be set on a copy of a slice from a DataFrame\n",
            "\n",
            "See the caveats in the documentation: https://pandas.pydata.org/pandas-docs/stable/user_guide/indexing.html#returning-a-view-versus-a-copy\n",
            "  errors=errors,\n",
            "/usr/local/lib/python3.7/dist-packages/pandas/core/frame.py:4174: SettingWithCopyWarning: \n",
            "A value is trying to be set on a copy of a slice from a DataFrame\n",
            "\n",
            "See the caveats in the documentation: https://pandas.pydata.org/pandas-docs/stable/user_guide/indexing.html#returning-a-view-versus-a-copy\n",
            "  errors=errors,\n",
            "/usr/local/lib/python3.7/dist-packages/pandas/core/frame.py:4174: SettingWithCopyWarning: \n",
            "A value is trying to be set on a copy of a slice from a DataFrame\n",
            "\n",
            "See the caveats in the documentation: https://pandas.pydata.org/pandas-docs/stable/user_guide/indexing.html#returning-a-view-versus-a-copy\n",
            "  errors=errors,\n",
            "/usr/local/lib/python3.7/dist-packages/pandas/core/frame.py:4174: SettingWithCopyWarning: \n",
            "A value is trying to be set on a copy of a slice from a DataFrame\n",
            "\n",
            "See the caveats in the documentation: https://pandas.pydata.org/pandas-docs/stable/user_guide/indexing.html#returning-a-view-versus-a-copy\n",
            "  errors=errors,\n",
            "/usr/local/lib/python3.7/dist-packages/pandas/core/frame.py:4174: SettingWithCopyWarning: \n",
            "A value is trying to be set on a copy of a slice from a DataFrame\n",
            "\n",
            "See the caveats in the documentation: https://pandas.pydata.org/pandas-docs/stable/user_guide/indexing.html#returning-a-view-versus-a-copy\n",
            "  errors=errors,\n",
            "/usr/local/lib/python3.7/dist-packages/pandas/core/frame.py:4174: SettingWithCopyWarning: \n",
            "A value is trying to be set on a copy of a slice from a DataFrame\n",
            "\n",
            "See the caveats in the documentation: https://pandas.pydata.org/pandas-docs/stable/user_guide/indexing.html#returning-a-view-versus-a-copy\n",
            "  errors=errors,\n",
            "/usr/local/lib/python3.7/dist-packages/pandas/core/frame.py:4174: SettingWithCopyWarning: \n",
            "A value is trying to be set on a copy of a slice from a DataFrame\n",
            "\n",
            "See the caveats in the documentation: https://pandas.pydata.org/pandas-docs/stable/user_guide/indexing.html#returning-a-view-versus-a-copy\n",
            "  errors=errors,\n",
            "/usr/local/lib/python3.7/dist-packages/pandas/core/frame.py:4174: SettingWithCopyWarning: \n",
            "A value is trying to be set on a copy of a slice from a DataFrame\n",
            "\n",
            "See the caveats in the documentation: https://pandas.pydata.org/pandas-docs/stable/user_guide/indexing.html#returning-a-view-versus-a-copy\n",
            "  errors=errors,\n",
            "/usr/local/lib/python3.7/dist-packages/pandas/core/frame.py:4174: SettingWithCopyWarning: \n",
            "A value is trying to be set on a copy of a slice from a DataFrame\n",
            "\n",
            "See the caveats in the documentation: https://pandas.pydata.org/pandas-docs/stable/user_guide/indexing.html#returning-a-view-versus-a-copy\n",
            "  errors=errors,\n",
            "/usr/local/lib/python3.7/dist-packages/pandas/core/frame.py:4174: SettingWithCopyWarning: \n",
            "A value is trying to be set on a copy of a slice from a DataFrame\n",
            "\n",
            "See the caveats in the documentation: https://pandas.pydata.org/pandas-docs/stable/user_guide/indexing.html#returning-a-view-versus-a-copy\n",
            "  errors=errors,\n",
            "/usr/local/lib/python3.7/dist-packages/pandas/core/frame.py:4174: SettingWithCopyWarning: \n",
            "A value is trying to be set on a copy of a slice from a DataFrame\n",
            "\n",
            "See the caveats in the documentation: https://pandas.pydata.org/pandas-docs/stable/user_guide/indexing.html#returning-a-view-versus-a-copy\n",
            "  errors=errors,\n",
            "/usr/local/lib/python3.7/dist-packages/pandas/core/frame.py:4174: SettingWithCopyWarning: \n",
            "A value is trying to be set on a copy of a slice from a DataFrame\n",
            "\n",
            "See the caveats in the documentation: https://pandas.pydata.org/pandas-docs/stable/user_guide/indexing.html#returning-a-view-versus-a-copy\n",
            "  errors=errors,\n",
            "/usr/local/lib/python3.7/dist-packages/pandas/core/frame.py:4174: SettingWithCopyWarning: \n",
            "A value is trying to be set on a copy of a slice from a DataFrame\n",
            "\n",
            "See the caveats in the documentation: https://pandas.pydata.org/pandas-docs/stable/user_guide/indexing.html#returning-a-view-versus-a-copy\n",
            "  errors=errors,\n",
            "/usr/local/lib/python3.7/dist-packages/pandas/core/frame.py:4174: SettingWithCopyWarning: \n",
            "A value is trying to be set on a copy of a slice from a DataFrame\n",
            "\n",
            "See the caveats in the documentation: https://pandas.pydata.org/pandas-docs/stable/user_guide/indexing.html#returning-a-view-versus-a-copy\n",
            "  errors=errors,\n",
            "/usr/local/lib/python3.7/dist-packages/pandas/core/frame.py:4174: SettingWithCopyWarning: \n",
            "A value is trying to be set on a copy of a slice from a DataFrame\n",
            "\n",
            "See the caveats in the documentation: https://pandas.pydata.org/pandas-docs/stable/user_guide/indexing.html#returning-a-view-versus-a-copy\n",
            "  errors=errors,\n",
            "/usr/local/lib/python3.7/dist-packages/pandas/core/frame.py:4174: SettingWithCopyWarning: \n",
            "A value is trying to be set on a copy of a slice from a DataFrame\n",
            "\n",
            "See the caveats in the documentation: https://pandas.pydata.org/pandas-docs/stable/user_guide/indexing.html#returning-a-view-versus-a-copy\n",
            "  errors=errors,\n"
          ]
        }
      ]
    },
    {
      "cell_type": "code",
      "metadata": {
        "id": "Cf14eNHNHxti",
        "colab": {
          "base_uri": "https://localhost:8080/"
        },
        "outputId": "a86a83ee-08ef-4805-ea82-8d990bb6c2d4"
      },
      "source": [
        "nb_m_accuracies"
      ],
      "execution_count": 38,
      "outputs": [
        {
          "output_type": "execute_result",
          "data": {
            "text/plain": [
              "[0.74,\n",
              " 0.815,\n",
              " 0.795,\n",
              " 0.74,\n",
              " 0.83,\n",
              " 0.815,\n",
              " 0.8425,\n",
              " 0.8375,\n",
              " 0.805,\n",
              " 0.845,\n",
              " 0.8,\n",
              " 0.6175,\n",
              " 0.8225,\n",
              " 0.7975,\n",
              " 0.7725,\n",
              " 0.7375,\n",
              " 0.7825,\n",
              " 0.655,\n",
              " 0.7425,\n",
              " 0.7725,\n",
              " 0.7925,\n",
              " 0.765,\n",
              " 0.825,\n",
              " 0.8475,\n",
              " 0.755,\n",
              " 0.72,\n",
              " 0.7775,\n",
              " 0.6525,\n",
              " 0.76,\n",
              " 0.765,\n",
              " 0.7525,\n",
              " 0.7775,\n",
              " 0.7125,\n",
              " 0.775,\n",
              " 0.6575,\n",
              " 0.795,\n",
              " 0.8,\n",
              " 0.6625,\n",
              " 0.72,\n",
              " 0.6825,\n",
              " 0.645,\n",
              " 0.8125,\n",
              " 0.425,\n",
              " 0.7975,\n",
              " 0.8075,\n",
              " 0.815,\n",
              " 0.8275,\n",
              " 0.795,\n",
              " 0.87,\n",
              " 0.8,\n",
              " 0.8125]"
            ]
          },
          "metadata": {},
          "execution_count": 38
        }
      ]
    },
    {
      "cell_type": "code",
      "source": [
        "Mean_Accu_Neighbor_Manhattan = np.mean( nb_m_accuracies )\n",
        "\n",
        "print( Mean_Accu_Neighbor_Manhattan )\n"
      ],
      "metadata": {
        "colab": {
          "base_uri": "https://localhost:8080/"
        },
        "id": "HGHy4E2SAcSZ",
        "outputId": "7498ed58-3176-46ba-ffb8-ce2962586b1a"
      },
      "execution_count": 39,
      "outputs": [
        {
          "output_type": "stream",
          "name": "stdout",
          "text": [
            "0.7640686274509803\n"
          ]
        }
      ]
    },
    {
      "cell_type": "code",
      "metadata": {
        "id": "11h0nx1wQIGr",
        "colab": {
          "base_uri": "https://localhost:8080/"
        },
        "outputId": "7c5eb11e-8641-4471-e653-c6b988ca7927"
      },
      "source": [
        "nb_m_eers"
      ],
      "execution_count": 40,
      "outputs": [
        {
          "output_type": "execute_result",
          "data": {
            "text/plain": [
              "[0.465,\n",
              " 0.345,\n",
              " 0.395,\n",
              " 0.455,\n",
              " 0.31,\n",
              " 0.36,\n",
              " 0.315,\n",
              " 0.31,\n",
              " 0.37,\n",
              " 0.31,\n",
              " 0.385,\n",
              " 0.6,\n",
              " 0.34,\n",
              " 0.36,\n",
              " 0.41,\n",
              " 0.415,\n",
              " 0.395,\n",
              " 0.45,\n",
              " 0.47,\n",
              " 0.42,\n",
              " 0.4,\n",
              " 0.43,\n",
              " 0.345,\n",
              " 0.3,\n",
              " 0.44,\n",
              " 0.475,\n",
              " 0.405,\n",
              " 0.55,\n",
              " 0.415,\n",
              " 0.405,\n",
              " 0.26,\n",
              " 0.415,\n",
              " 0.47,\n",
              " 0.395,\n",
              " 0.545,\n",
              " 0.365,\n",
              " 0.365,\n",
              " 0.53,\n",
              " 0.445,\n",
              " 0.495,\n",
              " 0.545,\n",
              " 0.37,\n",
              " 0.78,\n",
              " 0.385,\n",
              " 0.375,\n",
              " 0.33,\n",
              " 0.34,\n",
              " 0.38,\n",
              " 0.26,\n",
              " 0.385,\n",
              " 0.365]"
            ]
          },
          "metadata": {},
          "execution_count": 40
        }
      ]
    },
    {
      "cell_type": "code",
      "source": [
        "Mean_EER_Neighbor_Manhattan = np.mean( nb_m_eers )\n",
        "\n",
        "print( Mean_EER_Neighbor_Manhattan )\n"
      ],
      "metadata": {
        "colab": {
          "base_uri": "https://localhost:8080/"
        },
        "id": "Y-JhdSBwArtX",
        "outputId": "72bfd4b4-fab9-41d8-d4e4-7c687d41774b"
      },
      "execution_count": 41,
      "outputs": [
        {
          "output_type": "stream",
          "name": "stdout",
          "text": [
            "0.40872549019607846\n"
          ]
        }
      ]
    },
    {
      "cell_type": "code",
      "metadata": {
        "colab": {
          "base_uri": "https://localhost:8080/"
        },
        "id": "jIZ954XwHxtk",
        "outputId": "97f670a5-e1c1-4aef-e05d-b954e95c1178"
      },
      "source": [
        "np.mean(nb_m_accuracies)"
      ],
      "execution_count": 42,
      "outputs": [
        {
          "output_type": "execute_result",
          "data": {
            "text/plain": [
              "0.7640686274509803"
            ]
          },
          "metadata": {},
          "execution_count": 42
        }
      ]
    },
    {
      "cell_type": "code",
      "metadata": {
        "colab": {
          "base_uri": "https://localhost:8080/"
        },
        "id": "dR624woiQKBb",
        "outputId": "177a86cf-9836-42c3-aaee-8a068bdb7c25"
      },
      "source": [
        "np.mean(nb_m_eers)"
      ],
      "execution_count": 43,
      "outputs": [
        {
          "output_type": "execute_result",
          "data": {
            "text/plain": [
              "0.40872549019607846"
            ]
          },
          "metadata": {},
          "execution_count": 43
        }
      ]
    },
    {
      "cell_type": "code",
      "source": [
        "len(nb_m_scores)"
      ],
      "metadata": {
        "colab": {
          "base_uri": "https://localhost:8080/"
        },
        "id": "zgc_uYGhjHfu",
        "outputId": "a36cc467-f61b-4a41-b195-c2e70d48a968"
      },
      "execution_count": 44,
      "outputs": [
        {
          "output_type": "execute_result",
          "data": {
            "text/plain": [
              "51"
            ]
          },
          "metadata": {},
          "execution_count": 44
        }
      ]
    },
    {
      "cell_type": "markdown",
      "metadata": {
        "id": "tkOUfpD1otC7"
      },
      "source": [
        "# DBSCAN"
      ]
    },
    {
      "cell_type": "code",
      "metadata": {
        "id": "4MX0yXhebaA3"
      },
      "source": [
        "# https://towardsdatascience.com/multivariate-outlier-detection-in-python-e946cfc843b3\n",
        "Predicted_labels_All_DBSCAN = [  ] \n",
        "\n",
        "DBSCAN_accuracies = []\n",
        "DBSCAN_eers = []\n",
        "        \n",
        "for subject in subjects:           \n",
        "  # Consider current subject as genuine and rest as imposters\n",
        "  genuine_df = df.loc[df.subject == subject, \"H.period\":\"H.Return\"]\n",
        "  imposter_df = df.loc[df.subject != subject, :]\n",
        "  \n",
        "  genuine_df = genuine_df.reset_index()\n",
        "  imposter_df = imposter_df.reset_index() \n",
        "  \n",
        "  # True set (100 records)\n",
        "  test_genuine = genuine_df[:200]\n",
        "  test_genuine = test_genuine.reset_index()\n",
        "  test_genuine.drop('level_0', axis=1, inplace=True)\n",
        "  test_genuine.drop('index', axis=1, inplace=True)\n",
        "    \n",
        "    \n",
        "  # False set (250 records, 5 per imposter, 50 imposters in all)\n",
        "  test_imposter = imposter_df.groupby(\"subject\").head(4).loc[:, \"H.period\":\"H.Return\"]\n",
        "  test_imposter = test_imposter.reset_index()\n",
        "  test_imposter.drop('index', axis=1, inplace=True)\n",
        "\n",
        "  data = test_genuine.append(test_imposter, ignore_index=True)\n",
        "\n",
        "  # y_true\n",
        "  y_true = [0]*len(test_genuine) + [-1]*len(test_imposter)\n",
        "\n",
        "  dbsc = DBSCAN(eps =0.5, min_samples = 10, algorithm='ball_tree',metric='euclidean') \n",
        "                #metric_params={'VI':np.cov(data.values)})  \n",
        "  #eps= 0.85789474\n",
        "  #eps = 0.1, min_samples = 2, metric='mahalanobis', \n",
        "  #metric_params={'VI':np.cov(data.values)}\n",
        "  \n",
        "  dbsc.fit(data.values)\n",
        "\n",
        "  dbsc_outliers_values = data[dbsc.labels_ == -1]\n",
        "  dbsc_outlier_index = np.where(dbsc.labels_ == -1) \n",
        "\n",
        "  # y_pred\n",
        "  y_pred = [] \n",
        "  for i in range(len(data)):\n",
        "    if (i in dbsc_outlier_index[0]):\n",
        "      y_pred.append(-1)\n",
        "    else:\n",
        "      y_pred.append(0)\n",
        " \n",
        "  Predicted_labels_All_DBSCAN.append(Compute_Predicted_Labels(y_true , y_pred))\n",
        "\n",
        "  DBSCAN_accuracies.append(accuracy_score(y_true, dbsc.labels_))\n",
        "  \n",
        "  fpr, tpr, threshold = roc_curve(y_true, dbsc.labels_, pos_label=0)\n",
        "  fnr = 1 - tpr\n",
        "  eer = fpr[np.nanargmin(np.absolute((fnr - fpr)))]\n",
        "  DBSCAN_eers.append(eer)"
      ],
      "execution_count": 45,
      "outputs": []
    },
    {
      "cell_type": "code",
      "source": [
        "print(  len (  Predicted_labels_All_DBSCAN ) )\n",
        "print(  len (  Predicted_labels_All_DBSCAN[0] )  )"
      ],
      "metadata": {
        "colab": {
          "base_uri": "https://localhost:8080/"
        },
        "id": "jBJhOLim2ctu",
        "outputId": "d08ddeb4-f263-4451-c9b4-1b5ff6078229"
      },
      "execution_count": 46,
      "outputs": [
        {
          "output_type": "stream",
          "name": "stdout",
          "text": [
            "51\n",
            "400\n"
          ]
        }
      ]
    },
    {
      "cell_type": "code",
      "metadata": {
        "colab": {
          "base_uri": "https://localhost:8080/"
        },
        "id": "Mv_Fk1TJ3F08",
        "outputId": "33359826-97c3-4f0b-85b5-e801bc144323"
      },
      "source": [
        "DBSCAN_accuracies"
      ],
      "execution_count": 47,
      "outputs": [
        {
          "output_type": "execute_result",
          "data": {
            "text/plain": [
              "[0.74,\n",
              " 0.775,\n",
              " 0.765,\n",
              " 0.73,\n",
              " 0.7725,\n",
              " 0.805,\n",
              " 0.795,\n",
              " 0.7975,\n",
              " 0.7575,\n",
              " 0.8025,\n",
              " 0.785,\n",
              " 0.61,\n",
              " 0.795,\n",
              " 0.7525,\n",
              " 0.7475,\n",
              " 0.68,\n",
              " 0.76,\n",
              " 0.5825,\n",
              " 0.715,\n",
              " 0.735,\n",
              " 0.7875,\n",
              " 0.7575,\n",
              " 0.7775,\n",
              " 0.8,\n",
              " 0.7175,\n",
              " 0.7175,\n",
              " 0.7325,\n",
              " 0.5575,\n",
              " 0.735,\n",
              " 0.7275,\n",
              " 0.525,\n",
              " 0.76,\n",
              " 0.66,\n",
              " 0.7575,\n",
              " 0.59,\n",
              " 0.725,\n",
              " 0.7725,\n",
              " 0.68,\n",
              " 0.685,\n",
              " 0.6675,\n",
              " 0.65,\n",
              " 0.795,\n",
              " 0.4475,\n",
              " 0.735,\n",
              " 0.805,\n",
              " 0.75,\n",
              " 0.7975,\n",
              " 0.76,\n",
              " 0.8125,\n",
              " 0.7825,\n",
              " 0.7975]"
            ]
          },
          "metadata": {},
          "execution_count": 47
        }
      ]
    },
    {
      "cell_type": "code",
      "source": [
        "np.mean(DBSCAN_accuracies)"
      ],
      "metadata": {
        "colab": {
          "base_uri": "https://localhost:8080/"
        },
        "id": "44QvFCh1R7YX",
        "outputId": "9794a1d4-16fe-4f9c-c9c0-155545deb99f"
      },
      "execution_count": 48,
      "outputs": [
        {
          "output_type": "execute_result",
          "data": {
            "text/plain": [
              "0.7287745098039217"
            ]
          },
          "metadata": {},
          "execution_count": 48
        }
      ]
    },
    {
      "cell_type": "code",
      "metadata": {
        "colab": {
          "base_uri": "https://localhost:8080/"
        },
        "id": "beaXom4818gk",
        "outputId": "fdbca556-54ae-46f8-d86c-e544b3ef6f8e"
      },
      "source": [
        "Mean_Acc_DBSCAN = np.mean(DBSCAN_accuracies)\n",
        "print( Mean_Acc_DBSCAN )"
      ],
      "execution_count": 49,
      "outputs": [
        {
          "output_type": "stream",
          "name": "stdout",
          "text": [
            "0.7287745098039217\n"
          ]
        }
      ]
    },
    {
      "cell_type": "code",
      "source": [
        "Mean_EER_DBSCAN = np.mean(  DBSCAN_eers )\n",
        "print( Mean_EER_DBSCAN )"
      ],
      "metadata": {
        "colab": {
          "base_uri": "https://localhost:8080/"
        },
        "id": "ZHy_d6SpA5cr",
        "outputId": "05e5d46f-f501-43b9-8694-41c302abd85f"
      },
      "execution_count": 50,
      "outputs": [
        {
          "output_type": "stream",
          "name": "stdout",
          "text": [
            "0.401078431372549\n"
          ]
        }
      ]
    },
    {
      "cell_type": "code",
      "source": [
        " "
      ],
      "metadata": {
        "id": "PxQYlg6FA9To"
      },
      "execution_count": 50,
      "outputs": []
    },
    {
      "cell_type": "code",
      "source": [
        ""
      ],
      "metadata": {
        "id": "zS8NCye8A9WL"
      },
      "execution_count": null,
      "outputs": []
    },
    {
      "cell_type": "code",
      "source": [
        ""
      ],
      "metadata": {
        "id": "uFW1s-KcA9Zl"
      },
      "execution_count": null,
      "outputs": []
    },
    {
      "cell_type": "markdown",
      "metadata": {
        "id": "uF5DhPW3pEjL"
      },
      "source": [
        "# Local outlier factor (LOF)"
      ]
    },
    {
      "cell_type": "code",
      "metadata": {
        "id": "W3xFt_Utg4Ls"
      },
      "source": [
        "LOF = LocalOutlierFactor(algorithm= 'brute',leaf_size=17,n_neighbors=30,p= 3,contamination= 0.5)\n",
        "\n",
        "#n_neighbors = 20, leaf_size=30, metric = \"minkowski\", contamination = 0.1, algorithm='auto')\n",
        "#algorithm= 'brute',leaf_size=17,n_neighbors=30,p= 3,contamination= 0.32222222\n",
        "LOF_eers = []\n",
        "LOF_accuracies = []\n",
        "LOF_scores = []\n",
        "\n",
        "Predicted_labels_All_LOF = [  ]  \n",
        "\n",
        "for subject in subjects:           \n",
        "  # Consider current subject as genuine and rest as imposters\n",
        "  genuine_df = df.loc[df.subject == subject, \"H.period\":\"H.Return\"]\n",
        "  imposter_df = df.loc[df.subject != subject, :]\n",
        "  \n",
        "  genuine_df = genuine_df.reset_index()\n",
        "  imposter_df = imposter_df.reset_index() \n",
        "\n",
        "  # True set (100 records)\n",
        "  test_genuine = genuine_df[:200]\n",
        "  test_genuine = test_genuine.reset_index()\n",
        "  test_genuine.drop('level_0', axis=1, inplace=True)\n",
        "  test_genuine.drop('index', axis=1, inplace=True)\n",
        "    \n",
        "    \n",
        "  # False set (250 records, 5 per imposter, 50 imposters in all)\n",
        "  test_imposter = imposter_df.groupby(\"subject\").head(4).loc[:, \"H.period\":\"H.Return\"]\n",
        "  test_imposter = test_imposter.reset_index()\n",
        "  test_imposter.drop('index', axis=1, inplace=True)\n",
        "\n",
        "  data = test_genuine.append(test_imposter, ignore_index=True)\n",
        "\n",
        "  # y_true\n",
        "  y_true = [1]*len(test_genuine) + [-1]*len(test_imposter)\n",
        "\n",
        "  y_pred = LOF.fit_predict(data.values)\n",
        "\n",
        "  LOF_outlier_index = np.where(y_pred == -1) \n",
        "  LOF_outlier_values = data.iloc[LOF_outlier_index]\n",
        "  \n",
        "  Predicted_labels_All_LOF.append(  Compute_Predicted_Labels(  y_true , y_pred  ) )\n",
        "\n",
        "  LOF_accuracies.append(accuracy_score(y_true, y_pred))\n",
        "\n",
        "  fpr, tpr, threshold = roc_curve(y_true, y_pred )\n",
        "  fnr = 1 - tpr\n",
        "  eer = fpr[np.nanargmin(np.absolute((fnr - fpr)))]\n",
        "  LOF_eers.append(eer)\n",
        "\n",
        "  #The opposite LOF of the training samples. The higher, the more normal. Inliers tend to have a LOF score close to 1 (negative_outlier_factor_ close to -1), while outliers tend to have a larger LOF score.\n",
        "  Anomaly_Score = LOF.negative_outlier_factor_\n",
        "  LOF_scores.append(Anomaly_Score)"
      ],
      "execution_count": 51,
      "outputs": []
    },
    {
      "cell_type": "code",
      "source": [
        "#The opposite LOF of the training samples. \n",
        "#The higher, the more normal. \n",
        "#Inliers tend to have a LOF score close to 1 (negative_outlier_factor_ close to -1), \n",
        "#while outliers tend to have a larger LOF score.\n",
        "len(LOF_scores)"
      ],
      "metadata": {
        "colab": {
          "base_uri": "https://localhost:8080/"
        },
        "id": "Ro9dHcQDjm9X",
        "outputId": "941e4c79-fefb-49d3-ff12-2813f31698b1"
      },
      "execution_count": 52,
      "outputs": [
        {
          "output_type": "execute_result",
          "data": {
            "text/plain": [
              "51"
            ]
          },
          "metadata": {},
          "execution_count": 52
        }
      ]
    },
    {
      "cell_type": "code",
      "source": [
        "print( np.max(LOF_scores  ) ) \n",
        "print( np.min( LOF_scores )   )"
      ],
      "metadata": {
        "colab": {
          "base_uri": "https://localhost:8080/"
        },
        "id": "JCGCFLDbOp-a",
        "outputId": "6b515538-65df-46ed-ca73-f02845fe2c56"
      },
      "execution_count": 53,
      "outputs": [
        {
          "output_type": "stream",
          "name": "stdout",
          "text": [
            "-0.9534596508246345\n",
            "-25.42924912416917\n"
          ]
        }
      ]
    },
    {
      "cell_type": "code",
      "metadata": {
        "id": "XNDewhZPi_53",
        "colab": {
          "base_uri": "https://localhost:8080/"
        },
        "outputId": "74accc78-0f97-4b5a-974e-dd6c562c818b"
      },
      "source": [
        "LOF_accuracies"
      ],
      "execution_count": 54,
      "outputs": [
        {
          "output_type": "execute_result",
          "data": {
            "text/plain": [
              "[0.805,\n",
              " 0.64,\n",
              " 0.74,\n",
              " 0.715,\n",
              " 0.685,\n",
              " 0.65,\n",
              " 0.615,\n",
              " 0.665,\n",
              " 0.665,\n",
              " 0.625,\n",
              " 0.67,\n",
              " 0.575,\n",
              " 0.73,\n",
              " 0.59,\n",
              " 0.66,\n",
              " 0.52,\n",
              " 0.615,\n",
              " 0.56,\n",
              " 0.77,\n",
              " 0.735,\n",
              " 0.59,\n",
              " 0.73,\n",
              " 0.77,\n",
              " 0.72,\n",
              " 0.685,\n",
              " 0.635,\n",
              " 0.645,\n",
              " 0.56,\n",
              " 0.69,\n",
              " 0.59,\n",
              " 0.48,\n",
              " 0.655,\n",
              " 0.56,\n",
              " 0.655,\n",
              " 0.55,\n",
              " 0.565,\n",
              " 0.755,\n",
              " 0.625,\n",
              " 0.61,\n",
              " 0.525,\n",
              " 0.55,\n",
              " 0.725,\n",
              " 0.46,\n",
              " 0.58,\n",
              " 0.68,\n",
              " 0.59,\n",
              " 0.67,\n",
              " 0.605,\n",
              " 0.615,\n",
              " 0.645,\n",
              " 0.585]"
            ]
          },
          "metadata": {},
          "execution_count": 54
        }
      ]
    },
    {
      "cell_type": "code",
      "metadata": {
        "colab": {
          "base_uri": "https://localhost:8080/"
        },
        "id": "t1JGJpTy3xqq",
        "outputId": "b9bb7471-b93e-427e-9d4a-06a38fe03855"
      },
      "source": [
        "Mean_acc_LOF = np.mean(LOF_accuracies)\n",
        "print(  Mean_acc_LOF )"
      ],
      "execution_count": 55,
      "outputs": [
        {
          "output_type": "stream",
          "name": "stdout",
          "text": [
            "0.6378431372549018\n"
          ]
        }
      ]
    },
    {
      "cell_type": "code",
      "source": [
        "\n",
        "Mean_ERR_LOF = np.mean(LOF_eers)\n",
        "print(  Mean_ERR_LOF )\n"
      ],
      "metadata": {
        "colab": {
          "base_uri": "https://localhost:8080/"
        },
        "id": "jZmGADxUDCJd",
        "outputId": "6e3cd3f8-58a8-454b-c854-9b993b59e475"
      },
      "execution_count": 56,
      "outputs": [
        {
          "output_type": "stream",
          "name": "stdout",
          "text": [
            "0.36215686274509806\n"
          ]
        }
      ]
    },
    {
      "cell_type": "code",
      "source": [
        "\n"
      ],
      "metadata": {
        "id": "pitYm3OAYyvP"
      },
      "execution_count": 56,
      "outputs": []
    },
    {
      "cell_type": "markdown",
      "metadata": {
        "id": "Ll1cF_Zs9nm7"
      },
      "source": [
        "# Cluster-based Local Outlier Factor (CBLOF)"
      ]
    },
    {
      "cell_type": "code",
      "metadata": {
        "colab": {
          "base_uri": "https://localhost:8080/"
        },
        "outputId": "121d65ba-5f0c-431a-a780-a0501ef30991",
        "id": "xIM3C6W59nnF"
      },
      "source": [
        "CB_LOF = CBLOF(alpha= 0.5,beta=2,contamination= 0.27777778,n_clusters= 71,use_weights=False)\n",
        "CB_LOF_eers = []\n",
        "CB_LOF_accuracies = []\n",
        "CB_LOF_scores = []    \n",
        "Predicted_labels_All_CBLOF = [  ]\n",
        "\n",
        "for subject in subjects:           \n",
        "  # Consider current subject as genuine and rest as imposters\n",
        "  genuine_df = df.loc[df.subject == subject, \"H.period\":\"H.Return\"]\n",
        "  imposter_df = df.loc[df.subject != subject, :]\n",
        "  \n",
        "  genuine_df = genuine_df.reset_index()\n",
        "  imposter_df = imposter_df.reset_index() \n",
        "\n",
        "  # True set (100 records)\n",
        "  test_genuine = genuine_df[:200]\n",
        "  test_genuine = test_genuine.reset_index()\n",
        "  test_genuine.drop('level_0', axis=1, inplace=True)\n",
        "  test_genuine.drop('index', axis=1, inplace=True)\n",
        "  \n",
        "  # False set (250 records, 5 per imposter, 50 imposters in all)\n",
        "  test_imposter = imposter_df.groupby(\"subject\").head(4).loc[:, \"H.period\":\"H.Return\"]\n",
        "  test_imposter = test_imposter.reset_index()\n",
        "  test_imposter.drop('index', axis=1, inplace=True)\n",
        "\n",
        "  data = test_genuine.append(test_imposter, ignore_index=True)\n",
        "\n",
        "  # y_true\n",
        "  y_true = [0]*len(test_genuine) + [1]*len(test_imposter)\n",
        "  y_pred = CB_LOF.fit_predict(data.values)\n",
        "\n",
        "  CB_LOF_outlier_index = np.where(y_pred == -1) \n",
        "  CB_LOF_outlier_values = data.iloc[CB_LOF_outlier_index]\n",
        "  \n",
        "  Predicted_labels_All_CBLOF.append(  Compute_Predicted_Labels(  y_true , y_pred  ) )\n",
        "\n",
        "  CB_LOF_accuracies.append(accuracy_score(y_true, y_pred))\n",
        "\n",
        "  fpr, tpr, threshold = roc_curve(y_true, y_pred, pos_label=0)\n",
        "  fnr = 1 - tpr\n",
        "  eer = fpr[np.nanargmin(np.absolute((fnr - fpr)))]\n",
        "  CB_LOF_eers.append(eer)\n",
        "\n",
        "  Anomaly_Score = CB_LOF.decision_function(data.values)\n",
        "  CB_LOF_scores.append(Anomaly_Score)"
      ],
      "execution_count": 57,
      "outputs": [
        {
          "output_type": "stream",
          "name": "stderr",
          "text": [
            "/usr/local/lib/python3.7/dist-packages/sklearn/utils/deprecation.py:87: FutureWarning: Function fit_predict is deprecated\n",
            "  warnings.warn(msg, category=FutureWarning)\n",
            "/usr/local/lib/python3.7/dist-packages/sklearn/utils/deprecation.py:87: FutureWarning: Function fit_predict is deprecated\n",
            "  warnings.warn(msg, category=FutureWarning)\n",
            "/usr/local/lib/python3.7/dist-packages/sklearn/utils/deprecation.py:87: FutureWarning: Function fit_predict is deprecated\n",
            "  warnings.warn(msg, category=FutureWarning)\n",
            "/usr/local/lib/python3.7/dist-packages/sklearn/utils/deprecation.py:87: FutureWarning: Function fit_predict is deprecated\n",
            "  warnings.warn(msg, category=FutureWarning)\n",
            "/usr/local/lib/python3.7/dist-packages/sklearn/utils/deprecation.py:87: FutureWarning: Function fit_predict is deprecated\n",
            "  warnings.warn(msg, category=FutureWarning)\n",
            "/usr/local/lib/python3.7/dist-packages/sklearn/utils/deprecation.py:87: FutureWarning: Function fit_predict is deprecated\n",
            "  warnings.warn(msg, category=FutureWarning)\n",
            "/usr/local/lib/python3.7/dist-packages/sklearn/utils/deprecation.py:87: FutureWarning: Function fit_predict is deprecated\n",
            "  warnings.warn(msg, category=FutureWarning)\n",
            "/usr/local/lib/python3.7/dist-packages/sklearn/utils/deprecation.py:87: FutureWarning: Function fit_predict is deprecated\n",
            "  warnings.warn(msg, category=FutureWarning)\n",
            "/usr/local/lib/python3.7/dist-packages/sklearn/utils/deprecation.py:87: FutureWarning: Function fit_predict is deprecated\n",
            "  warnings.warn(msg, category=FutureWarning)\n",
            "/usr/local/lib/python3.7/dist-packages/sklearn/utils/deprecation.py:87: FutureWarning: Function fit_predict is deprecated\n",
            "  warnings.warn(msg, category=FutureWarning)\n",
            "/usr/local/lib/python3.7/dist-packages/sklearn/utils/deprecation.py:87: FutureWarning: Function fit_predict is deprecated\n",
            "  warnings.warn(msg, category=FutureWarning)\n",
            "/usr/local/lib/python3.7/dist-packages/sklearn/utils/deprecation.py:87: FutureWarning: Function fit_predict is deprecated\n",
            "  warnings.warn(msg, category=FutureWarning)\n",
            "/usr/local/lib/python3.7/dist-packages/sklearn/utils/deprecation.py:87: FutureWarning: Function fit_predict is deprecated\n",
            "  warnings.warn(msg, category=FutureWarning)\n",
            "/usr/local/lib/python3.7/dist-packages/sklearn/utils/deprecation.py:87: FutureWarning: Function fit_predict is deprecated\n",
            "  warnings.warn(msg, category=FutureWarning)\n",
            "/usr/local/lib/python3.7/dist-packages/sklearn/utils/deprecation.py:87: FutureWarning: Function fit_predict is deprecated\n",
            "  warnings.warn(msg, category=FutureWarning)\n",
            "/usr/local/lib/python3.7/dist-packages/sklearn/utils/deprecation.py:87: FutureWarning: Function fit_predict is deprecated\n",
            "  warnings.warn(msg, category=FutureWarning)\n",
            "/usr/local/lib/python3.7/dist-packages/sklearn/utils/deprecation.py:87: FutureWarning: Function fit_predict is deprecated\n",
            "  warnings.warn(msg, category=FutureWarning)\n",
            "/usr/local/lib/python3.7/dist-packages/sklearn/utils/deprecation.py:87: FutureWarning: Function fit_predict is deprecated\n",
            "  warnings.warn(msg, category=FutureWarning)\n",
            "/usr/local/lib/python3.7/dist-packages/sklearn/utils/deprecation.py:87: FutureWarning: Function fit_predict is deprecated\n",
            "  warnings.warn(msg, category=FutureWarning)\n",
            "/usr/local/lib/python3.7/dist-packages/sklearn/utils/deprecation.py:87: FutureWarning: Function fit_predict is deprecated\n",
            "  warnings.warn(msg, category=FutureWarning)\n",
            "/usr/local/lib/python3.7/dist-packages/sklearn/utils/deprecation.py:87: FutureWarning: Function fit_predict is deprecated\n",
            "  warnings.warn(msg, category=FutureWarning)\n",
            "/usr/local/lib/python3.7/dist-packages/sklearn/utils/deprecation.py:87: FutureWarning: Function fit_predict is deprecated\n",
            "  warnings.warn(msg, category=FutureWarning)\n",
            "/usr/local/lib/python3.7/dist-packages/sklearn/utils/deprecation.py:87: FutureWarning: Function fit_predict is deprecated\n",
            "  warnings.warn(msg, category=FutureWarning)\n",
            "/usr/local/lib/python3.7/dist-packages/sklearn/utils/deprecation.py:87: FutureWarning: Function fit_predict is deprecated\n",
            "  warnings.warn(msg, category=FutureWarning)\n",
            "/usr/local/lib/python3.7/dist-packages/sklearn/utils/deprecation.py:87: FutureWarning: Function fit_predict is deprecated\n",
            "  warnings.warn(msg, category=FutureWarning)\n",
            "/usr/local/lib/python3.7/dist-packages/sklearn/utils/deprecation.py:87: FutureWarning: Function fit_predict is deprecated\n",
            "  warnings.warn(msg, category=FutureWarning)\n",
            "/usr/local/lib/python3.7/dist-packages/sklearn/utils/deprecation.py:87: FutureWarning: Function fit_predict is deprecated\n",
            "  warnings.warn(msg, category=FutureWarning)\n",
            "/usr/local/lib/python3.7/dist-packages/sklearn/utils/deprecation.py:87: FutureWarning: Function fit_predict is deprecated\n",
            "  warnings.warn(msg, category=FutureWarning)\n",
            "/usr/local/lib/python3.7/dist-packages/sklearn/utils/deprecation.py:87: FutureWarning: Function fit_predict is deprecated\n",
            "  warnings.warn(msg, category=FutureWarning)\n",
            "/usr/local/lib/python3.7/dist-packages/sklearn/utils/deprecation.py:87: FutureWarning: Function fit_predict is deprecated\n",
            "  warnings.warn(msg, category=FutureWarning)\n",
            "/usr/local/lib/python3.7/dist-packages/sklearn/utils/deprecation.py:87: FutureWarning: Function fit_predict is deprecated\n",
            "  warnings.warn(msg, category=FutureWarning)\n",
            "/usr/local/lib/python3.7/dist-packages/sklearn/utils/deprecation.py:87: FutureWarning: Function fit_predict is deprecated\n",
            "  warnings.warn(msg, category=FutureWarning)\n",
            "/usr/local/lib/python3.7/dist-packages/sklearn/utils/deprecation.py:87: FutureWarning: Function fit_predict is deprecated\n",
            "  warnings.warn(msg, category=FutureWarning)\n",
            "/usr/local/lib/python3.7/dist-packages/sklearn/utils/deprecation.py:87: FutureWarning: Function fit_predict is deprecated\n",
            "  warnings.warn(msg, category=FutureWarning)\n",
            "/usr/local/lib/python3.7/dist-packages/sklearn/utils/deprecation.py:87: FutureWarning: Function fit_predict is deprecated\n",
            "  warnings.warn(msg, category=FutureWarning)\n",
            "/usr/local/lib/python3.7/dist-packages/sklearn/utils/deprecation.py:87: FutureWarning: Function fit_predict is deprecated\n",
            "  warnings.warn(msg, category=FutureWarning)\n",
            "/usr/local/lib/python3.7/dist-packages/sklearn/utils/deprecation.py:87: FutureWarning: Function fit_predict is deprecated\n",
            "  warnings.warn(msg, category=FutureWarning)\n",
            "/usr/local/lib/python3.7/dist-packages/sklearn/utils/deprecation.py:87: FutureWarning: Function fit_predict is deprecated\n",
            "  warnings.warn(msg, category=FutureWarning)\n",
            "/usr/local/lib/python3.7/dist-packages/sklearn/utils/deprecation.py:87: FutureWarning: Function fit_predict is deprecated\n",
            "  warnings.warn(msg, category=FutureWarning)\n",
            "/usr/local/lib/python3.7/dist-packages/sklearn/utils/deprecation.py:87: FutureWarning: Function fit_predict is deprecated\n",
            "  warnings.warn(msg, category=FutureWarning)\n",
            "/usr/local/lib/python3.7/dist-packages/sklearn/utils/deprecation.py:87: FutureWarning: Function fit_predict is deprecated\n",
            "  warnings.warn(msg, category=FutureWarning)\n",
            "/usr/local/lib/python3.7/dist-packages/sklearn/utils/deprecation.py:87: FutureWarning: Function fit_predict is deprecated\n",
            "  warnings.warn(msg, category=FutureWarning)\n",
            "/usr/local/lib/python3.7/dist-packages/sklearn/utils/deprecation.py:87: FutureWarning: Function fit_predict is deprecated\n",
            "  warnings.warn(msg, category=FutureWarning)\n",
            "/usr/local/lib/python3.7/dist-packages/sklearn/utils/deprecation.py:87: FutureWarning: Function fit_predict is deprecated\n",
            "  warnings.warn(msg, category=FutureWarning)\n",
            "/usr/local/lib/python3.7/dist-packages/sklearn/utils/deprecation.py:87: FutureWarning: Function fit_predict is deprecated\n",
            "  warnings.warn(msg, category=FutureWarning)\n",
            "/usr/local/lib/python3.7/dist-packages/sklearn/utils/deprecation.py:87: FutureWarning: Function fit_predict is deprecated\n",
            "  warnings.warn(msg, category=FutureWarning)\n",
            "/usr/local/lib/python3.7/dist-packages/sklearn/utils/deprecation.py:87: FutureWarning: Function fit_predict is deprecated\n",
            "  warnings.warn(msg, category=FutureWarning)\n",
            "/usr/local/lib/python3.7/dist-packages/sklearn/utils/deprecation.py:87: FutureWarning: Function fit_predict is deprecated\n",
            "  warnings.warn(msg, category=FutureWarning)\n",
            "/usr/local/lib/python3.7/dist-packages/sklearn/utils/deprecation.py:87: FutureWarning: Function fit_predict is deprecated\n",
            "  warnings.warn(msg, category=FutureWarning)\n",
            "/usr/local/lib/python3.7/dist-packages/sklearn/utils/deprecation.py:87: FutureWarning: Function fit_predict is deprecated\n",
            "  warnings.warn(msg, category=FutureWarning)\n",
            "/usr/local/lib/python3.7/dist-packages/sklearn/utils/deprecation.py:87: FutureWarning: Function fit_predict is deprecated\n",
            "  warnings.warn(msg, category=FutureWarning)\n"
          ]
        }
      ]
    },
    {
      "cell_type": "code",
      "source": [
        "print( np.max(CB_LOF_scores )   ) \n",
        "print( np.min( CB_LOF_scores )  )"
      ],
      "metadata": {
        "colab": {
          "base_uri": "https://localhost:8080/"
        },
        "id": "1BO5eZclP7dh",
        "outputId": "27e5f9a0-0264-4bda-ae23-9eb54fc06bcf"
      },
      "execution_count": 58,
      "outputs": [
        {
          "output_type": "stream",
          "name": "stdout",
          "text": [
            "35.28538572890734\n",
            "0.049348140660577085\n"
          ]
        }
      ]
    },
    {
      "cell_type": "code",
      "metadata": {
        "colab": {
          "base_uri": "https://localhost:8080/"
        },
        "outputId": "a2f0b24a-6d1f-4d6a-aee5-dfdcb734a6c5",
        "id": "sWxFhhig9nnL"
      },
      "source": [
        "CB_LOF_accuracies"
      ],
      "execution_count": 59,
      "outputs": [
        {
          "output_type": "execute_result",
          "data": {
            "text/plain": [
              "[0.6975,\n",
              " 0.6875,\n",
              " 0.6975,\n",
              " 0.7075,\n",
              " 0.7225,\n",
              " 0.7225,\n",
              " 0.7175,\n",
              " 0.7225,\n",
              " 0.7275,\n",
              " 0.7175,\n",
              " 0.7125,\n",
              " 0.6225,\n",
              " 0.7575,\n",
              " 0.7025,\n",
              " 0.6825,\n",
              " 0.6525,\n",
              " 0.7025,\n",
              " 0.5875,\n",
              " 0.6975,\n",
              " 0.6875,\n",
              " 0.6925,\n",
              " 0.6825,\n",
              " 0.7375,\n",
              " 0.7225,\n",
              " 0.6825,\n",
              " 0.6625,\n",
              " 0.6825,\n",
              " 0.5775,\n",
              " 0.7025,\n",
              " 0.6975,\n",
              " 0.5325,\n",
              " 0.7125,\n",
              " 0.6575,\n",
              " 0.7025,\n",
              " 0.5925,\n",
              " 0.6675,\n",
              " 0.7175,\n",
              " 0.6325,\n",
              " 0.6375,\n",
              " 0.6325,\n",
              " 0.6375,\n",
              " 0.7325,\n",
              " 0.4975,\n",
              " 0.6725,\n",
              " 0.7175,\n",
              " 0.6875,\n",
              " 0.7175,\n",
              " 0.7125,\n",
              " 0.7425,\n",
              " 0.7225,\n",
              " 0.7075]"
            ]
          },
          "metadata": {},
          "execution_count": 59
        }
      ]
    },
    {
      "cell_type": "code",
      "source": [
        "np.mean(CB_LOF_accuracies)"
      ],
      "metadata": {
        "colab": {
          "base_uri": "https://localhost:8080/"
        },
        "id": "Uopa2etaSC1a",
        "outputId": "a6ea0306-3513-4e3b-db14-069ab8221f23"
      },
      "execution_count": 60,
      "outputs": [
        {
          "output_type": "execute_result",
          "data": {
            "text/plain": [
              "0.6823039215686274"
            ]
          },
          "metadata": {},
          "execution_count": 60
        }
      ]
    },
    {
      "cell_type": "code",
      "metadata": {
        "colab": {
          "base_uri": "https://localhost:8080/"
        },
        "outputId": "d5716b04-88ea-4c2b-c04e-c40d9ed14bf2",
        "id": "PeL1L3jL9nnO"
      },
      "source": [
        "Mean_Acc_CB_LOF =  np.mean(CB_LOF_accuracies)\n",
        "print(   Mean_Acc_CB_LOF )"
      ],
      "execution_count": 61,
      "outputs": [
        {
          "output_type": "stream",
          "name": "stdout",
          "text": [
            "0.6823039215686274\n"
          ]
        }
      ]
    },
    {
      "cell_type": "code",
      "metadata": {
        "colab": {
          "base_uri": "https://localhost:8080/"
        },
        "outputId": "b05a2850-1bae-4440-a7f7-c68f3d01cc53",
        "id": "BZFB9dMF9nnP"
      },
      "source": [
        "np.mean(CB_LOF_eers)\n",
        "\n",
        "Mean_EER_CB_LOF =  np.mean(CB_LOF_eers)\n",
        "print(   Mean_EER_CB_LOF )\n"
      ],
      "execution_count": 62,
      "outputs": [
        {
          "output_type": "stream",
          "name": "stdout",
          "text": [
            "0.4598039215686274\n"
          ]
        }
      ]
    },
    {
      "cell_type": "markdown",
      "metadata": {
        "id": "cBjYVukspSlo"
      },
      "source": [
        "# One-class SVM"
      ]
    },
    {
      "cell_type": "code",
      "metadata": {
        "id": "hcfmCSUsknUI"
      },
      "source": [
        "svm = OneClassSVM(cache_size= 403,coef0=0.8,degree= 9,gamma= 'auto',kernel='poly',nu=0.5,shrinking=True)\n",
        "#cache_size= 403,coef0=0.8,degree= 9,gamma= 'auto',kernel='poly',nu=0.5,shrinking=True\n",
        "SVM_eers = []\n",
        "SVM_accuracies = []\n",
        "SVM_scores = []\n",
        "Predicted_labels_All_ONE_SVM = [  ]  \n",
        "\n",
        "for subject in subjects:           \n",
        "  # Consider current subject as genuine and rest as imposters\n",
        "  genuine_df = df.loc[df.subject == subject, \"H.period\":\"H.Return\"]\n",
        "  imposter_df = df.loc[df.subject != subject, :]\n",
        "  genuine_df = genuine_df.reset_index()\n",
        "  imposter_df = imposter_df.reset_index() \n",
        "\n",
        "  # True set (100 records)\n",
        "  test_genuine = genuine_df[:200]\n",
        "  test_genuine = test_genuine.reset_index()\n",
        "  test_genuine.drop('level_0', axis=1, inplace=True)\n",
        "  test_genuine.drop('index', axis=1, inplace=True)\n",
        "  \n",
        "  # False set (250 records, 5 per imposter, 50 imposters in all)\n",
        "  test_imposter = imposter_df.groupby(\"subject\").head(4).loc[:, \"H.period\":\"H.Return\"]\n",
        "  test_imposter = test_imposter.reset_index()\n",
        "  test_imposter.drop('index', axis=1, inplace=True)\n",
        "\n",
        "  data = test_genuine.append(test_imposter, ignore_index=True)\n",
        "\n",
        "  # y_true\n",
        "  y_true = [-1]*len(test_genuine) + [1]*len(test_imposter)\n",
        "  svm.fit(data.values)\n",
        "  y_pred = svm.predict(data.values)  ## consider -1 true and 1 false \n",
        "\n",
        "  svm_outlier_index = np.where(y_pred == -1) \n",
        "  svm_outlier_values = data.iloc[svm_outlier_index]\n",
        "\n",
        "  Predicted_labels_All_ONE_SVM.append(  Compute_Predicted_Labels(  y_true , y_pred  ) )\n",
        "\n",
        "  SVM_accuracies.append(accuracy_score(y_true, y_pred))\n",
        "\n",
        "  fpr, tpr, threshold = roc_curve(y_true, y_pred, pos_label = 1 )\n",
        "  fnr = 1 - tpr\n",
        "  eer = fpr[ np.nanargmin(np.absolute((fnr - fpr))) ]\n",
        "  SVM_eers.append(eer)\n",
        "\n",
        "  #MAX = np.max(svm.decision_function(data.values))\n",
        "  #scores = MAX - np.array(svm.decision_function(data.values))\n",
        "  #SVM_scores.append(scores)\n",
        "  SVM_scores.append(svm.score_samples(data.values))"
      ],
      "execution_count": 63,
      "outputs": []
    },
    {
      "cell_type": "code",
      "metadata": {
        "colab": {
          "base_uri": "https://localhost:8080/"
        },
        "id": "ucEpRJsdvIYz",
        "outputId": "7ee5236d-8327-4fa0-9d15-70dabd0bed9f"
      },
      "source": [
        "SVM_accuracies"
      ],
      "execution_count": 64,
      "outputs": [
        {
          "output_type": "execute_result",
          "data": {
            "text/plain": [
              "[0.715,\n",
              " 0.83,\n",
              " 0.81,\n",
              " 0.685,\n",
              " 0.8825,\n",
              " 0.885,\n",
              " 0.915,\n",
              " 0.865,\n",
              " 0.81,\n",
              " 0.9075,\n",
              " 0.845,\n",
              " 0.3675,\n",
              " 0.91,\n",
              " 0.81,\n",
              " 0.67,\n",
              " 0.7875,\n",
              " 0.83,\n",
              " 0.315,\n",
              " 0.685,\n",
              " 0.65,\n",
              " 0.86,\n",
              " 0.7025,\n",
              " 0.8225,\n",
              " 0.89,\n",
              " 0.6675,\n",
              " 0.72,\n",
              " 0.8375,\n",
              " 0.505,\n",
              " 0.7875,\n",
              " 0.785,\n",
              " 0.3025,\n",
              " 0.85,\n",
              " 0.68,\n",
              " 0.81,\n",
              " 0.575,\n",
              " 0.75,\n",
              " 0.835,\n",
              " 0.55,\n",
              " 0.685,\n",
              " 0.675,\n",
              " 0.59,\n",
              " 0.855,\n",
              " 0.3375,\n",
              " 0.8275,\n",
              " 0.915,\n",
              " 0.6375,\n",
              " 0.895,\n",
              " 0.85,\n",
              " 0.96,\n",
              " 0.87,\n",
              " 0.91]"
            ]
          },
          "metadata": {},
          "execution_count": 64
        }
      ]
    },
    {
      "cell_type": "code",
      "source": [
        "np.mean( SVM_accuracies )"
      ],
      "metadata": {
        "colab": {
          "base_uri": "https://localhost:8080/"
        },
        "id": "KnIC72cm-Lh6",
        "outputId": "6aed4143-b34d-44ef-e507-0e2f85740ac9"
      },
      "execution_count": 65,
      "outputs": [
        {
          "output_type": "execute_result",
          "data": {
            "text/plain": [
              "0.7473039215686273"
            ]
          },
          "metadata": {},
          "execution_count": 65
        }
      ]
    },
    {
      "cell_type": "code",
      "source": [
        "Mean_ِAccu_one_SVM = np.mean( SVM_accuracies  )\n",
        "print( Mean_ِAccu_one_SVM )"
      ],
      "metadata": {
        "id": "n7p8cEyIIXFJ",
        "colab": {
          "base_uri": "https://localhost:8080/"
        },
        "outputId": "d0253b09-afe1-4b41-db72-265f4165e4aa"
      },
      "execution_count": 66,
      "outputs": [
        {
          "output_type": "stream",
          "name": "stdout",
          "text": [
            "0.7473039215686273\n"
          ]
        }
      ]
    },
    {
      "cell_type": "code",
      "metadata": {
        "id": "ry4vxUFYR0ot",
        "colab": {
          "base_uri": "https://localhost:8080/"
        },
        "outputId": "62a5d0e1-df5e-4a2c-85fe-2cc9411972b7"
      },
      "source": [
        "Mean_EER_one_SVM = np.mean(SVM_eers)\n",
        "print( Mean_EER_one_SVM  )"
      ],
      "execution_count": 75,
      "outputs": [
        {
          "output_type": "stream",
          "name": "stdout",
          "text": [
            "0.25284313725490193\n"
          ]
        }
      ]
    },
    {
      "cell_type": "markdown",
      "metadata": {
        "id": "X0IjJ3vgLuWU"
      },
      "source": [
        "# Isolation Forest"
      ]
    },
    {
      "cell_type": "code",
      "metadata": {
        "id": "4ERf_j1ZLuWW"
      },
      "source": [
        "# IForest = IsolationForest(random_state=0)\n",
        "\n",
        "IForest = IsolationForest(bootstrap= True,\n",
        " contamination=0.23333333,\n",
        " max_features= 1,\n",
        " n_estimators= 447,\n",
        " warm_start=False)\n",
        "\n",
        "IForest_accuracies = []\n",
        "IForest_eers = []\n",
        "IForest_scores = []      \n",
        "Predicted_labels_All_Iforest = [   ]\n",
        "\n",
        "for subject in subjects:           \n",
        "  genuine_df = df.loc[df.subject == subject, \"H.period\":\"H.Return\"]\n",
        "  imposter_df = df.loc[df.subject != subject, :]\n",
        "  genuine_df = genuine_df.reset_index()\n",
        "  imposter_df = imposter_df.reset_index() \n",
        "\n",
        "  # True set (100 records)\n",
        "  test_genuine = genuine_df[:200]\n",
        "  test_genuine = test_genuine.reset_index()\n",
        "  test_genuine.drop('level_0', axis=1, inplace=True)\n",
        "  test_genuine.drop('index', axis=1, inplace=True)\n",
        "\n",
        "  # False set (250 records, 5 per imposter, 50 imposters in all)\n",
        "  test_imposter = imposter_df.groupby(\"subject\").head(4).loc[:, \"H.period\":\"H.Return\"]\n",
        "  test_imposter = test_imposter.reset_index()\n",
        "  test_imposter.drop('index', axis=1, inplace=True)\n",
        "\n",
        "  data = test_genuine.append(test_imposter, ignore_index=True)\n",
        "\n",
        "  # y_true\n",
        "  y_true = [1]*len(test_genuine) + [-1]*len(test_imposter)\n",
        " \n",
        "  IForest.fit(data.values)\n",
        "  y_pred = IForest.predict(data.values)\n",
        "  #IForest_anomaly_score = IForest.decision_function(data.values)\n",
        "\n",
        "  IForest_outlier_index = np.where(y_pred == -1) \n",
        "  IForest_outlier_values = data.iloc[IForest_outlier_index]\n",
        "  \n",
        "  Predicted_labels_All_Iforest.append(  Compute_Predicted_Labels(  y_true , y_pred  ) )\n",
        "\n",
        "  IForest_accuracies.append(accuracy_score(y_true, y_pred))\n",
        "\n",
        "  fpr, tpr, threshold = roc_curve(y_true, y_pred)\n",
        "  fnr = 1 - tpr\n",
        "  eer = fpr[np.nanargmin(np.absolute((fnr - fpr)))]\n",
        "  IForest_eers.append(eer)\n",
        "\n",
        "  #The lower, the more abnormal.\n",
        "  IForest_scores.append(IForest.score_samples(data.values))"
      ],
      "execution_count": 12,
      "outputs": []
    },
    {
      "cell_type": "code",
      "source": [
        "print( np.max( IForest_scores  ) )\n",
        "print( np.min( IForest_scores  ) )\n",
        "\n"
      ],
      "metadata": {
        "id": "OcNfVcfSXcQ9",
        "colab": {
          "base_uri": "https://localhost:8080/"
        },
        "outputId": "1d4121c5-4c46-4d16-d1d0-3ce4ecf5736b"
      },
      "execution_count": 13,
      "outputs": [
        {
          "output_type": "stream",
          "name": "stdout",
          "text": [
            "-0.40919954837082473\n",
            "-0.6830310309689924\n"
          ]
        }
      ]
    },
    {
      "cell_type": "code",
      "metadata": {
        "id": "AA77SMuCLuWZ",
        "colab": {
          "base_uri": "https://localhost:8080/"
        },
        "outputId": "eb388c15-9c93-44c4-f346-86bcf523b014"
      },
      "source": [
        "IForest_accuracies"
      ],
      "execution_count": 14,
      "outputs": [
        {
          "output_type": "execute_result",
          "data": {
            "text/plain": [
              "[0.715,\n",
              " 0.73,\n",
              " 0.725,\n",
              " 0.705,\n",
              " 0.735,\n",
              " 0.735,\n",
              " 0.735,\n",
              " 0.71,\n",
              " 0.68,\n",
              " 0.735,\n",
              " 0.73,\n",
              " 0.705,\n",
              " 0.735,\n",
              " 0.695,\n",
              " 0.7,\n",
              " 0.64,\n",
              " 0.725,\n",
              " 0.675,\n",
              " 0.735,\n",
              " 0.73,\n",
              " 0.735,\n",
              " 0.725,\n",
              " 0.735,\n",
              " 0.735,\n",
              " 0.695,\n",
              " 0.715,\n",
              " 0.725,\n",
              " 0.65,\n",
              " 0.72,\n",
              " 0.725,\n",
              " 0.62,\n",
              " 0.725,\n",
              " 0.72,\n",
              " 0.73,\n",
              " 0.65,\n",
              " 0.655,\n",
              " 0.735,\n",
              " 0.72,\n",
              " 0.7,\n",
              " 0.665,\n",
              " 0.685,\n",
              " 0.735,\n",
              " 0.545,\n",
              " 0.73,\n",
              " 0.725,\n",
              " 0.725,\n",
              " 0.735,\n",
              " 0.725,\n",
              " 0.735,\n",
              " 0.735,\n",
              " 0.73]"
            ]
          },
          "metadata": {},
          "execution_count": 14
        }
      ]
    },
    {
      "cell_type": "code",
      "metadata": {
        "id": "JyfgCi1rLuWb",
        "colab": {
          "base_uri": "https://localhost:8080/"
        },
        "outputId": "9e30d0a2-4852-4536-e57a-005765fb0c7d"
      },
      "source": [
        "\n",
        "Mean_Acc_Iforset =  np.mean(IForest_accuracies)\n",
        "\n",
        "print(  Mean_Acc_Iforset )\n"
      ],
      "execution_count": 15,
      "outputs": [
        {
          "output_type": "stream",
          "name": "stdout",
          "text": [
            "0.709019607843137\n"
          ]
        }
      ]
    },
    {
      "cell_type": "code",
      "metadata": {
        "id": "_Lu0DLYDSF6s",
        "colab": {
          "base_uri": "https://localhost:8080/"
        },
        "outputId": "0e51cebd-8f66-45b9-f6e5-5ec2526b2d6e"
      },
      "source": [
        "\n",
        "Mean_EER_Iforset = np.mean(IForest_eers)\n",
        "print(  Mean_EER_Iforset  )\n"
      ],
      "execution_count": 16,
      "outputs": [
        {
          "output_type": "stream",
          "name": "stdout",
          "text": [
            "0.5559803921568629\n"
          ]
        }
      ]
    },
    {
      "cell_type": "markdown",
      "metadata": {
        "id": "RazeuUl0DuFO"
      },
      "source": [
        "# Isolation using Nearest Neighbour Ensemble (iNNE)"
      ]
    },
    {
      "cell_type": "code",
      "metadata": {
        "id": "TZBpRnx3DuFR"
      },
      "source": [
        "i_NNE = iNNE()\n",
        "\n",
        "iNNE_accuracies = []\n",
        "iNNE_eers = []\n",
        "iNNE_scores = []\n",
        "\n",
        "Predicted_labels_All_INNE = [   ] \n",
        "for subject in subjects:           \n",
        "  genuine_df = df.loc[df.subject == subject, \"H.period\":\"H.Return\"]\n",
        "  imposter_df = df.loc[df.subject != subject, :]\n",
        "  \n",
        "  genuine_df = genuine_df.reset_index()\n",
        "  imposter_df = imposter_df.reset_index() \n",
        "\n",
        "  # True set (100 records)\n",
        "  test_genuine = genuine_df[:200]\n",
        "  test_genuine = test_genuine.reset_index()\n",
        "  test_genuine.drop('level_0', axis=1, inplace=True)\n",
        "  test_genuine.drop('index', axis=1, inplace=True)\n",
        "  \n",
        "  # False set (250 records, 5 per imposter, 50 imposters in all)\n",
        "  test_imposter = imposter_df.groupby(\"subject\").head(4).loc[:, \"H.period\":\"H.Return\"]\n",
        "  test_imposter = test_imposter.reset_index()\n",
        "  test_imposter.drop('index', axis=1, inplace=True)\n",
        "\n",
        "  data = test_genuine.append(test_imposter, ignore_index=True)\n",
        "\n",
        "  # y_true\n",
        "  y_true = [-1]*len(test_genuine) + [1]*len(test_imposter)\n",
        "\n",
        "  i_NNE.fit(data.values)\n",
        "  y_pred = i_NNE.predict(data.values)\n",
        "  #IForest_anomaly_score = IForest.decision_function(data.values)\n",
        "\n",
        "  iNNE_outlier_index = np.where(y_pred == -1) \n",
        "  iNNE_outlier_values = data.iloc[iNNE_outlier_index]\n",
        "  \n",
        "  iNNE_accuracies.append(accuracy_score(y_true, y_pred))\n",
        "\n",
        "  Predicted_labels_All_INNE.append(  Compute_Predicted_Labels(  y_true , y_pred  ) )\n",
        "\n",
        "  fpr, tpr, threshold = roc_curve(y_true, y_pred, pos_label=1)\n",
        "  fnr = 1 - tpr\n",
        "  eer = fpr[np.nanargmin(np.absolute((fnr - fpr)))]\n",
        "  iNNE_eers.append(eer)\n",
        "\n",
        "  #The lower, the more abnormal.\n",
        "  iNNE_scores.append(i_NNE.decision_function(data.values))"
      ],
      "execution_count": 17,
      "outputs": []
    },
    {
      "cell_type": "code",
      "metadata": {
        "id": "BgesRKGqDuFV",
        "colab": {
          "base_uri": "https://localhost:8080/"
        },
        "outputId": "f61ce298-e9f2-4c35-be76-907e3a1467a3"
      },
      "source": [
        "iNNE_accuracies"
      ],
      "execution_count": 18,
      "outputs": [
        {
          "output_type": "execute_result",
          "data": {
            "text/plain": [
              "[0.6,\n",
              " 0.6,\n",
              " 0.6,\n",
              " 0.585,\n",
              " 0.6,\n",
              " 0.595,\n",
              " 0.6,\n",
              " 0.6,\n",
              " 0.6,\n",
              " 0.6,\n",
              " 0.595,\n",
              " 0.555,\n",
              " 0.6,\n",
              " 0.585,\n",
              " 0.59,\n",
              " 0.585,\n",
              " 0.595,\n",
              " 0.5,\n",
              " 0.58,\n",
              " 0.6,\n",
              " 0.595,\n",
              " 0.59,\n",
              " 0.6,\n",
              " 0.595,\n",
              " 0.58,\n",
              " 0.585,\n",
              " 0.58,\n",
              " 0.565,\n",
              " 0.585,\n",
              " 0.585,\n",
              " 0.45,\n",
              " 0.585,\n",
              " 0.56,\n",
              " 0.58,\n",
              " 0.565,\n",
              " 0.57,\n",
              " 0.6,\n",
              " 0.545,\n",
              " 0.545,\n",
              " 0.57,\n",
              " 0.545,\n",
              " 0.6,\n",
              " 0.425,\n",
              " 0.59,\n",
              " 0.6,\n",
              " 0.595,\n",
              " 0.6,\n",
              " 0.595,\n",
              " 0.6,\n",
              " 0.6,\n",
              " 0.595]"
            ]
          },
          "metadata": {},
          "execution_count": 18
        }
      ]
    },
    {
      "cell_type": "code",
      "metadata": {
        "id": "jC8LyQ1hDuFY",
        "colab": {
          "base_uri": "https://localhost:8080/"
        },
        "outputId": "7dfa7bac-354a-4e92-b8a6-cd4be597ecca"
      },
      "source": [
        "np.mean(iNNE_accuracies)"
      ],
      "execution_count": 19,
      "outputs": [
        {
          "output_type": "execute_result",
          "data": {
            "text/plain": [
              "0.5792156862745098"
            ]
          },
          "metadata": {},
          "execution_count": 19
        }
      ]
    },
    {
      "cell_type": "code",
      "source": [
        "\n",
        "Mean_Acc_INNE = np.mean( iNNE_accuracies )\n",
        "print( Mean_Acc_INNE )\n"
      ],
      "metadata": {
        "id": "awTT3eAQLP7L",
        "colab": {
          "base_uri": "https://localhost:8080/"
        },
        "outputId": "84ffb946-de3f-45c9-ba4a-143ef06e542c"
      },
      "execution_count": 20,
      "outputs": [
        {
          "output_type": "stream",
          "name": "stdout",
          "text": [
            "0.5792156862745098\n"
          ]
        }
      ]
    },
    {
      "cell_type": "code",
      "metadata": {
        "id": "SRgGvToRDuFZ",
        "colab": {
          "base_uri": "https://localhost:8080/"
        },
        "outputId": "859aaced-5571-4d15-9b37-85788632254f"
      },
      "source": [
        "Mean_EER_INNE = np.mean(iNNE_eers)\n",
        "print( Mean_EER_INNE )"
      ],
      "execution_count": 21,
      "outputs": [
        {
          "output_type": "stream",
          "name": "stdout",
          "text": [
            "0.020784313725490198\n"
          ]
        }
      ]
    },
    {
      "cell_type": "markdown",
      "source": [
        "# **Fusion Technique**"
      ],
      "metadata": {
        "id": "J9wbotVPwX5m"
      }
    },
    {
      "cell_type": "code",
      "source": [
        "\n",
        "\n",
        "All_models_predicts = [ Predicted_labels_All_Mahalanobis, Predicted_labels_All_Manhattan ,  Predicted_labels_All_DBSCAN, Predicted_labels_All_LOF, Predicted_labels_All_CBLOF,  Predicted_labels_All_ONE_SVM, Predicted_labels_All_Iforest,   Predicted_labels_All_INNE]\n",
        "\n",
        "print( len( All_models_predicts  ) )\n"
      ],
      "metadata": {
        "id": "fA1WQSZ4wVlN",
        "colab": {
          "base_uri": "https://localhost:8080/"
        },
        "outputId": "734e49f4-de41-46e0-b88c-20d1caa578d6"
      },
      "execution_count": 68,
      "outputs": [
        {
          "output_type": "stream",
          "name": "stdout",
          "text": [
            "8\n"
          ]
        }
      ]
    },
    {
      "cell_type": "code",
      "source": [
        "'''\n",
        "for x in range(  len(  All_models_predicts ) ):\n",
        "  for y in range(  len( All_models_predicts [0] ) ):\n",
        "\n",
        "    for w in range( len( All_models_predicts[ x ][ y ] )  ) :\n",
        "'''\n"
      ],
      "metadata": {
        "id": "OuWSdbgHwVn5",
        "colab": {
          "base_uri": "https://localhost:8080/",
          "height": 35
        },
        "outputId": "3cfa987e-1377-4997-d791-95367258c154"
      },
      "execution_count": 69,
      "outputs": [
        {
          "output_type": "execute_result",
          "data": {
            "application/vnd.google.colaboratory.intrinsic+json": {
              "type": "string"
            },
            "text/plain": [
              "'\\nfor x in range(  len(  All_models_predicts ) ):\\n  for y in range(  len( All_models_predicts [0] ) ):\\n\\n    for w in range( len( All_models_predicts[ x ][ y ] )  ) :\\n'"
            ]
          },
          "metadata": {},
          "execution_count": 69
        }
      ]
    },
    {
      "cell_type": "markdown",
      "source": [
        "# **Majority and Weighted Voting Technique**"
      ],
      "metadata": {
        "id": "M7_v5cGGvxRH"
      }
    },
    {
      "cell_type": "code",
      "source": [
        "\n",
        "def Compute_Voting( all ,  type  = \"voting\"  ):\n",
        "\n",
        "  all_models = [  ] \n",
        "\n",
        "  for y in range ( len( all[ 0 ] ) ) :\n",
        "    model_list = [ ] \n",
        "    for w in range( len( all[0][y]  )   ):\n",
        "      if( type == \"voting\" ):\n",
        "        arr = [  all[0][y][w] , all[1][y][w] , all[2][y][w], all[3][y][w], all[4][y][w], all[5][y][w], all[6][y][w],  all[7][y][w]  ] \n",
        "      else:\n",
        "        arr = [  all[0][y][w] , all[0][y][w] , all[0][y][w] ,   all[1][y][w] , all[1][y][w] , all[2][y][w] , all[2][y][w] ,  all[3][y][w], all[4][y][w], all[5][y][w], all[5][y][w], all[5][y][w],  all[6][y][w],  all[7][y][w]  ] \n",
        "\n",
        "      voting = most_frequent( arr )\n",
        "      model_list.append( voting ) \n",
        "    all_models.append( model_list  )\n",
        "  \n",
        "  return all_models \n"
      ],
      "metadata": {
        "id": "BwMXNkKxwVs-"
      },
      "execution_count": 70,
      "outputs": []
    },
    {
      "cell_type": "markdown",
      "source": [
        "## **Fusion**"
      ],
      "metadata": {
        "id": "UFgZrxO-R2rd"
      }
    },
    {
      "cell_type": "code",
      "source": [
        "print (   ) "
      ],
      "metadata": {
        "id": "zFtNNqEnTc6V",
        "colab": {
          "base_uri": "https://localhost:8080/"
        },
        "outputId": "b95085a5-9f43-45ce-b566-d7fc94d73afa"
      },
      "execution_count": 71,
      "outputs": [
        {
          "output_type": "stream",
          "name": "stdout",
          "text": [
            "\n"
          ]
        }
      ]
    },
    {
      "cell_type": "code",
      "source": [
        "\n",
        "All_Predictions =  Compute_Voting( All_models_predicts  , \"voting\" )  \n",
        "\n",
        "Mean_Accuracy_list = [ ] \n",
        "\n",
        "for x in range( len( All_Predictions ) ):\n",
        "  Mean_Accuracy_list.append( np.mean( All_Predictions[x] )   )\n",
        "\n",
        "print( Mean_Accuracy_list )\n",
        "print(  \"Total Mean Accuracy   :  \" ,  np.mean( Mean_Accuracy_list )   )\n",
        "\n",
        "\n",
        "Total_EER = [ Mean_EER_Neighbor_Mahalobis ,  Mean_Accu_Neighbor_Manhattan   ,  Mean_EER_DBSCAN ,   Mean_ERR_LOF   ,   Mean_EER_CB_LOF  , Mean_EER_one_SVM ,  Mean_EER_Iforset   ,  Mean_EER_INNE   ]\n",
        "Mean_EER = np.mean( Total_EER ) \n",
        "print(  \"Total Mean EER     :  \" ,  Mean_EER )\n",
        "\n"
      ],
      "metadata": {
        "id": "ZDLI94du-Vh4",
        "colab": {
          "base_uri": "https://localhost:8080/"
        },
        "outputId": "fe883dc2-f2dc-4116-f40c-e1cde5c5908c"
      },
      "execution_count": 76,
      "outputs": [
        {
          "output_type": "stream",
          "name": "stdout",
          "text": [
            "[0.715, 0.7475, 0.7475, 0.71, 0.77, 0.775, 0.775, 0.7925, 0.7525, 0.795, 0.7525, 0.585, 0.7675, 0.73, 0.715, 0.6875, 0.725, 0.5375, 0.715, 0.72, 0.755, 0.7125, 0.775, 0.785, 0.6975, 0.6925, 0.7375, 0.5925, 0.7175, 0.7325, 0.4975, 0.725, 0.65, 0.7425, 0.6, 0.71, 0.765, 0.63, 0.6675, 0.64, 0.6125, 0.7675, 0.3975, 0.73, 0.785, 0.7225, 0.79, 0.7375, 0.8, 0.78, 0.7625]\n",
            "Total Mean Accuracy   :   0.7102941176470589\n",
            "Total Mean EER     :   0.40668504901960784\n"
          ]
        }
      ]
    },
    {
      "cell_type": "markdown",
      "source": [
        "## **Weighted Fusion**"
      ],
      "metadata": {
        "id": "4wwKCwMyR6KD"
      }
    },
    {
      "cell_type": "code",
      "source": [
        "\n",
        "All_Predictions =  Compute_Voting( All_models_predicts  , \"Weighted Voting\" )  \n",
        "\n",
        "Mean_Accuracy_list = [ ] \n",
        "\n",
        "for x in range( len(All_Predictions ) ):\n",
        "  Mean_Accuracy_list.append( np.mean( All_Predictions[x] )   )\n",
        "\n",
        "\n",
        "print( Mean_Accuracy_list )\n",
        "print(  \"Total Weighted Mean Accuracy   :  \"   , np.mean( Mean_Accuracy_list )   )\n",
        "\n",
        "\n",
        "Total_EER = [ Mean_EER_Neighbor_Mahalobis , Mean_EER_Neighbor_Mahalobis ,     Mean_Accu_Neighbor_Manhattan   , Mean_Accu_Neighbor_Manhattan  , Mean_Accu_Neighbor_Manhattan ,   Mean_EER_DBSCAN ,   Mean_EER_DBSCAN ,  Mean_ERR_LOF   ,   Mean_EER_CB_LOF ,    Mean_EER_one_SVM  ,  Mean_EER_one_SVM ,  Mean_EER_Iforset   ,  Mean_EER_INNE   ]\n",
        "Mean_EER = np.mean( Total_EER ) \n",
        "\n",
        "print(  \"Total Weighted Mean EER   :  \" , Mean_EER )\n",
        "\n",
        " "
      ],
      "metadata": {
        "id": "iCVU4naXKviJ",
        "colab": {
          "base_uri": "https://localhost:8080/"
        },
        "outputId": "3845b332-3180-4529-fd66-719e9b8aa3e8"
      },
      "execution_count": 77,
      "outputs": [
        {
          "output_type": "stream",
          "name": "stdout",
          "text": [
            "[0.7275, 0.795, 0.785, 0.7275, 0.8275, 0.805, 0.8175, 0.8225, 0.7775, 0.83, 0.7875, 0.59, 0.82, 0.78, 0.75, 0.7225, 0.7625, 0.5325, 0.725, 0.7425, 0.8, 0.7325, 0.805, 0.835, 0.71, 0.7125, 0.76, 0.5975, 0.7525, 0.7525, 0.525, 0.765, 0.6675, 0.7725, 0.6075, 0.76, 0.7825, 0.625, 0.68, 0.6725, 0.6275, 0.8025, 0.3875, 0.7725, 0.81, 0.74, 0.82, 0.7725, 0.8625, 0.8, 0.795]\n",
            "Total Weighted Mean Accuracy   :   0.737892156862745\n",
            "Total Weighted Mean EER   :   0.4517156862745098\n"
          ]
        }
      ]
    },
    {
      "cell_type": "code",
      "source": [
        ""
      ],
      "metadata": {
        "id": "o8nUV6bPKvqz"
      },
      "execution_count": 73,
      "outputs": []
    },
    {
      "cell_type": "markdown",
      "source": [
        "# **Plotting Mean Accuracy and Mean EER For every Different Model**"
      ],
      "metadata": {
        "id": "xMXjGCRZWJDg"
      }
    },
    {
      "cell_type": "code",
      "source": [
        "\n",
        "\n",
        "w=0.16\n",
        "x=['NN Mahalanobis'  ,   'NN Manhattan' , 'DBSCAN' , 'LOF' ,  'CB_LOF' , 'one_SVM' , 'Iforset' , 'INNE' ]\n",
        "\n",
        "\n",
        "mean =[  Mean_Accu_Neighbor_Mahalobis , Mean_Accu_Neighbor_Manhattan , Mean_Acc_DBSCAN , Mean_acc_LOF , Mean_Acc_CB_LOF , Mean_ِAccu_one_SVM , Mean_Acc_Iforset , Mean_Acc_INNE ]\n",
        "eer =[   Mean_EER_Neighbor_Mahalobis ,  Mean_EER_Neighbor_Manhattan  , Mean_EER_DBSCAN , 0.36 , Mean_EER_CB_LOF , Mean_EER_one_SVM  , Mean_EER_Iforset , Mean_EER_INNE ]\n",
        "\n",
        "\n",
        "bar1 = np.arange(len(x))\n",
        "bar2 = [i+w for i in bar1]\n",
        "\n",
        "\n",
        "\n",
        "plt.rcParams[\"figure.figsize\"] = (13, 9)\n",
        "\n",
        "bar11=plt.bar(bar1,mean,w,label='Mean Accuracy')\n",
        "bar22=plt.bar(bar2,eer,w,label='Mean EER')\n",
        "\n",
        "\n",
        "for rect in bar11 + bar22 :\n",
        "    height = rect.get_height()\n",
        "    height =float(f'{height:.3f}')\n",
        "    if height > 0:\n",
        "        plt.text(rect.get_x() + rect.get_width()/2.,\n",
        "             1.002*height,'%s' % (height), ha='center', va='bottom') \n",
        "\n",
        "plt.xticks(bar2,x)\n",
        "plt.title('Mean Accuracy and Mean EER for All Models')        \n",
        "plt.legend()\n",
        "plt.tight_layout()\n",
        "plt.show( )  \n"
      ],
      "metadata": {
        "id": "OLSqVNiGRt4r",
        "colab": {
          "base_uri": "https://localhost:8080/",
          "height": 657
        },
        "outputId": "2bf1f272-6f18-46e3-e99d-66ba4af6df8f"
      },
      "execution_count": 78,
      "outputs": [
        {
          "output_type": "display_data",
          "data": {
            "image/png": "[encoded data removed]",
            "text/plain": [
              "<Figure size 936x648 with 1 Axes>"
            ]
          },
          "metadata": {
            "needs_background": "light"
          }
        }
      ]
    },
    {
      "cell_type": "code",
      "source": [
        ""
      ],
      "metadata": {
        "id": "GEycOkoPRt7M"
      },
      "execution_count": null,
      "outputs": []
    },
    {
      "cell_type": "code",
      "source": [
        ""
      ],
      "metadata": {
        "id": "ZQkjOJqgRt9h"
      },
      "execution_count": null,
      "outputs": []
    },
    {
      "cell_type": "code",
      "source": [
        ""
      ],
      "metadata": {
        "id": "uMUt6473RuAC"
      },
      "execution_count": null,
      "outputs": []
    },
    {
      "cell_type": "code",
      "source": [
        ""
      ],
      "metadata": {
        "id": "ZqLb3YrtRuDf"
      },
      "execution_count": null,
      "outputs": []
    },
    {
      "cell_type": "code",
      "metadata": {
        "id": "B4p33xU6vpPC"
      },
      "source": [
        "ALL_Idx = []\n",
        "ALL_Idx.append(svm_outlier_index[0]) \n",
        "ALL_Idx.append(dbsc_outlier_index[0])\n",
        "ALL_Idx.append(LOF_outlier_index[0])\n",
        "ALL_Idx.append(CB_LOF_outlier_index[0])\n",
        "ALL_Idx.append(nb_h_outlier_index[0])\n",
        "ALL_Idx.append(nb_m_outlier_index[0])\n",
        "ALL_Idx.append(IForest_outlier_index[0])\n",
        "ALL_Idx.append(iNNE_outlier_index[0])"
      ],
      "execution_count": 79,
      "outputs": []
    },
    {
      "cell_type": "code",
      "metadata": {
        "id": "1UH3MbtPwhVh"
      },
      "source": [
        "AND_Vote_Index = list(set.intersection(*map(set,ALL_Idx)))"
      ],
      "execution_count": 80,
      "outputs": []
    },
    {
      "cell_type": "code",
      "metadata": {
        "id": "w9Wd4p40wr0g",
        "colab": {
          "base_uri": "https://localhost:8080/"
        },
        "outputId": "44f35a2c-abe9-49fd-84c0-caabe9f25e37"
      },
      "source": [
        "len(AND_Vote_Index)"
      ],
      "execution_count": 81,
      "outputs": [
        {
          "output_type": "execute_result",
          "data": {
            "text/plain": [
              "0"
            ]
          },
          "metadata": {},
          "execution_count": 81
        }
      ]
    },
    {
      "cell_type": "code",
      "metadata": {
        "id": "o0sI6rsxw-Wp",
        "colab": {
          "base_uri": "https://localhost:8080/"
        },
        "outputId": "d957ef0c-638e-4e67-b7ee-a2e76038bc0e"
      },
      "source": [
        "AND_Vote_Index"
      ],
      "execution_count": 82,
      "outputs": [
        {
          "output_type": "execute_result",
          "data": {
            "text/plain": [
              "[]"
            ]
          },
          "metadata": {},
          "execution_count": 82
        }
      ]
    },
    {
      "cell_type": "markdown",
      "source": [
        "# Weighted Average Fusion"
      ],
      "metadata": {
        "id": "VVFNVVa-Yg4Z"
      }
    },
    {
      "cell_type": "code",
      "source": [
        "print(np.min(nb_h_scores))\n",
        "print(np.max(nb_h_scores))\n",
        "# Max is outlier"
      ],
      "metadata": {
        "id": "0QdXK7_DUeY6",
        "colab": {
          "base_uri": "https://localhost:8080/"
        },
        "outputId": "1eea98bd-e8b7-4520-d6ed-d78d29d7ee58"
      },
      "execution_count": 83,
      "outputs": [
        {
          "output_type": "stream",
          "name": "stdout",
          "text": [
            "0.04338133239078763\n",
            "35.6865723597826\n"
          ]
        }
      ]
    },
    {
      "cell_type": "code",
      "source": [
        "print(np.min(nb_m_scores))\n",
        "print(np.max(nb_m_scores))\n",
        "# Max is outlier"
      ],
      "metadata": {
        "id": "eK0XdOkVYB90",
        "colab": {
          "base_uri": "https://localhost:8080/"
        },
        "outputId": "f06a351d-fb60-4f14-9f34-4234fddb880e"
      },
      "execution_count": 84,
      "outputs": [
        {
          "output_type": "stream",
          "name": "stdout",
          "text": [
            "0.18740000000000004\n",
            "61.21379999999999\n"
          ]
        }
      ]
    },
    {
      "cell_type": "code",
      "source": [
        "nb_m_scores[0]"
      ],
      "metadata": {
        "id": "ekLY7VUIg-LB",
        "colab": {
          "base_uri": "https://localhost:8080/"
        },
        "outputId": "3359bca4-5922-431e-cd3c-7aa61d8aed78"
      },
      "execution_count": 85,
      "outputs": [
        {
          "output_type": "execute_result",
          "data": {
            "text/plain": [
              "array([[ 5.2135],\n",
              "       [ 3.6807],\n",
              "       [ 2.9085],\n",
              "       [ 3.8559],\n",
              "       [ 2.668 ],\n",
              "       [ 2.1395],\n",
              "       [ 1.9388],\n",
              "       [ 1.6033],\n",
              "       [ 1.4866],\n",
              "       [ 1.6062],\n",
              "       [ 2.0178],\n",
              "       [ 2.0968],\n",
              "       [ 1.9409],\n",
              "       [ 2.7413],\n",
              "       [ 4.9927],\n",
              "       [ 1.314 ],\n",
              "       [ 1.4766],\n",
              "       [ 1.8037],\n",
              "       [ 2.1762],\n",
              "       [ 2.4523],\n",
              "       [ 1.302 ],\n",
              "       [ 1.0182],\n",
              "       [ 1.3161],\n",
              "       [ 1.5814],\n",
              "       [ 2.2675],\n",
              "       [ 3.3188],\n",
              "       [ 1.8559],\n",
              "       [ 1.1856],\n",
              "       [ 1.8227],\n",
              "       [ 1.0525],\n",
              "       [ 1.6022],\n",
              "       [ 1.7386],\n",
              "       [ 0.9446],\n",
              "       [ 2.3505],\n",
              "       [ 1.4019],\n",
              "       [ 1.9997],\n",
              "       [ 2.3338],\n",
              "       [ 1.7803],\n",
              "       [ 1.1187],\n",
              "       [ 1.5061],\n",
              "       [ 0.9959],\n",
              "       [ 1.7464],\n",
              "       [ 1.0325],\n",
              "       [ 3.2553],\n",
              "       [ 1.9463],\n",
              "       [ 1.1564],\n",
              "       [ 2.7485],\n",
              "       [ 1.5243],\n",
              "       [ 1.1242],\n",
              "       [ 2.55  ],\n",
              "       [ 3.2611],\n",
              "       [ 1.1555],\n",
              "       [ 1.664 ],\n",
              "       [ 0.9146],\n",
              "       [ 0.8406],\n",
              "       [ 1.3636],\n",
              "       [ 0.8324],\n",
              "       [ 1.3259],\n",
              "       [ 0.8545],\n",
              "       [ 1.9018],\n",
              "       [ 1.4154],\n",
              "       [ 1.2237],\n",
              "       [ 1.2861],\n",
              "       [ 2.4111],\n",
              "       [ 1.0507],\n",
              "       [ 0.9535],\n",
              "       [ 1.0437],\n",
              "       [ 1.7885],\n",
              "       [ 1.3482],\n",
              "       [ 1.2186],\n",
              "       [ 0.6468],\n",
              "       [ 0.7759],\n",
              "       [ 0.9594],\n",
              "       [ 0.6013],\n",
              "       [ 0.67  ],\n",
              "       [ 2.2099],\n",
              "       [ 0.7718],\n",
              "       [ 0.7298],\n",
              "       [ 0.7442],\n",
              "       [ 0.7736],\n",
              "       [ 0.6215],\n",
              "       [ 0.9318],\n",
              "       [ 0.7746],\n",
              "       [ 0.7305],\n",
              "       [ 0.8465],\n",
              "       [ 1.401 ],\n",
              "       [ 0.9375],\n",
              "       [ 0.8093],\n",
              "       [ 0.6112],\n",
              "       [ 0.4979],\n",
              "       [ 0.6068],\n",
              "       [ 1.025 ],\n",
              "       [ 0.7178],\n",
              "       [ 0.4444],\n",
              "       [ 0.6828],\n",
              "       [ 1.0388],\n",
              "       [ 0.6916],\n",
              "       [ 0.9177],\n",
              "       [ 0.7883],\n",
              "       [ 0.7263],\n",
              "       [ 2.0263],\n",
              "       [ 0.9538],\n",
              "       [ 0.9214],\n",
              "       [ 0.4806],\n",
              "       [ 0.6217],\n",
              "       [ 0.539 ],\n",
              "       [ 1.9221],\n",
              "       [ 0.6543],\n",
              "       [ 0.8355],\n",
              "       [ 1.2526],\n",
              "       [ 0.4371],\n",
              "       [ 0.5379],\n",
              "       [ 1.6016],\n",
              "       [ 0.94  ],\n",
              "       [ 0.6379],\n",
              "       [ 0.7264],\n",
              "       [ 0.7299],\n",
              "       [ 0.8738],\n",
              "       [ 0.5229],\n",
              "       [ 1.1474],\n",
              "       [ 1.954 ],\n",
              "       [ 1.0153],\n",
              "       [ 0.8715],\n",
              "       [ 1.5019],\n",
              "       [ 0.5395],\n",
              "       [ 0.5975],\n",
              "       [ 0.3926],\n",
              "       [ 0.7045],\n",
              "       [ 0.6598],\n",
              "       [ 0.6221],\n",
              "       [ 0.5939],\n",
              "       [ 0.4844],\n",
              "       [ 0.8134],\n",
              "       [ 0.7855],\n",
              "       [ 0.5024],\n",
              "       [ 0.6908],\n",
              "       [ 1.3701],\n",
              "       [ 1.0615],\n",
              "       [ 0.6391],\n",
              "       [ 0.7956],\n",
              "       [ 1.1852],\n",
              "       [ 0.4447],\n",
              "       [ 0.6262],\n",
              "       [ 0.5263],\n",
              "       [ 0.8339],\n",
              "       [ 0.774 ],\n",
              "       [ 0.4117],\n",
              "       [ 0.7542],\n",
              "       [ 0.7821],\n",
              "       [ 0.5031],\n",
              "       [ 0.4971],\n",
              "       [ 0.5524],\n",
              "       [ 0.3747],\n",
              "       [ 0.3757],\n",
              "       [ 0.4573],\n",
              "       [ 0.4715],\n",
              "       [ 0.7813],\n",
              "       [ 1.0813],\n",
              "       [ 0.6597],\n",
              "       [ 0.5367],\n",
              "       [ 0.6539],\n",
              "       [ 0.6811],\n",
              "       [ 0.6335],\n",
              "       [ 0.6156],\n",
              "       [ 0.5967],\n",
              "       [ 0.3895],\n",
              "       [ 0.3892],\n",
              "       [ 0.7607],\n",
              "       [ 0.4989],\n",
              "       [ 0.4654],\n",
              "       [ 0.5499],\n",
              "       [ 0.5459],\n",
              "       [ 0.6779],\n",
              "       [ 0.3847],\n",
              "       [ 0.5933],\n",
              "       [ 0.4345],\n",
              "       [ 0.9264],\n",
              "       [ 0.4859],\n",
              "       [ 0.512 ],\n",
              "       [ 0.614 ],\n",
              "       [ 0.5942],\n",
              "       [ 0.4251],\n",
              "       [ 0.7319],\n",
              "       [ 0.4289],\n",
              "       [ 0.4576],\n",
              "       [ 0.4064],\n",
              "       [ 0.3514],\n",
              "       [ 0.3746],\n",
              "       [ 0.5322],\n",
              "       [ 0.5651],\n",
              "       [ 0.4793],\n",
              "       [ 0.5318],\n",
              "       [ 0.4826],\n",
              "       [ 0.4914],\n",
              "       [ 1.583 ],\n",
              "       [ 0.4154],\n",
              "       [ 0.9822],\n",
              "       [ 0.8923],\n",
              "       [ 0.7041],\n",
              "       [ 0.6656],\n",
              "       [ 1.88  ],\n",
              "       [ 1.6397],\n",
              "       [ 1.409 ],\n",
              "       [ 2.7675],\n",
              "       [ 1.8065],\n",
              "       [ 3.8911],\n",
              "       [ 2.9905],\n",
              "       [ 2.057 ],\n",
              "       [ 7.0995],\n",
              "       [ 5.4672],\n",
              "       [ 6.5197],\n",
              "       [ 3.9724],\n",
              "       [ 2.6575],\n",
              "       [ 2.3405],\n",
              "       [ 2.482 ],\n",
              "       [ 2.7153],\n",
              "       [ 1.922 ],\n",
              "       [ 1.1554],\n",
              "       [ 1.2788],\n",
              "       [ 1.2096],\n",
              "       [ 1.4364],\n",
              "       [ 1.7871],\n",
              "       [ 1.4894],\n",
              "       [ 1.1021],\n",
              "       [ 1.5565],\n",
              "       [ 1.1598],\n",
              "       [ 1.1923],\n",
              "       [ 1.1133],\n",
              "       [ 2.3813],\n",
              "       [ 3.0871],\n",
              "       [ 2.421 ],\n",
              "       [ 3.8681],\n",
              "       [ 2.2493],\n",
              "       [ 0.4673],\n",
              "       [ 1.8898],\n",
              "       [ 2.0917],\n",
              "       [ 1.8507],\n",
              "       [ 1.8653],\n",
              "       [ 1.256 ],\n",
              "       [ 1.3402],\n",
              "       [ 5.983 ],\n",
              "       [ 6.0225],\n",
              "       [ 4.6819],\n",
              "       [ 6.0784],\n",
              "       [ 1.1309],\n",
              "       [ 2.9999],\n",
              "       [ 1.0109],\n",
              "       [ 0.9896],\n",
              "       [ 4.2121],\n",
              "       [ 3.3196],\n",
              "       [ 2.926 ],\n",
              "       [ 2.8653],\n",
              "       [ 6.9046],\n",
              "       [ 4.7696],\n",
              "       [ 4.8886],\n",
              "       [ 5.9717],\n",
              "       [ 7.7106],\n",
              "       [ 1.7472],\n",
              "       [ 2.2246],\n",
              "       [ 1.014 ],\n",
              "       [ 5.4303],\n",
              "       [ 3.8022],\n",
              "       [ 2.1819],\n",
              "       [ 1.5968],\n",
              "       [12.6783],\n",
              "       [11.0891],\n",
              "       [10.6865],\n",
              "       [11.0303],\n",
              "       [ 2.6486],\n",
              "       [ 5.4209],\n",
              "       [ 4.9905],\n",
              "       [ 3.6353],\n",
              "       [ 4.3159],\n",
              "       [ 4.1969],\n",
              "       [ 2.4704],\n",
              "       [ 2.8349],\n",
              "       [ 1.6225],\n",
              "       [ 1.7859],\n",
              "       [ 1.1191],\n",
              "       [ 0.8305],\n",
              "       [ 4.5755],\n",
              "       [ 3.5453],\n",
              "       [ 5.7765],\n",
              "       [ 2.9964],\n",
              "       [ 2.5418],\n",
              "       [ 2.0624],\n",
              "       [ 3.0943],\n",
              "       [ 1.9037],\n",
              "       [ 1.235 ],\n",
              "       [ 1.2414],\n",
              "       [ 1.8624],\n",
              "       [ 0.8664],\n",
              "       [19.0526],\n",
              "       [ 3.1943],\n",
              "       [ 1.948 ],\n",
              "       [ 6.4702],\n",
              "       [ 2.9743],\n",
              "       [ 3.1571],\n",
              "       [ 2.5581],\n",
              "       [ 2.5457],\n",
              "       [ 5.4592],\n",
              "       [ 4.8575],\n",
              "       [ 2.0689],\n",
              "       [ 1.2451],\n",
              "       [ 6.5809],\n",
              "       [ 3.231 ],\n",
              "       [ 4.1735],\n",
              "       [ 4.7203],\n",
              "       [ 2.6183],\n",
              "       [ 1.1831],\n",
              "       [ 3.2774],\n",
              "       [ 2.6038],\n",
              "       [ 7.9345],\n",
              "       [ 2.5159],\n",
              "       [ 3.6806],\n",
              "       [ 2.5341],\n",
              "       [18.2129],\n",
              "       [12.7353],\n",
              "       [13.2652],\n",
              "       [15.6319],\n",
              "       [ 3.2814],\n",
              "       [ 2.8415],\n",
              "       [ 1.3114],\n",
              "       [ 4.8005],\n",
              "       [ 5.7685],\n",
              "       [ 4.2641],\n",
              "       [ 6.5493],\n",
              "       [ 1.7208],\n",
              "       [ 4.7243],\n",
              "       [ 2.8265],\n",
              "       [ 2.6279],\n",
              "       [ 1.7771],\n",
              "       [ 9.4916],\n",
              "       [ 6.416 ],\n",
              "       [ 8.6032],\n",
              "       [ 4.3783],\n",
              "       [ 3.7877],\n",
              "       [ 1.9373],\n",
              "       [ 0.7342],\n",
              "       [ 1.8154],\n",
              "       [ 3.0918],\n",
              "       [ 5.1874],\n",
              "       [ 2.6123],\n",
              "       [ 2.9555],\n",
              "       [11.1787],\n",
              "       [ 9.176 ],\n",
              "       [ 7.271 ],\n",
              "       [ 6.1277],\n",
              "       [10.5124],\n",
              "       [ 7.8903],\n",
              "       [ 9.5675],\n",
              "       [ 3.273 ],\n",
              "       [ 5.9921],\n",
              "       [ 5.5549],\n",
              "       [ 3.969 ],\n",
              "       [ 4.8922],\n",
              "       [20.5396],\n",
              "       [ 7.1391],\n",
              "       [ 5.2311],\n",
              "       [ 6.5923],\n",
              "       [ 1.841 ],\n",
              "       [ 1.6557],\n",
              "       [ 2.3478],\n",
              "       [ 1.4789],\n",
              "       [21.7093],\n",
              "       [17.7973],\n",
              "       [16.4994],\n",
              "       [ 8.1866],\n",
              "       [ 3.8257],\n",
              "       [ 2.0595],\n",
              "       [ 1.8775],\n",
              "       [ 1.781 ],\n",
              "       [ 1.5855],\n",
              "       [ 1.332 ],\n",
              "       [ 2.1457],\n",
              "       [ 0.8442],\n",
              "       [ 5.9162],\n",
              "       [ 9.4455],\n",
              "       [ 4.8468],\n",
              "       [ 4.6127],\n",
              "       [ 2.162 ],\n",
              "       [ 1.33  ],\n",
              "       [ 1.1595],\n",
              "       [ 1.1578],\n",
              "       [ 5.3564],\n",
              "       [ 3.98  ],\n",
              "       [ 3.4126],\n",
              "       [ 1.8614],\n",
              "       [ 0.7998],\n",
              "       [ 0.785 ],\n",
              "       [ 0.5841],\n",
              "       [ 1.9013],\n",
              "       [ 1.0568],\n",
              "       [ 2.6508],\n",
              "       [ 3.0233],\n",
              "       [ 2.4643],\n",
              "       [ 1.59  ],\n",
              "       [ 1.6225],\n",
              "       [ 1.5572],\n",
              "       [ 0.9972]])"
            ]
          },
          "metadata": {},
          "execution_count": 85
        }
      ]
    },
    {
      "cell_type": "code",
      "source": [
        "print(np.min(LOF_scores))\n",
        "print(np.max(LOF_scores))\n",
        "# Min is outlier"
      ],
      "metadata": {
        "id": "Ch56r0ziYE5T",
        "colab": {
          "base_uri": "https://localhost:8080/"
        },
        "outputId": "ec6029bf-55f1-4bdc-d165-eec626ce79eb"
      },
      "execution_count": 86,
      "outputs": [
        {
          "output_type": "stream",
          "name": "stdout",
          "text": [
            "-25.42924912416917\n",
            "-0.9534596508246345\n"
          ]
        }
      ]
    },
    {
      "cell_type": "code",
      "source": [
        "print(np.min(CB_LOF_scores))\n",
        "print(np.max(CB_LOF_scores))\n",
        "# Max is outlier"
      ],
      "metadata": {
        "id": "c1GLBr0sYIqT",
        "colab": {
          "base_uri": "https://localhost:8080/"
        },
        "outputId": "9f758304-7025-403a-e257-1c1cd092e99f"
      },
      "execution_count": 87,
      "outputs": [
        {
          "output_type": "stream",
          "name": "stdout",
          "text": [
            "0.049348140660577085\n",
            "35.28538572890734\n"
          ]
        }
      ]
    },
    {
      "cell_type": "code",
      "source": [
        "print(np.min(IForest_scores))\n",
        "print(np.max(IForest_scores))\n",
        "# Min is an outlier"
      ],
      "metadata": {
        "id": "JnSMNfp_YNg9",
        "colab": {
          "base_uri": "https://localhost:8080/"
        },
        "outputId": "0a70fa58-bfb9-46d9-ce4a-dbc5c1e43a81"
      },
      "execution_count": 88,
      "outputs": [
        {
          "output_type": "stream",
          "name": "stdout",
          "text": [
            "-0.6830310309689924\n",
            "-0.40919954837082473\n"
          ]
        }
      ]
    },
    {
      "cell_type": "code",
      "source": [
        "print(np.min(iNNE_scores))\n",
        "print(np.max(iNNE_scores))\n",
        "# Max is outlier"
      ],
      "metadata": {
        "id": "xTFslZFxYRNr",
        "colab": {
          "base_uri": "https://localhost:8080/"
        },
        "outputId": "ca1b43e2-c412-470e-f47e-03822108d96f"
      },
      "execution_count": 89,
      "outputs": [
        {
          "output_type": "stream",
          "name": "stdout",
          "text": [
            "-0.04718797756818459\n",
            "1.0\n"
          ]
        }
      ]
    },
    {
      "cell_type": "code",
      "source": [
        "print(np.min(SVM_scores))\n",
        "print(np.max(SVM_scores))\n",
        "# Min is outlier"
      ],
      "metadata": {
        "id": "sxUxN5JzYW6N",
        "colab": {
          "base_uri": "https://localhost:8080/"
        },
        "outputId": "7202d239-4277-4c6a-f4f4-ac2a49b0d589"
      },
      "execution_count": 90,
      "outputs": [
        {
          "output_type": "stream",
          "name": "stdout",
          "text": [
            "30.242449013783087\n",
            "25021.26911595505\n"
          ]
        }
      ]
    },
    {
      "cell_type": "code",
      "source": [
        "LOF_scores = np.array(LOF_scores) * -1\n",
        "IForest_scores = np.array(IForest_scores) * -1\n",
        "SVM_scores = np.array(SVM_scores) * -1"
      ],
      "metadata": {
        "id": "zzGhXA_8XVQF"
      },
      "execution_count": 91,
      "outputs": []
    },
    {
      "cell_type": "code",
      "source": [
        "def normalize(m):\n",
        "  for i in range(len(m)):\n",
        "    for j in range(len(m[i])):\n",
        "      m[i][j] = (m[i][j] - np.min(m[i])) / (np.max(m[i]) - np.min(m[i])) \n",
        "  return m\n",
        "nb_h_scores = normalize(nb_h_scores)\n",
        "nb_m_scores = normalize(nb_m_scores)\n",
        "LOF_scores = normalize(LOF_scores)\n",
        "SVM_scores = normalize(SVM_scores)\n",
        "IForest_scores = normalize(IForest_scores)\n",
        "iNNE_scores = normalize(iNNE_scores)\n",
        "CB_LOF_scores = normalize(CB_LOF_scores)"
      ],
      "metadata": {
        "id": "8of1Sc-6eHBJ"
      },
      "execution_count": 92,
      "outputs": []
    },
    {
      "cell_type": "code",
      "source": [
        "import statistics\n",
        "\n",
        "Weighted_Avg_Fusion = np.zeros(shape=(51,400))\n",
        "\n",
        "for i in range(51):\n",
        "  for j in range(400):\n",
        "    x = []\n",
        "    x.append(0.5 * np.array(nb_m_scores[i][j][0]))\n",
        "    x.append(0.5 * np.array(SVM_scores[i][j]))\n",
        "    Weighted_Avg_Fusion[i,j] = statistics.mean(x)    "
      ],
      "metadata": {
        "id": "pMNtZ5rWj-uA"
      },
      "execution_count": 100,
      "outputs": []
    },
    {
      "cell_type": "code",
      "source": [
        "avg_accuracies = []\n",
        "avg_eers = []\n",
        "\n",
        "for i in range(len(subjects)):\n",
        "  genuine_df = df.loc[df.subject == subjects[i], \"H.period\":\"H.Return\"]\n",
        "  imposter_df = df.loc[df.subject != subjects[i], :]\n",
        "  \n",
        "  genuine_df = genuine_df.reset_index()\n",
        "  imposter_df = imposter_df.reset_index() \n",
        "\n",
        " \n",
        "  train = genuine_df[200:]\n",
        "  train.drop('index', axis=1, inplace=True)\n",
        "\n",
        "\n",
        "  # True set (200 records)\n",
        "  test_genuine = genuine_df[:200]\n",
        "  test_genuine = test_genuine.reset_index()\n",
        "\n",
        "  test_genuine.drop('level_0', axis=1, inplace=True)\n",
        "  test_genuine.drop('index', axis=1, inplace=True)\n",
        "    \n",
        "  # False set (200 records, 4 per imposter, 50 imposters in all)\n",
        "  test_imposter = imposter_df.groupby(\"subject\").head(4).loc[:, \"H.period\":\"H.Return\"]\n",
        "  test_imposter = test_imposter.reset_index()\n",
        "  test_imposter.drop('index', axis=1, inplace=True)\n",
        "\n",
        "  data = test_genuine.append(test_imposter, ignore_index=True)\n",
        "\n",
        "  y_true = [0]*200 + [-1]*200\n",
        "\n",
        "  th=np.mean(Weighted_Avg_Fusion[i])\n",
        "  outlier_index = np.where(Weighted_Avg_Fusion[i] >= th ) \n",
        "  outlier_values = data.iloc[outlier_index]\n",
        "\n",
        "  y_pred = []\n",
        "  for i in range(len(data)):\n",
        "    if (i in outlier_index[0]):\n",
        "      y_pred.append(-1)\n",
        "    else:\n",
        "      y_pred.append(0)\n",
        "  \n",
        "  avg_accuracies.append(accuracy_score(y_true, y_pred))\n",
        "\n",
        "  fpr, tpr, threshold = roc_curve(y_true, y_pred, pos_label=0)\n",
        "  fnr = 1 - tpr\n",
        "  eer = fpr[np.nanargmin(np.absolute((fnr - fpr)))]\n",
        "  avg_eers.append(eer)"
      ],
      "metadata": {
        "id": "l1tL92IjpPYy",
        "colab": {
          "base_uri": "https://localhost:8080/"
        },
        "outputId": "0fb16aaa-5489-4406-f23d-e27d156d126c"
      },
      "execution_count": 101,
      "outputs": [
        {
          "output_type": "stream",
          "name": "stderr",
          "text": [
            "/usr/local/lib/python3.7/dist-packages/pandas/core/frame.py:4174: SettingWithCopyWarning: \n",
            "A value is trying to be set on a copy of a slice from a DataFrame\n",
            "\n",
            "See the caveats in the documentation: https://pandas.pydata.org/pandas-docs/stable/user_guide/indexing.html#returning-a-view-versus-a-copy\n",
            "  errors=errors,\n",
            "/usr/local/lib/python3.7/dist-packages/pandas/core/frame.py:4174: SettingWithCopyWarning: \n",
            "A value is trying to be set on a copy of a slice from a DataFrame\n",
            "\n",
            "See the caveats in the documentation: https://pandas.pydata.org/pandas-docs/stable/user_guide/indexing.html#returning-a-view-versus-a-copy\n",
            "  errors=errors,\n",
            "/usr/local/lib/python3.7/dist-packages/pandas/core/frame.py:4174: SettingWithCopyWarning: \n",
            "A value is trying to be set on a copy of a slice from a DataFrame\n",
            "\n",
            "See the caveats in the documentation: https://pandas.pydata.org/pandas-docs/stable/user_guide/indexing.html#returning-a-view-versus-a-copy\n",
            "  errors=errors,\n",
            "/usr/local/lib/python3.7/dist-packages/pandas/core/frame.py:4174: SettingWithCopyWarning: \n",
            "A value is trying to be set on a copy of a slice from a DataFrame\n",
            "\n",
            "See the caveats in the documentation: https://pandas.pydata.org/pandas-docs/stable/user_guide/indexing.html#returning-a-view-versus-a-copy\n",
            "  errors=errors,\n",
            "/usr/local/lib/python3.7/dist-packages/pandas/core/frame.py:4174: SettingWithCopyWarning: \n",
            "A value is trying to be set on a copy of a slice from a DataFrame\n",
            "\n",
            "See the caveats in the documentation: https://pandas.pydata.org/pandas-docs/stable/user_guide/indexing.html#returning-a-view-versus-a-copy\n",
            "  errors=errors,\n",
            "/usr/local/lib/python3.7/dist-packages/pandas/core/frame.py:4174: SettingWithCopyWarning: \n",
            "A value is trying to be set on a copy of a slice from a DataFrame\n",
            "\n",
            "See the caveats in the documentation: https://pandas.pydata.org/pandas-docs/stable/user_guide/indexing.html#returning-a-view-versus-a-copy\n",
            "  errors=errors,\n",
            "/usr/local/lib/python3.7/dist-packages/pandas/core/frame.py:4174: SettingWithCopyWarning: \n",
            "A value is trying to be set on a copy of a slice from a DataFrame\n",
            "\n",
            "See the caveats in the documentation: https://pandas.pydata.org/pandas-docs/stable/user_guide/indexing.html#returning-a-view-versus-a-copy\n",
            "  errors=errors,\n",
            "/usr/local/lib/python3.7/dist-packages/pandas/core/frame.py:4174: SettingWithCopyWarning: \n",
            "A value is trying to be set on a copy of a slice from a DataFrame\n",
            "\n",
            "See the caveats in the documentation: https://pandas.pydata.org/pandas-docs/stable/user_guide/indexing.html#returning-a-view-versus-a-copy\n",
            "  errors=errors,\n",
            "/usr/local/lib/python3.7/dist-packages/pandas/core/frame.py:4174: SettingWithCopyWarning: \n",
            "A value is trying to be set on a copy of a slice from a DataFrame\n",
            "\n",
            "See the caveats in the documentation: https://pandas.pydata.org/pandas-docs/stable/user_guide/indexing.html#returning-a-view-versus-a-copy\n",
            "  errors=errors,\n",
            "/usr/local/lib/python3.7/dist-packages/pandas/core/frame.py:4174: SettingWithCopyWarning: \n",
            "A value is trying to be set on a copy of a slice from a DataFrame\n",
            "\n",
            "See the caveats in the documentation: https://pandas.pydata.org/pandas-docs/stable/user_guide/indexing.html#returning-a-view-versus-a-copy\n",
            "  errors=errors,\n",
            "/usr/local/lib/python3.7/dist-packages/pandas/core/frame.py:4174: SettingWithCopyWarning: \n",
            "A value is trying to be set on a copy of a slice from a DataFrame\n",
            "\n",
            "See the caveats in the documentation: https://pandas.pydata.org/pandas-docs/stable/user_guide/indexing.html#returning-a-view-versus-a-copy\n",
            "  errors=errors,\n",
            "/usr/local/lib/python3.7/dist-packages/pandas/core/frame.py:4174: SettingWithCopyWarning: \n",
            "A value is trying to be set on a copy of a slice from a DataFrame\n",
            "\n",
            "See the caveats in the documentation: https://pandas.pydata.org/pandas-docs/stable/user_guide/indexing.html#returning-a-view-versus-a-copy\n",
            "  errors=errors,\n",
            "/usr/local/lib/python3.7/dist-packages/pandas/core/frame.py:4174: SettingWithCopyWarning: \n",
            "A value is trying to be set on a copy of a slice from a DataFrame\n",
            "\n",
            "See the caveats in the documentation: https://pandas.pydata.org/pandas-docs/stable/user_guide/indexing.html#returning-a-view-versus-a-copy\n",
            "  errors=errors,\n",
            "/usr/local/lib/python3.7/dist-packages/pandas/core/frame.py:4174: SettingWithCopyWarning: \n",
            "A value is trying to be set on a copy of a slice from a DataFrame\n",
            "\n",
            "See the caveats in the documentation: https://pandas.pydata.org/pandas-docs/stable/user_guide/indexing.html#returning-a-view-versus-a-copy\n",
            "  errors=errors,\n",
            "/usr/local/lib/python3.7/dist-packages/pandas/core/frame.py:4174: SettingWithCopyWarning: \n",
            "A value is trying to be set on a copy of a slice from a DataFrame\n",
            "\n",
            "See the caveats in the documentation: https://pandas.pydata.org/pandas-docs/stable/user_guide/indexing.html#returning-a-view-versus-a-copy\n",
            "  errors=errors,\n",
            "/usr/local/lib/python3.7/dist-packages/pandas/core/frame.py:4174: SettingWithCopyWarning: \n",
            "A value is trying to be set on a copy of a slice from a DataFrame\n",
            "\n",
            "See the caveats in the documentation: https://pandas.pydata.org/pandas-docs/stable/user_guide/indexing.html#returning-a-view-versus-a-copy\n",
            "  errors=errors,\n",
            "/usr/local/lib/python3.7/dist-packages/pandas/core/frame.py:4174: SettingWithCopyWarning: \n",
            "A value is trying to be set on a copy of a slice from a DataFrame\n",
            "\n",
            "See the caveats in the documentation: https://pandas.pydata.org/pandas-docs/stable/user_guide/indexing.html#returning-a-view-versus-a-copy\n",
            "  errors=errors,\n",
            "/usr/local/lib/python3.7/dist-packages/pandas/core/frame.py:4174: SettingWithCopyWarning: \n",
            "A value is trying to be set on a copy of a slice from a DataFrame\n",
            "\n",
            "See the caveats in the documentation: https://pandas.pydata.org/pandas-docs/stable/user_guide/indexing.html#returning-a-view-versus-a-copy\n",
            "  errors=errors,\n",
            "/usr/local/lib/python3.7/dist-packages/pandas/core/frame.py:4174: SettingWithCopyWarning: \n",
            "A value is trying to be set on a copy of a slice from a DataFrame\n",
            "\n",
            "See the caveats in the documentation: https://pandas.pydata.org/pandas-docs/stable/user_guide/indexing.html#returning-a-view-versus-a-copy\n",
            "  errors=errors,\n",
            "/usr/local/lib/python3.7/dist-packages/pandas/core/frame.py:4174: SettingWithCopyWarning: \n",
            "A value is trying to be set on a copy of a slice from a DataFrame\n",
            "\n",
            "See the caveats in the documentation: https://pandas.pydata.org/pandas-docs/stable/user_guide/indexing.html#returning-a-view-versus-a-copy\n",
            "  errors=errors,\n",
            "/usr/local/lib/python3.7/dist-packages/pandas/core/frame.py:4174: SettingWithCopyWarning: \n",
            "A value is trying to be set on a copy of a slice from a DataFrame\n",
            "\n",
            "See the caveats in the documentation: https://pandas.pydata.org/pandas-docs/stable/user_guide/indexing.html#returning-a-view-versus-a-copy\n",
            "  errors=errors,\n",
            "/usr/local/lib/python3.7/dist-packages/pandas/core/frame.py:4174: SettingWithCopyWarning: \n",
            "A value is trying to be set on a copy of a slice from a DataFrame\n",
            "\n",
            "See the caveats in the documentation: https://pandas.pydata.org/pandas-docs/stable/user_guide/indexing.html#returning-a-view-versus-a-copy\n",
            "  errors=errors,\n",
            "/usr/local/lib/python3.7/dist-packages/pandas/core/frame.py:4174: SettingWithCopyWarning: \n",
            "A value is trying to be set on a copy of a slice from a DataFrame\n",
            "\n",
            "See the caveats in the documentation: https://pandas.pydata.org/pandas-docs/stable/user_guide/indexing.html#returning-a-view-versus-a-copy\n",
            "  errors=errors,\n",
            "/usr/local/lib/python3.7/dist-packages/pandas/core/frame.py:4174: SettingWithCopyWarning: \n",
            "A value is trying to be set on a copy of a slice from a DataFrame\n",
            "\n",
            "See the caveats in the documentation: https://pandas.pydata.org/pandas-docs/stable/user_guide/indexing.html#returning-a-view-versus-a-copy\n",
            "  errors=errors,\n",
            "/usr/local/lib/python3.7/dist-packages/pandas/core/frame.py:4174: SettingWithCopyWarning: \n",
            "A value is trying to be set on a copy of a slice from a DataFrame\n",
            "\n",
            "See the caveats in the documentation: https://pandas.pydata.org/pandas-docs/stable/user_guide/indexing.html#returning-a-view-versus-a-copy\n",
            "  errors=errors,\n",
            "/usr/local/lib/python3.7/dist-packages/pandas/core/frame.py:4174: SettingWithCopyWarning: \n",
            "A value is trying to be set on a copy of a slice from a DataFrame\n",
            "\n",
            "See the caveats in the documentation: https://pandas.pydata.org/pandas-docs/stable/user_guide/indexing.html#returning-a-view-versus-a-copy\n",
            "  errors=errors,\n",
            "/usr/local/lib/python3.7/dist-packages/pandas/core/frame.py:4174: SettingWithCopyWarning: \n",
            "A value is trying to be set on a copy of a slice from a DataFrame\n",
            "\n",
            "See the caveats in the documentation: https://pandas.pydata.org/pandas-docs/stable/user_guide/indexing.html#returning-a-view-versus-a-copy\n",
            "  errors=errors,\n",
            "/usr/local/lib/python3.7/dist-packages/pandas/core/frame.py:4174: SettingWithCopyWarning: \n",
            "A value is trying to be set on a copy of a slice from a DataFrame\n",
            "\n",
            "See the caveats in the documentation: https://pandas.pydata.org/pandas-docs/stable/user_guide/indexing.html#returning-a-view-versus-a-copy\n",
            "  errors=errors,\n",
            "/usr/local/lib/python3.7/dist-packages/pandas/core/frame.py:4174: SettingWithCopyWarning: \n",
            "A value is trying to be set on a copy of a slice from a DataFrame\n",
            "\n",
            "See the caveats in the documentation: https://pandas.pydata.org/pandas-docs/stable/user_guide/indexing.html#returning-a-view-versus-a-copy\n",
            "  errors=errors,\n",
            "/usr/local/lib/python3.7/dist-packages/pandas/core/frame.py:4174: SettingWithCopyWarning: \n",
            "A value is trying to be set on a copy of a slice from a DataFrame\n",
            "\n",
            "See the caveats in the documentation: https://pandas.pydata.org/pandas-docs/stable/user_guide/indexing.html#returning-a-view-versus-a-copy\n",
            "  errors=errors,\n",
            "/usr/local/lib/python3.7/dist-packages/pandas/core/frame.py:4174: SettingWithCopyWarning: \n",
            "A value is trying to be set on a copy of a slice from a DataFrame\n",
            "\n",
            "See the caveats in the documentation: https://pandas.pydata.org/pandas-docs/stable/user_guide/indexing.html#returning-a-view-versus-a-copy\n",
            "  errors=errors,\n",
            "/usr/local/lib/python3.7/dist-packages/pandas/core/frame.py:4174: SettingWithCopyWarning: \n",
            "A value is trying to be set on a copy of a slice from a DataFrame\n",
            "\n",
            "See the caveats in the documentation: https://pandas.pydata.org/pandas-docs/stable/user_guide/indexing.html#returning-a-view-versus-a-copy\n",
            "  errors=errors,\n",
            "/usr/local/lib/python3.7/dist-packages/pandas/core/frame.py:4174: SettingWithCopyWarning: \n",
            "A value is trying to be set on a copy of a slice from a DataFrame\n",
            "\n",
            "See the caveats in the documentation: https://pandas.pydata.org/pandas-docs/stable/user_guide/indexing.html#returning-a-view-versus-a-copy\n",
            "  errors=errors,\n",
            "/usr/local/lib/python3.7/dist-packages/pandas/core/frame.py:4174: SettingWithCopyWarning: \n",
            "A value is trying to be set on a copy of a slice from a DataFrame\n",
            "\n",
            "See the caveats in the documentation: https://pandas.pydata.org/pandas-docs/stable/user_guide/indexing.html#returning-a-view-versus-a-copy\n",
            "  errors=errors,\n",
            "/usr/local/lib/python3.7/dist-packages/pandas/core/frame.py:4174: SettingWithCopyWarning: \n",
            "A value is trying to be set on a copy of a slice from a DataFrame\n",
            "\n",
            "See the caveats in the documentation: https://pandas.pydata.org/pandas-docs/stable/user_guide/indexing.html#returning-a-view-versus-a-copy\n",
            "  errors=errors,\n",
            "/usr/local/lib/python3.7/dist-packages/pandas/core/frame.py:4174: SettingWithCopyWarning: \n",
            "A value is trying to be set on a copy of a slice from a DataFrame\n",
            "\n",
            "See the caveats in the documentation: https://pandas.pydata.org/pandas-docs/stable/user_guide/indexing.html#returning-a-view-versus-a-copy\n",
            "  errors=errors,\n",
            "/usr/local/lib/python3.7/dist-packages/pandas/core/frame.py:4174: SettingWithCopyWarning: \n",
            "A value is trying to be set on a copy of a slice from a DataFrame\n",
            "\n",
            "See the caveats in the documentation: https://pandas.pydata.org/pandas-docs/stable/user_guide/indexing.html#returning-a-view-versus-a-copy\n",
            "  errors=errors,\n",
            "/usr/local/lib/python3.7/dist-packages/pandas/core/frame.py:4174: SettingWithCopyWarning: \n",
            "A value is trying to be set on a copy of a slice from a DataFrame\n",
            "\n",
            "See the caveats in the documentation: https://pandas.pydata.org/pandas-docs/stable/user_guide/indexing.html#returning-a-view-versus-a-copy\n",
            "  errors=errors,\n",
            "/usr/local/lib/python3.7/dist-packages/pandas/core/frame.py:4174: SettingWithCopyWarning: \n",
            "A value is trying to be set on a copy of a slice from a DataFrame\n",
            "\n",
            "See the caveats in the documentation: https://pandas.pydata.org/pandas-docs/stable/user_guide/indexing.html#returning-a-view-versus-a-copy\n",
            "  errors=errors,\n",
            "/usr/local/lib/python3.7/dist-packages/pandas/core/frame.py:4174: SettingWithCopyWarning: \n",
            "A value is trying to be set on a copy of a slice from a DataFrame\n",
            "\n",
            "See the caveats in the documentation: https://pandas.pydata.org/pandas-docs/stable/user_guide/indexing.html#returning-a-view-versus-a-copy\n",
            "  errors=errors,\n",
            "/usr/local/lib/python3.7/dist-packages/pandas/core/frame.py:4174: SettingWithCopyWarning: \n",
            "A value is trying to be set on a copy of a slice from a DataFrame\n",
            "\n",
            "See the caveats in the documentation: https://pandas.pydata.org/pandas-docs/stable/user_guide/indexing.html#returning-a-view-versus-a-copy\n",
            "  errors=errors,\n",
            "/usr/local/lib/python3.7/dist-packages/pandas/core/frame.py:4174: SettingWithCopyWarning: \n",
            "A value is trying to be set on a copy of a slice from a DataFrame\n",
            "\n",
            "See the caveats in the documentation: https://pandas.pydata.org/pandas-docs/stable/user_guide/indexing.html#returning-a-view-versus-a-copy\n",
            "  errors=errors,\n",
            "/usr/local/lib/python3.7/dist-packages/pandas/core/frame.py:4174: SettingWithCopyWarning: \n",
            "A value is trying to be set on a copy of a slice from a DataFrame\n",
            "\n",
            "See the caveats in the documentation: https://pandas.pydata.org/pandas-docs/stable/user_guide/indexing.html#returning-a-view-versus-a-copy\n",
            "  errors=errors,\n",
            "/usr/local/lib/python3.7/dist-packages/pandas/core/frame.py:4174: SettingWithCopyWarning: \n",
            "A value is trying to be set on a copy of a slice from a DataFrame\n",
            "\n",
            "See the caveats in the documentation: https://pandas.pydata.org/pandas-docs/stable/user_guide/indexing.html#returning-a-view-versus-a-copy\n",
            "  errors=errors,\n",
            "/usr/local/lib/python3.7/dist-packages/pandas/core/frame.py:4174: SettingWithCopyWarning: \n",
            "A value is trying to be set on a copy of a slice from a DataFrame\n",
            "\n",
            "See the caveats in the documentation: https://pandas.pydata.org/pandas-docs/stable/user_guide/indexing.html#returning-a-view-versus-a-copy\n",
            "  errors=errors,\n",
            "/usr/local/lib/python3.7/dist-packages/pandas/core/frame.py:4174: SettingWithCopyWarning: \n",
            "A value is trying to be set on a copy of a slice from a DataFrame\n",
            "\n",
            "See the caveats in the documentation: https://pandas.pydata.org/pandas-docs/stable/user_guide/indexing.html#returning-a-view-versus-a-copy\n",
            "  errors=errors,\n",
            "/usr/local/lib/python3.7/dist-packages/pandas/core/frame.py:4174: SettingWithCopyWarning: \n",
            "A value is trying to be set on a copy of a slice from a DataFrame\n",
            "\n",
            "See the caveats in the documentation: https://pandas.pydata.org/pandas-docs/stable/user_guide/indexing.html#returning-a-view-versus-a-copy\n",
            "  errors=errors,\n",
            "/usr/local/lib/python3.7/dist-packages/pandas/core/frame.py:4174: SettingWithCopyWarning: \n",
            "A value is trying to be set on a copy of a slice from a DataFrame\n",
            "\n",
            "See the caveats in the documentation: https://pandas.pydata.org/pandas-docs/stable/user_guide/indexing.html#returning-a-view-versus-a-copy\n",
            "  errors=errors,\n",
            "/usr/local/lib/python3.7/dist-packages/pandas/core/frame.py:4174: SettingWithCopyWarning: \n",
            "A value is trying to be set on a copy of a slice from a DataFrame\n",
            "\n",
            "See the caveats in the documentation: https://pandas.pydata.org/pandas-docs/stable/user_guide/indexing.html#returning-a-view-versus-a-copy\n",
            "  errors=errors,\n",
            "/usr/local/lib/python3.7/dist-packages/pandas/core/frame.py:4174: SettingWithCopyWarning: \n",
            "A value is trying to be set on a copy of a slice from a DataFrame\n",
            "\n",
            "See the caveats in the documentation: https://pandas.pydata.org/pandas-docs/stable/user_guide/indexing.html#returning-a-view-versus-a-copy\n",
            "  errors=errors,\n",
            "/usr/local/lib/python3.7/dist-packages/pandas/core/frame.py:4174: SettingWithCopyWarning: \n",
            "A value is trying to be set on a copy of a slice from a DataFrame\n",
            "\n",
            "See the caveats in the documentation: https://pandas.pydata.org/pandas-docs/stable/user_guide/indexing.html#returning-a-view-versus-a-copy\n",
            "  errors=errors,\n"
          ]
        }
      ]
    },
    {
      "cell_type": "code",
      "source": [
        "avg_accuracies"
      ],
      "metadata": {
        "id": "SGld75NroFDk",
        "colab": {
          "base_uri": "https://localhost:8080/"
        },
        "outputId": "8f9dbbba-47cd-46d2-ede9-6af21b79fddb"
      },
      "execution_count": 102,
      "outputs": [
        {
          "output_type": "execute_result",
          "data": {
            "text/plain": [
              "[0.81,\n",
              " 0.8425,\n",
              " 0.81,\n",
              " 0.8475,\n",
              " 0.8475,\n",
              " 0.7975,\n",
              " 0.845,\n",
              " 0.84,\n",
              " 0.81,\n",
              " 0.845,\n",
              " 0.785,\n",
              " 0.835,\n",
              " 0.84,\n",
              " 0.795,\n",
              " 0.8775,\n",
              " 0.6975,\n",
              " 0.8025,\n",
              " 0.8375,\n",
              " 0.8075,\n",
              " 0.8525,\n",
              " 0.83,\n",
              " 0.8125,\n",
              " 0.8525,\n",
              " 0.8275,\n",
              " 0.805,\n",
              " 0.7175,\n",
              " 0.7775,\n",
              " 0.75,\n",
              " 0.79,\n",
              " 0.7925,\n",
              " 0.8625,\n",
              " 0.7525,\n",
              " 0.8025,\n",
              " 0.7925,\n",
              " 0.7275,\n",
              " 0.85,\n",
              " 0.8525,\n",
              " 0.4475,\n",
              " 0.81,\n",
              " 0.74,\n",
              " 0.7375,\n",
              " 0.8125,\n",
              " 0.5675,\n",
              " 0.82,\n",
              " 0.785,\n",
              " 0.9225,\n",
              " 0.805,\n",
              " 0.8,\n",
              " 0.84,\n",
              " 0.76,\n",
              " 0.8]"
            ]
          },
          "metadata": {},
          "execution_count": 102
        }
      ]
    },
    {
      "cell_type": "code",
      "source": [
        "print( np.mean(avg_accuracies)  ) "
      ],
      "metadata": {
        "id": "jVYxGkhZm_1u",
        "colab": {
          "base_uri": "https://localhost:8080/"
        },
        "outputId": "1c10b222-0ec5-4949-ba71-8856c56f42e0"
      },
      "execution_count": 103,
      "outputs": [
        {
          "output_type": "stream",
          "name": "stdout",
          "text": [
            "0.7974019607843138\n"
          ]
        }
      ]
    },
    {
      "cell_type": "code",
      "source": [
        "print( np.mean( avg_eers ) )"
      ],
      "metadata": {
        "id": "bXLmt9wnilst",
        "colab": {
          "base_uri": "https://localhost:8080/"
        },
        "outputId": "510b50f5-faea-4ee6-a716-b252651ba99d"
      },
      "execution_count": 104,
      "outputs": [
        {
          "output_type": "stream",
          "name": "stdout",
          "text": [
            "0.31117647058823533\n"
          ]
        }
      ]
    },
    {
      "cell_type": "code",
      "source": [
        ""
      ],
      "metadata": {
        "id": "9CtIOLlvilvH"
      },
      "execution_count": null,
      "outputs": []
    },
    {
      "cell_type": "code",
      "source": [
        ""
      ],
      "metadata": {
        "id": "W2nKqCawilyt"
      },
      "execution_count": null,
      "outputs": []
    },
    {
      "cell_type": "code",
      "source": [
        ""
      ],
      "metadata": {
        "id": "dEUULzzfimBE"
      },
      "execution_count": null,
      "outputs": []
    },
    {
      "cell_type": "markdown",
      "source": [
        "# **Classification**"
      ],
      "metadata": {
        "id": "DbQsZ-gygets"
      }
    },
    {
      "cell_type": "code",
      "source": [
        "\n",
        "\n",
        "from sklearn.neighbors import KNeighborsClassifier\n",
        "from sklearn.model_selection import train_test_split\n",
        "from sklearn.pipeline import make_pipeline\n",
        "from sklearn.preprocessing import StandardScaler\n",
        "from sklearn.svm import SVC\n",
        "from sklearn.ensemble import RandomForestClassifier\n",
        "from sklearn.naive_bayes import GaussianNB\n",
        "from sklearn.ensemble import VotingClassifier\n",
        "from sklearn.tree import DecisionTreeClassifier\n",
        "\n",
        "\n"
      ],
      "metadata": {
        "id": "2ZozbIT2gqti"
      },
      "execution_count": 23,
      "outputs": []
    },
    {
      "cell_type": "markdown",
      "source": [
        "# **Classification Algorithms**"
      ],
      "metadata": {
        "id": "q0u0VLfcjX7i"
      }
    },
    {
      "cell_type": "markdown",
      "source": [
        "# **Building The Models**"
      ],
      "metadata": {
        "id": "sphMeovetdbK"
      }
    },
    {
      "cell_type": "code",
      "source": [
        "\n",
        "\n",
        "KNN_model = make_pipeline (  StandardScaler( ) ,  KNeighborsClassifier(n_neighbors=1 )   ) \n",
        "\n",
        "SVM_Model = make_pipeline(  StandardScaler( )  ,  SVC(gamma='auto'))\n",
        "\n",
        "RF_Model = make_pipeline(  StandardScaler( )  ,   RandomForestClassifier(   n_estimators=20, random_state=0   )    )\n",
        "\n",
        "NN_Model = make_pipeline(  StandardScaler( )  ,    GaussianNB(   )   )\n",
        "\n",
        "DT_Model = make_pipeline( StandardScaler( )  ,  DecisionTreeClassifier( criterion = \"entropy\",  max_depth = 2,  min_samples_split = 5, min_samples_leaf = 2, max_features = 2  )   ) \n",
        " \n",
        " \n",
        "Ensemble_hard = VotingClassifier(  estimators=[  ('SVM', SVM_Model ) , ('RF',  RF_Model )  ,  (  'KNN' , KNN_model  )   ] ,  voting='hard' , weights= [ 2 , 3 , 1  ]   )\n"
      ],
      "metadata": {
        "id": "mD0dTl1Xgqwj"
      },
      "execution_count": 24,
      "outputs": []
    },
    {
      "cell_type": "code",
      "source": [
        "\n",
        "\n",
        "def Compute_EER(   y_true ,   y_pred ):\n",
        "\n",
        "  fpr, tpr, threshold = roc_curve(y_true , y_pred , pos_label = 0   )\n",
        "  fnr = 1 - tpr\n",
        "  eer = fpr[np.nanargmin(np.absolute((fnr - fpr)))]\n",
        "\n",
        "  return  eer ; \n",
        "\n",
        " \n",
        " "
      ],
      "metadata": {
        "id": "Cg2NNzkJgqzX"
      },
      "execution_count": 25,
      "outputs": []
    },
    {
      "cell_type": "code",
      "source": [
        "\n",
        "\n",
        "\n",
        "KNN_accuracy_list = [ ]\n",
        "SVM_accuracy_list = [ ]\n",
        "RF_accuracy_list = [ ] \n",
        "NN_accuracy_list = [ ] \n",
        "DT_accuracy_list = [ ] \n",
        "Voting_accuracy_list = [  ] \n",
        "\n",
        "\n",
        "\n",
        "KNN_EER_list  =  [ ] \n",
        "SVM_EER_list =  [  ] \n",
        "RF_EER_list  = [  ] \n",
        "NN_EER_list  = [  ] \n",
        "DT_EER_list  = [  ] \n",
        "Voting_EER_list =  [  ] \n",
        "\n",
        "\n",
        "\n",
        "for subject in subjects:           \n",
        "  # Consider current subject as genuine and rest as imposters\n",
        "  # !!!!!!!!!!!!!!!!!!!!!!! to be seen the df  whether it will be 51 or not\n",
        "\n",
        "  genuine_df = df.loc[df.subject == subject, \"H.period\":\"H.Return\"]\n",
        "  imposter_df = df.loc[df.subject != subject, :]\n",
        "  \n",
        "\n",
        "\n",
        "  genuine_df = genuine_df.reset_index()\n",
        "  imposter_df = imposter_df.reset_index() \n",
        "\n",
        " \n",
        "  train = genuine_df[:400]\n",
        "  train.drop('index', axis=1, inplace=True)\n",
        "\n",
        "\n",
        "  # # True set (100 records)\n",
        "  # test_genuine = genuine_df[300:]\n",
        "  # test_genuine = test_genuine.reset_index()\n",
        "\n",
        "  # test_genuine.drop('level_0', axis=1, inplace=True)\n",
        "  # test_genuine.drop('index', axis=1, inplace=True)\n",
        "    \n",
        "    \n",
        "\n",
        "  # False set (250 records, 5 per imposter, 50 imposters in all)      \n",
        "  test_imposter = imposter_df.groupby(\"subject\").head( 8 ).loc[:, \"H.period\":\"H.Return\"]         ##  8 for each imposter  ===>>>>> 400\n",
        "  test_imposter = test_imposter.reset_index()\n",
        "  test_imposter.drop('index', axis=1, inplace=True)\n",
        " \n",
        "\n",
        "\n",
        "  data = train.append( test_imposter , ignore_index=True)\n",
        " \n",
        "  # y_true\n",
        "  label = [0]*len( train ) + [-1]*len( test_imposter )\n",
        "\n",
        "  x_train, x_test, y_train, y_test = train_test_split( data  ,  label ,  test_size=0.3 ,    random_state=0,  stratify= label  )\n",
        "\n",
        "\n",
        "  KNN_model = KNN_model.fit(   x_train ,   y_train     )\n",
        "  SVM_Model = SVM_Model.fit(     x_train ,   y_train   )\n",
        "  RF_Model = RF_Model.fit(      x_train ,   y_train   )\n",
        "  NN_Model = NN_Model.fit(    x_train ,   y_train  )\n",
        "  DT_Model = DT_Model.fit(     x_train ,   y_train     )\n",
        "###############################################################################\n",
        "###############################################################################\n",
        "\n",
        " \n",
        "  # Fit the model with voting classifier\n",
        "  #\n",
        "  Ensemble_hard.fit(    x_train ,   y_train  )\n",
        "\n",
        "\n",
        "###############################################################################\n",
        "###############################################################################\n",
        "\n",
        "\n",
        "  KNN_pred = KNN_model.predict(  x_test )\n",
        "  SVM_pred = SVM_Model.predict(  x_test ) \n",
        "  RF_pred  = RF_Model.predict(   x_test  )  \n",
        "  NN_pred = NN_Model.predict(    x_test  ) \n",
        "  DT_pred = DT_Model.predict(    x_test  ) \n",
        "\n",
        "  Ensemble_hard_pred = Ensemble_hard.predict(  x_test   ) \n",
        "\n",
        "\n",
        "###############################################################################\n",
        "\n",
        "  KNN_accuracy_list.append(  accuracy_score(  y_test  , KNN_pred   ) )\n",
        "  SVM_accuracy_list.append(  accuracy_score(  y_test ,   SVM_pred   )  )\n",
        "  RF_accuracy_list.append(  accuracy_score(  y_test ,   RF_pred   )  )\n",
        "  NN_accuracy_list.append(  accuracy_score(  y_test ,   NN_pred   )  )\n",
        "  DT_accuracy_list.append(  accuracy_score(  y_test ,   DT_pred   )  )\n",
        "  Voting_accuracy_list.append(  accuracy_score(  y_test ,   Ensemble_hard_pred   )  )\n",
        "\n",
        "\n",
        "\n",
        "  KNN_EER_list.append(   Compute_EER(  y_test  , KNN_pred )  )\n",
        "  SVM_EER_list.append(  Compute_EER(  y_test  , SVM_pred ) )\n",
        "  RF_EER_list.append(  Compute_EER(  y_test  , RF_pred ) )\n",
        "  NN_EER_list.append(  Compute_EER(  y_test  , NN_pred ) )\n",
        "  DT_EER_list.append(  Compute_EER(  y_test  , DT_pred ) )\n",
        "  Voting_EER_list.append(  Compute_EER(  y_test  , Ensemble_hard_pred ) )\n",
        "\n",
        "\n",
        "\n",
        "###############################################################################\n",
        "###############################################################################\n",
        "\n",
        "print( KNN_accuracy_list )\n",
        "Mean_KNN_Acc = np.mean( KNN_accuracy_list )\n",
        "Mean_KNN_EER =  np.mean( KNN_EER_list )\n",
        "print ( \"Mean KNN Accuracy && Mean EER   :- \"  ,   Mean_KNN_Acc  , Mean_KNN_EER   )\n",
        "\n",
        "\n",
        "\n",
        "print( SVM_accuracy_list )\n",
        "Mean_SVM_Acc = np.mean( SVM_accuracy_list )\n",
        "Mean_SVM_EER =  np.mean( SVM_EER_list )\n",
        "print ( \"Mean Accuracy && Mean EER   :- \" ,  Mean_SVM_Acc   ,   Mean_SVM_EER  )\n",
        "\n",
        "\n",
        "\n",
        "print( RF_accuracy_list )\n",
        "Mean_RF_Acc =  np.mean( RF_accuracy_list )\n",
        "Mean_RF_EER =  np.mean( RF_EER_list ) \n",
        "print ( \"Mean Accuracy && Mean EER   :- \" ,  Mean_RF_Acc  ,  Mean_RF_EER   )\n",
        "\n",
        "\n",
        "\n",
        "\n",
        "print(  NN_accuracy_list )\n",
        "Mean_NB_Acc =  np.mean( NN_accuracy_list )\n",
        "Mean_NB_EER =  np.mean( NN_EER_list ) \n",
        "print ( \"Mean Accuracy && Mean EER   :- \" ,   Mean_NB_Acc  ,   Mean_NB_EER  )\n",
        "\n",
        "\n",
        "\n",
        "\n",
        "print(  DT_accuracy_list )\n",
        "Mean_DT_Acc =   np.mean( DT_accuracy_list )\n",
        "Mean_DT_EER =   np.mean( DT_EER_list )  \n",
        "print ( \"Mean Accuracy && Mean EER   :- \" , Mean_DT_Acc  ,  Mean_DT_EER )\n",
        "\n",
        "\n",
        "\n",
        "\n",
        "\n",
        "\n",
        "print(  Voting_accuracy_list )\n",
        "Mean_Stacking_Acc =   np.mean( Voting_accuracy_list ) \n",
        "Mean_Stacking_EER =    np.mean( Voting_EER_list ) \n",
        "\n",
        "print ( \"Mean Accuracy && Mean EER   :- \" ,  Mean_Stacking_Acc ,  Mean_Stacking_EER  )\n",
        "\n",
        "\n",
        "# ###############################################################################\n",
        "# ###############################################################################\n",
        "\n",
        "\n",
        "\n",
        "\n",
        "\n",
        "#   nb_h_accuracies.append( accuracy_score( y_true, y_pred ) )\n",
        " \n",
        "#   fpr, tpr, threshold = roc_curve(y_true, y_pred, pos_label=0)\n",
        "#   fnr = 1 - tpr\n",
        "#   eer = fpr[np.nanargmin(np.absolute((fnr - fpr)))]\n",
        "#   nb_h_eers.append(eer)\n",
        "\n",
        "\n",
        "# print( nb_h_accuracies )\n",
        "\n",
        "\n"
      ],
      "metadata": {
        "id": "Mu-of3Cwgq26",
        "colab": {
          "base_uri": "https://localhost:8080/"
        },
        "outputId": "34b619c1-33c7-4689-8d93-4653321ad37a"
      },
      "execution_count": 97,
      "outputs": [
        {
          "output_type": "stream",
          "name": "stderr",
          "text": [
            "/usr/local/lib/python3.7/dist-packages/pandas/core/frame.py:4174: SettingWithCopyWarning: \n",
            "A value is trying to be set on a copy of a slice from a DataFrame\n",
            "\n",
            "See the caveats in the documentation: https://pandas.pydata.org/pandas-docs/stable/user_guide/indexing.html#returning-a-view-versus-a-copy\n",
            "  errors=errors,\n",
            "/usr/local/lib/python3.7/dist-packages/pandas/core/frame.py:4174: SettingWithCopyWarning: \n",
            "A value is trying to be set on a copy of a slice from a DataFrame\n",
            "\n",
            "See the caveats in the documentation: https://pandas.pydata.org/pandas-docs/stable/user_guide/indexing.html#returning-a-view-versus-a-copy\n",
            "  errors=errors,\n",
            "/usr/local/lib/python3.7/dist-packages/pandas/core/frame.py:4174: SettingWithCopyWarning: \n",
            "A value is trying to be set on a copy of a slice from a DataFrame\n",
            "\n",
            "See the caveats in the documentation: https://pandas.pydata.org/pandas-docs/stable/user_guide/indexing.html#returning-a-view-versus-a-copy\n",
            "  errors=errors,\n",
            "/usr/local/lib/python3.7/dist-packages/pandas/core/frame.py:4174: SettingWithCopyWarning: \n",
            "A value is trying to be set on a copy of a slice from a DataFrame\n",
            "\n",
            "See the caveats in the documentation: https://pandas.pydata.org/pandas-docs/stable/user_guide/indexing.html#returning-a-view-versus-a-copy\n",
            "  errors=errors,\n",
            "/usr/local/lib/python3.7/dist-packages/pandas/core/frame.py:4174: SettingWithCopyWarning: \n",
            "A value is trying to be set on a copy of a slice from a DataFrame\n",
            "\n",
            "See the caveats in the documentation: https://pandas.pydata.org/pandas-docs/stable/user_guide/indexing.html#returning-a-view-versus-a-copy\n",
            "  errors=errors,\n",
            "/usr/local/lib/python3.7/dist-packages/pandas/core/frame.py:4174: SettingWithCopyWarning: \n",
            "A value is trying to be set on a copy of a slice from a DataFrame\n",
            "\n",
            "See the caveats in the documentation: https://pandas.pydata.org/pandas-docs/stable/user_guide/indexing.html#returning-a-view-versus-a-copy\n",
            "  errors=errors,\n",
            "/usr/local/lib/python3.7/dist-packages/pandas/core/frame.py:4174: SettingWithCopyWarning: \n",
            "A value is trying to be set on a copy of a slice from a DataFrame\n",
            "\n",
            "See the caveats in the documentation: https://pandas.pydata.org/pandas-docs/stable/user_guide/indexing.html#returning-a-view-versus-a-copy\n",
            "  errors=errors,\n",
            "/usr/local/lib/python3.7/dist-packages/pandas/core/frame.py:4174: SettingWithCopyWarning: \n",
            "A value is trying to be set on a copy of a slice from a DataFrame\n",
            "\n",
            "See the caveats in the documentation: https://pandas.pydata.org/pandas-docs/stable/user_guide/indexing.html#returning-a-view-versus-a-copy\n",
            "  errors=errors,\n",
            "/usr/local/lib/python3.7/dist-packages/pandas/core/frame.py:4174: SettingWithCopyWarning: \n",
            "A value is trying to be set on a copy of a slice from a DataFrame\n",
            "\n",
            "See the caveats in the documentation: https://pandas.pydata.org/pandas-docs/stable/user_guide/indexing.html#returning-a-view-versus-a-copy\n",
            "  errors=errors,\n",
            "/usr/local/lib/python3.7/dist-packages/pandas/core/frame.py:4174: SettingWithCopyWarning: \n",
            "A value is trying to be set on a copy of a slice from a DataFrame\n",
            "\n",
            "See the caveats in the documentation: https://pandas.pydata.org/pandas-docs/stable/user_guide/indexing.html#returning-a-view-versus-a-copy\n",
            "  errors=errors,\n",
            "/usr/local/lib/python3.7/dist-packages/pandas/core/frame.py:4174: SettingWithCopyWarning: \n",
            "A value is trying to be set on a copy of a slice from a DataFrame\n",
            "\n",
            "See the caveats in the documentation: https://pandas.pydata.org/pandas-docs/stable/user_guide/indexing.html#returning-a-view-versus-a-copy\n",
            "  errors=errors,\n",
            "/usr/local/lib/python3.7/dist-packages/pandas/core/frame.py:4174: SettingWithCopyWarning: \n",
            "A value is trying to be set on a copy of a slice from a DataFrame\n",
            "\n",
            "See the caveats in the documentation: https://pandas.pydata.org/pandas-docs/stable/user_guide/indexing.html#returning-a-view-versus-a-copy\n",
            "  errors=errors,\n",
            "/usr/local/lib/python3.7/dist-packages/pandas/core/frame.py:4174: SettingWithCopyWarning: \n",
            "A value is trying to be set on a copy of a slice from a DataFrame\n",
            "\n",
            "See the caveats in the documentation: https://pandas.pydata.org/pandas-docs/stable/user_guide/indexing.html#returning-a-view-versus-a-copy\n",
            "  errors=errors,\n",
            "/usr/local/lib/python3.7/dist-packages/pandas/core/frame.py:4174: SettingWithCopyWarning: \n",
            "A value is trying to be set on a copy of a slice from a DataFrame\n",
            "\n",
            "See the caveats in the documentation: https://pandas.pydata.org/pandas-docs/stable/user_guide/indexing.html#returning-a-view-versus-a-copy\n",
            "  errors=errors,\n",
            "/usr/local/lib/python3.7/dist-packages/pandas/core/frame.py:4174: SettingWithCopyWarning: \n",
            "A value is trying to be set on a copy of a slice from a DataFrame\n",
            "\n",
            "See the caveats in the documentation: https://pandas.pydata.org/pandas-docs/stable/user_guide/indexing.html#returning-a-view-versus-a-copy\n",
            "  errors=errors,\n",
            "/usr/local/lib/python3.7/dist-packages/pandas/core/frame.py:4174: SettingWithCopyWarning: \n",
            "A value is trying to be set on a copy of a slice from a DataFrame\n",
            "\n",
            "See the caveats in the documentation: https://pandas.pydata.org/pandas-docs/stable/user_guide/indexing.html#returning-a-view-versus-a-copy\n",
            "  errors=errors,\n",
            "/usr/local/lib/python3.7/dist-packages/pandas/core/frame.py:4174: SettingWithCopyWarning: \n",
            "A value is trying to be set on a copy of a slice from a DataFrame\n",
            "\n",
            "See the caveats in the documentation: https://pandas.pydata.org/pandas-docs/stable/user_guide/indexing.html#returning-a-view-versus-a-copy\n",
            "  errors=errors,\n",
            "/usr/local/lib/python3.7/dist-packages/pandas/core/frame.py:4174: SettingWithCopyWarning: \n",
            "A value is trying to be set on a copy of a slice from a DataFrame\n",
            "\n",
            "See the caveats in the documentation: https://pandas.pydata.org/pandas-docs/stable/user_guide/indexing.html#returning-a-view-versus-a-copy\n",
            "  errors=errors,\n",
            "/usr/local/lib/python3.7/dist-packages/pandas/core/frame.py:4174: SettingWithCopyWarning: \n",
            "A value is trying to be set on a copy of a slice from a DataFrame\n",
            "\n",
            "See the caveats in the documentation: https://pandas.pydata.org/pandas-docs/stable/user_guide/indexing.html#returning-a-view-versus-a-copy\n",
            "  errors=errors,\n",
            "/usr/local/lib/python3.7/dist-packages/pandas/core/frame.py:4174: SettingWithCopyWarning: \n",
            "A value is trying to be set on a copy of a slice from a DataFrame\n",
            "\n",
            "See the caveats in the documentation: https://pandas.pydata.org/pandas-docs/stable/user_guide/indexing.html#returning-a-view-versus-a-copy\n",
            "  errors=errors,\n",
            "/usr/local/lib/python3.7/dist-packages/pandas/core/frame.py:4174: SettingWithCopyWarning: \n",
            "A value is trying to be set on a copy of a slice from a DataFrame\n",
            "\n",
            "See the caveats in the documentation: https://pandas.pydata.org/pandas-docs/stable/user_guide/indexing.html#returning-a-view-versus-a-copy\n",
            "  errors=errors,\n",
            "/usr/local/lib/python3.7/dist-packages/pandas/core/frame.py:4174: SettingWithCopyWarning: \n",
            "A value is trying to be set on a copy of a slice from a DataFrame\n",
            "\n",
            "See the caveats in the documentation: https://pandas.pydata.org/pandas-docs/stable/user_guide/indexing.html#returning-a-view-versus-a-copy\n",
            "  errors=errors,\n",
            "/usr/local/lib/python3.7/dist-packages/pandas/core/frame.py:4174: SettingWithCopyWarning: \n",
            "A value is trying to be set on a copy of a slice from a DataFrame\n",
            "\n",
            "See the caveats in the documentation: https://pandas.pydata.org/pandas-docs/stable/user_guide/indexing.html#returning-a-view-versus-a-copy\n",
            "  errors=errors,\n",
            "/usr/local/lib/python3.7/dist-packages/pandas/core/frame.py:4174: SettingWithCopyWarning: \n",
            "A value is trying to be set on a copy of a slice from a DataFrame\n",
            "\n",
            "See the caveats in the documentation: https://pandas.pydata.org/pandas-docs/stable/user_guide/indexing.html#returning-a-view-versus-a-copy\n",
            "  errors=errors,\n",
            "/usr/local/lib/python3.7/dist-packages/pandas/core/frame.py:4174: SettingWithCopyWarning: \n",
            "A value is trying to be set on a copy of a slice from a DataFrame\n",
            "\n",
            "See the caveats in the documentation: https://pandas.pydata.org/pandas-docs/stable/user_guide/indexing.html#returning-a-view-versus-a-copy\n",
            "  errors=errors,\n",
            "/usr/local/lib/python3.7/dist-packages/pandas/core/frame.py:4174: SettingWithCopyWarning: \n",
            "A value is trying to be set on a copy of a slice from a DataFrame\n",
            "\n",
            "See the caveats in the documentation: https://pandas.pydata.org/pandas-docs/stable/user_guide/indexing.html#returning-a-view-versus-a-copy\n",
            "  errors=errors,\n",
            "/usr/local/lib/python3.7/dist-packages/pandas/core/frame.py:4174: SettingWithCopyWarning: \n",
            "A value is trying to be set on a copy of a slice from a DataFrame\n",
            "\n",
            "See the caveats in the documentation: https://pandas.pydata.org/pandas-docs/stable/user_guide/indexing.html#returning-a-view-versus-a-copy\n",
            "  errors=errors,\n",
            "/usr/local/lib/python3.7/dist-packages/pandas/core/frame.py:4174: SettingWithCopyWarning: \n",
            "A value is trying to be set on a copy of a slice from a DataFrame\n",
            "\n",
            "See the caveats in the documentation: https://pandas.pydata.org/pandas-docs/stable/user_guide/indexing.html#returning-a-view-versus-a-copy\n",
            "  errors=errors,\n",
            "/usr/local/lib/python3.7/dist-packages/pandas/core/frame.py:4174: SettingWithCopyWarning: \n",
            "A value is trying to be set on a copy of a slice from a DataFrame\n",
            "\n",
            "See the caveats in the documentation: https://pandas.pydata.org/pandas-docs/stable/user_guide/indexing.html#returning-a-view-versus-a-copy\n",
            "  errors=errors,\n",
            "/usr/local/lib/python3.7/dist-packages/pandas/core/frame.py:4174: SettingWithCopyWarning: \n",
            "A value is trying to be set on a copy of a slice from a DataFrame\n",
            "\n",
            "See the caveats in the documentation: https://pandas.pydata.org/pandas-docs/stable/user_guide/indexing.html#returning-a-view-versus-a-copy\n",
            "  errors=errors,\n",
            "/usr/local/lib/python3.7/dist-packages/pandas/core/frame.py:4174: SettingWithCopyWarning: \n",
            "A value is trying to be set on a copy of a slice from a DataFrame\n",
            "\n",
            "See the caveats in the documentation: https://pandas.pydata.org/pandas-docs/stable/user_guide/indexing.html#returning-a-view-versus-a-copy\n",
            "  errors=errors,\n",
            "/usr/local/lib/python3.7/dist-packages/pandas/core/frame.py:4174: SettingWithCopyWarning: \n",
            "A value is trying to be set on a copy of a slice from a DataFrame\n",
            "\n",
            "See the caveats in the documentation: https://pandas.pydata.org/pandas-docs/stable/user_guide/indexing.html#returning-a-view-versus-a-copy\n",
            "  errors=errors,\n",
            "/usr/local/lib/python3.7/dist-packages/pandas/core/frame.py:4174: SettingWithCopyWarning: \n",
            "A value is trying to be set on a copy of a slice from a DataFrame\n",
            "\n",
            "See the caveats in the documentation: https://pandas.pydata.org/pandas-docs/stable/user_guide/indexing.html#returning-a-view-versus-a-copy\n",
            "  errors=errors,\n",
            "/usr/local/lib/python3.7/dist-packages/pandas/core/frame.py:4174: SettingWithCopyWarning: \n",
            "A value is trying to be set on a copy of a slice from a DataFrame\n",
            "\n",
            "See the caveats in the documentation: https://pandas.pydata.org/pandas-docs/stable/user_guide/indexing.html#returning-a-view-versus-a-copy\n",
            "  errors=errors,\n",
            "/usr/local/lib/python3.7/dist-packages/pandas/core/frame.py:4174: SettingWithCopyWarning: \n",
            "A value is trying to be set on a copy of a slice from a DataFrame\n",
            "\n",
            "See the caveats in the documentation: https://pandas.pydata.org/pandas-docs/stable/user_guide/indexing.html#returning-a-view-versus-a-copy\n",
            "  errors=errors,\n",
            "/usr/local/lib/python3.7/dist-packages/pandas/core/frame.py:4174: SettingWithCopyWarning: \n",
            "A value is trying to be set on a copy of a slice from a DataFrame\n",
            "\n",
            "See the caveats in the documentation: https://pandas.pydata.org/pandas-docs/stable/user_guide/indexing.html#returning-a-view-versus-a-copy\n",
            "  errors=errors,\n",
            "/usr/local/lib/python3.7/dist-packages/pandas/core/frame.py:4174: SettingWithCopyWarning: \n",
            "A value is trying to be set on a copy of a slice from a DataFrame\n",
            "\n",
            "See the caveats in the documentation: https://pandas.pydata.org/pandas-docs/stable/user_guide/indexing.html#returning-a-view-versus-a-copy\n",
            "  errors=errors,\n",
            "/usr/local/lib/python3.7/dist-packages/pandas/core/frame.py:4174: SettingWithCopyWarning: \n",
            "A value is trying to be set on a copy of a slice from a DataFrame\n",
            "\n",
            "See the caveats in the documentation: https://pandas.pydata.org/pandas-docs/stable/user_guide/indexing.html#returning-a-view-versus-a-copy\n",
            "  errors=errors,\n",
            "/usr/local/lib/python3.7/dist-packages/pandas/core/frame.py:4174: SettingWithCopyWarning: \n",
            "A value is trying to be set on a copy of a slice from a DataFrame\n",
            "\n",
            "See the caveats in the documentation: https://pandas.pydata.org/pandas-docs/stable/user_guide/indexing.html#returning-a-view-versus-a-copy\n",
            "  errors=errors,\n",
            "/usr/local/lib/python3.7/dist-packages/pandas/core/frame.py:4174: SettingWithCopyWarning: \n",
            "A value is trying to be set on a copy of a slice from a DataFrame\n",
            "\n",
            "See the caveats in the documentation: https://pandas.pydata.org/pandas-docs/stable/user_guide/indexing.html#returning-a-view-versus-a-copy\n",
            "  errors=errors,\n",
            "/usr/local/lib/python3.7/dist-packages/pandas/core/frame.py:4174: SettingWithCopyWarning: \n",
            "A value is trying to be set on a copy of a slice from a DataFrame\n",
            "\n",
            "See the caveats in the documentation: https://pandas.pydata.org/pandas-docs/stable/user_guide/indexing.html#returning-a-view-versus-a-copy\n",
            "  errors=errors,\n",
            "/usr/local/lib/python3.7/dist-packages/pandas/core/frame.py:4174: SettingWithCopyWarning: \n",
            "A value is trying to be set on a copy of a slice from a DataFrame\n",
            "\n",
            "See the caveats in the documentation: https://pandas.pydata.org/pandas-docs/stable/user_guide/indexing.html#returning-a-view-versus-a-copy\n",
            "  errors=errors,\n",
            "/usr/local/lib/python3.7/dist-packages/pandas/core/frame.py:4174: SettingWithCopyWarning: \n",
            "A value is trying to be set on a copy of a slice from a DataFrame\n",
            "\n",
            "See the caveats in the documentation: https://pandas.pydata.org/pandas-docs/stable/user_guide/indexing.html#returning-a-view-versus-a-copy\n",
            "  errors=errors,\n",
            "/usr/local/lib/python3.7/dist-packages/pandas/core/frame.py:4174: SettingWithCopyWarning: \n",
            "A value is trying to be set on a copy of a slice from a DataFrame\n",
            "\n",
            "See the caveats in the documentation: https://pandas.pydata.org/pandas-docs/stable/user_guide/indexing.html#returning-a-view-versus-a-copy\n",
            "  errors=errors,\n",
            "/usr/local/lib/python3.7/dist-packages/pandas/core/frame.py:4174: SettingWithCopyWarning: \n",
            "A value is trying to be set on a copy of a slice from a DataFrame\n",
            "\n",
            "See the caveats in the documentation: https://pandas.pydata.org/pandas-docs/stable/user_guide/indexing.html#returning-a-view-versus-a-copy\n",
            "  errors=errors,\n",
            "/usr/local/lib/python3.7/dist-packages/pandas/core/frame.py:4174: SettingWithCopyWarning: \n",
            "A value is trying to be set on a copy of a slice from a DataFrame\n",
            "\n",
            "See the caveats in the documentation: https://pandas.pydata.org/pandas-docs/stable/user_guide/indexing.html#returning-a-view-versus-a-copy\n",
            "  errors=errors,\n",
            "/usr/local/lib/python3.7/dist-packages/pandas/core/frame.py:4174: SettingWithCopyWarning: \n",
            "A value is trying to be set on a copy of a slice from a DataFrame\n",
            "\n",
            "See the caveats in the documentation: https://pandas.pydata.org/pandas-docs/stable/user_guide/indexing.html#returning-a-view-versus-a-copy\n",
            "  errors=errors,\n",
            "/usr/local/lib/python3.7/dist-packages/pandas/core/frame.py:4174: SettingWithCopyWarning: \n",
            "A value is trying to be set on a copy of a slice from a DataFrame\n",
            "\n",
            "See the caveats in the documentation: https://pandas.pydata.org/pandas-docs/stable/user_guide/indexing.html#returning-a-view-versus-a-copy\n",
            "  errors=errors,\n",
            "/usr/local/lib/python3.7/dist-packages/pandas/core/frame.py:4174: SettingWithCopyWarning: \n",
            "A value is trying to be set on a copy of a slice from a DataFrame\n",
            "\n",
            "See the caveats in the documentation: https://pandas.pydata.org/pandas-docs/stable/user_guide/indexing.html#returning-a-view-versus-a-copy\n",
            "  errors=errors,\n",
            "/usr/local/lib/python3.7/dist-packages/pandas/core/frame.py:4174: SettingWithCopyWarning: \n",
            "A value is trying to be set on a copy of a slice from a DataFrame\n",
            "\n",
            "See the caveats in the documentation: https://pandas.pydata.org/pandas-docs/stable/user_guide/indexing.html#returning-a-view-versus-a-copy\n",
            "  errors=errors,\n",
            "/usr/local/lib/python3.7/dist-packages/pandas/core/frame.py:4174: SettingWithCopyWarning: \n",
            "A value is trying to be set on a copy of a slice from a DataFrame\n",
            "\n",
            "See the caveats in the documentation: https://pandas.pydata.org/pandas-docs/stable/user_guide/indexing.html#returning-a-view-versus-a-copy\n",
            "  errors=errors,\n"
          ]
        },
        {
          "output_type": "stream",
          "name": "stdout",
          "text": [
            "[0.8875, 0.9666666666666667, 0.9583333333333334, 0.9583333333333334, 0.9166666666666666, 0.9458333333333333, 0.9333333333333333, 0.9833333333333333, 0.9666666666666667, 0.9708333333333333, 0.9291666666666667, 0.8875, 0.9791666666666666, 0.975, 0.9333333333333333, 0.9458333333333333, 0.8916666666666667, 0.9625, 0.9625, 0.9125, 0.9291666666666667, 0.9333333333333333, 0.9791666666666666, 0.9541666666666667, 0.9416666666666667, 0.8875, 0.925, 0.9583333333333334, 0.9541666666666667, 0.95, 0.975, 0.95, 0.95, 0.9416666666666667, 0.9458333333333333, 0.9583333333333334, 0.9625, 0.9708333333333333, 0.9458333333333333, 0.9041666666666667, 0.9208333333333333, 0.9375, 0.9458333333333333, 0.9583333333333334, 0.9458333333333333, 0.9791666666666666, 0.9958333333333333, 0.9208333333333333, 1.0, 0.9791666666666666, 0.95]\n",
            "Mean KNN Accuracy && Mean EER   :-  0.9473856209150328 0.0772875816993464\n",
            "[0.925, 0.9833333333333333, 0.9666666666666667, 0.9625, 0.9666666666666667, 0.95, 0.95, 0.9791666666666666, 0.9791666666666666, 0.975, 0.9416666666666667, 0.9833333333333333, 0.9833333333333333, 0.9458333333333333, 0.9791666666666666, 0.9625, 0.9541666666666667, 0.9666666666666667, 0.975, 0.9541666666666667, 0.9375, 0.9791666666666666, 0.9833333333333333, 0.9583333333333334, 0.9416666666666667, 0.9083333333333333, 0.9416666666666667, 0.9708333333333333, 0.9708333333333333, 0.9833333333333333, 0.9708333333333333, 0.9458333333333333, 0.9666666666666667, 0.9625, 0.9958333333333333, 0.9791666666666666, 0.9625, 0.9875, 0.9708333333333333, 0.9541666666666667, 0.9166666666666666, 0.9583333333333334, 0.9458333333333333, 0.9583333333333334, 0.9666666666666667, 0.9875, 0.9916666666666667, 0.9458333333333333, 0.9958333333333333, 0.9625, 0.9625]\n",
            "Mean Accuracy && Mean EER   :-  0.963643790849673 0.02696078431372549\n",
            "[0.9416666666666667, 0.9625, 0.9833333333333333, 0.9833333333333333, 0.9458333333333333, 0.9416666666666667, 0.9958333333333333, 0.9833333333333333, 0.9791666666666666, 0.9833333333333333, 0.9791666666666666, 0.9583333333333334, 0.9958333333333333, 0.95, 0.9833333333333333, 0.9625, 0.9583333333333334, 1.0, 0.9833333333333333, 0.9708333333333333, 0.9583333333333334, 0.9875, 0.9916666666666667, 0.975, 0.9625, 0.925, 0.9416666666666667, 0.9875, 0.9625, 0.9833333333333333, 1.0, 0.9666666666666667, 0.9541666666666667, 0.9666666666666667, 0.9833333333333333, 0.9875, 0.9541666666666667, 0.9916666666666667, 0.9791666666666666, 0.9666666666666667, 0.95, 0.9541666666666667, 0.9833333333333333, 0.9708333333333333, 0.9708333333333333, 0.9958333333333333, 0.9833333333333333, 0.9541666666666667, 0.9916666666666667, 0.9708333333333333, 0.9666666666666667]\n",
            "Mean Accuracy && Mean EER   :-  0.9717320261437908 0.01454248366013072\n",
            "[0.7625, 0.9125, 0.8541666666666666, 0.8791666666666667, 0.8708333333333333, 0.8625, 0.9125, 0.9083333333333333, 0.9333333333333333, 0.8958333333333334, 0.8125, 0.8166666666666667, 0.9541666666666667, 0.8041666666666667, 0.8916666666666667, 0.825, 0.8, 0.9375, 0.9458333333333333, 0.8416666666666667, 0.9166666666666666, 0.8666666666666667, 0.9375, 0.9, 0.8125, 0.725, 0.7291666666666666, 0.9166666666666666, 0.7875, 0.8625, 0.9791666666666666, 0.8083333333333333, 0.7916666666666666, 0.9208333333333333, 0.8916666666666667, 0.9416666666666667, 0.8958333333333334, 0.9375, 0.8541666666666666, 0.7541666666666667, 0.6541666666666667, 0.8666666666666667, 0.8708333333333333, 0.825, 0.9, 0.9666666666666667, 0.9375, 0.8458333333333333, 0.9583333333333334, 0.8458333333333333, 0.8583333333333333]\n",
            "Mean Accuracy && Mean EER   :-  0.8662581699346406 0.1849673202614379\n",
            "[0.8083333333333333, 0.9166666666666666, 0.8583333333333333, 0.8916666666666667, 0.8833333333333333, 0.9, 0.9666666666666667, 0.8708333333333333, 0.8708333333333333, 0.8875, 0.7166666666666667, 0.8, 0.925, 0.825, 0.8208333333333333, 0.8708333333333333, 0.8666666666666667, 0.9375, 0.8875, 0.8916666666666667, 0.85, 0.875, 0.8833333333333333, 0.825, 0.7791666666666667, 0.7083333333333334, 0.8291666666666667, 0.7875, 0.8583333333333333, 0.7041666666666667, 0.9625, 0.8583333333333333, 0.775, 0.7583333333333333, 0.9208333333333333, 0.7958333333333333, 0.8625, 0.7541666666666667, 0.85, 0.7833333333333333, 0.6625, 0.8625, 0.9166666666666666, 0.8625, 0.8666666666666667, 0.9, 0.8416666666666667, 0.7416666666666667, 0.9, 0.8333333333333334, 0.8416666666666667]\n",
            "Mean Accuracy && Mean EER   :-  0.8440359477124183 0.14820261437908497\n",
            "[0.9416666666666667, 0.9625, 0.9833333333333333, 0.9875, 0.9458333333333333, 0.9375, 0.975, 0.9833333333333333, 0.9833333333333333, 0.9791666666666666, 0.9666666666666667, 0.9666666666666667, 0.9958333333333333, 0.9541666666666667, 0.9791666666666666, 0.9625, 0.9625, 0.9875, 0.9833333333333333, 0.9625, 0.9625, 0.9833333333333333, 0.9916666666666667, 0.9583333333333334, 0.9583333333333334, 0.9375, 0.9416666666666667, 0.975, 0.9583333333333334, 0.9791666666666666, 1.0, 0.9666666666666667, 0.95, 0.9625, 0.9875, 0.9875, 0.9541666666666667, 0.9875, 0.9791666666666666, 0.9666666666666667, 0.9625, 0.9541666666666667, 0.975, 0.975, 0.9708333333333333, 0.9958333333333333, 0.9875, 0.95, 0.9916666666666667, 0.9708333333333333, 0.9625]\n",
            "Mean Accuracy && Mean EER   :-  0.9702614379084967 0.007516339869281046\n"
          ]
        }
      ]
    },
    {
      "cell_type": "markdown",
      "source": [
        "# **Plotting Bar Chart for all Models**"
      ],
      "metadata": {
        "id": "zK4RL9Aymxze"
      }
    },
    {
      "cell_type": "code",
      "source": [
        "\n",
        "\n",
        "\n",
        "\n",
        "w=0.16\n",
        "x=[ 'KNN'  ,   'SVM' , 'RF' , 'NB' ,  'DT' , 'Stacking'  ]\n",
        "\n",
        "\n",
        "mean_acc =[  Mean_KNN_Acc , Mean_SVM_Acc , Mean_RF_Acc     , Mean_NB_Acc    , Mean_DT_Acc , Mean_Stacking_Acc  ]\n",
        "mean_eer =[   Mean_KNN_EER ,  Mean_SVM_EER  , Mean_RF_EER ,  Mean_NB_EER    , Mean_DT_EER , Mean_Stacking_EER  ]\n",
        "\n",
        "\n",
        "bar1 = np.arange(len(x))\n",
        "bar2 = [i+w for i in bar1]\n",
        "\n",
        "\n",
        "\n",
        "plt.rcParams[\"figure.figsize\"] = (13, 9)\n",
        "\n",
        "bar11=plt.bar(bar1,mean_acc,w,label='Mean Accuracy')\n",
        "bar22=plt.bar(bar2,mean_eer,w,label='Mean EER')\n",
        "\n",
        "\n",
        "for rect in bar11 + bar22 :\n",
        "    height = rect.get_height()\n",
        "    height =float(f'{height:.3f}')\n",
        "    if height > 0:\n",
        "        plt.text(rect.get_x() + rect.get_width()/2.,\n",
        "             1.002*height,'%s' % (height), ha='center', va='bottom') \n",
        "\n",
        "plt.xticks(bar2,x)\n",
        "plt.title('Mean Accuracy and Mean EER for all Models')        \n",
        "plt.legend()\n",
        "plt.tight_layout()\n",
        "plt.show( )  \n",
        "\n",
        "\n"
      ],
      "metadata": {
        "colab": {
          "base_uri": "https://localhost:8080/",
          "height": 657
        },
        "id": "0CApq2Z7ibLa",
        "outputId": "72719556-3668-4314-eb78-a587ba600ab4"
      },
      "execution_count": 98,
      "outputs": [
        {
          "output_type": "display_data",
          "data": {
            "image/png": "[encoded data removed]",
            "text/plain": [
              "<Figure size 936x648 with 1 Axes>"
            ]
          },
          "metadata": {
            "needs_background": "light"
          }
        }
      ]
    },
    {
      "cell_type": "code",
      "source": [
        ""
      ],
      "metadata": {
        "id": "SQ_-Rqmco4tm"
      },
      "execution_count": null,
      "outputs": []
    }
  ]
}